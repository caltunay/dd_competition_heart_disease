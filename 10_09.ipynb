{
  "nbformat": 4,
  "nbformat_minor": 0,
  "metadata": {
    "colab": {
      "name": "10/09.ipynb",
      "provenance": [],
      "include_colab_link": true
    },
    "kernelspec": {
      "name": "python3",
      "display_name": "Python 3"
    },
    "accelerator": "TPU"
  },
  "cells": [
    {
      "cell_type": "markdown",
      "metadata": {
        "id": "view-in-github",
        "colab_type": "text"
      },
      "source": [
        "<a href=\"https://colab.research.google.com/github/caltunay/dd_competition_heart_disease/blob/master/10_09.ipynb\" target=\"_parent\"><img src=\"https://colab.research.google.com/assets/colab-badge.svg\" alt=\"Open In Colab\"/></a>"
      ]
    },
    {
      "cell_type": "code",
      "metadata": {
        "id": "toZJDCH890Dp",
        "colab_type": "code",
        "outputId": "f2c0ee8d-5d9c-4e1f-9778-8146015a4dd5",
        "colab": {
          "base_uri": "https://localhost:8080/",
          "height": 128
        }
      },
      "source": [
        "from google.colab import drive\n",
        "drive.mount('/content/drive')"
      ],
      "execution_count": 0,
      "outputs": [
        {
          "output_type": "stream",
          "text": [
            "Go to this URL in a browser: https://accounts.google.com/o/oauth2/auth?client_id=947318989803-6bn6qk8qdgf4n4g3pfee6491hc0brc4i.apps.googleusercontent.com&redirect_uri=urn%3Aietf%3Awg%3Aoauth%3A2.0%3Aoob&scope=email%20https%3A%2F%2Fwww.googleapis.com%2Fauth%2Fdocs.test%20https%3A%2F%2Fwww.googleapis.com%2Fauth%2Fdrive%20https%3A%2F%2Fwww.googleapis.com%2Fauth%2Fdrive.photos.readonly%20https%3A%2F%2Fwww.googleapis.com%2Fauth%2Fpeopleapi.readonly&response_type=code\n",
            "\n",
            "Enter your authorization code:\n",
            "··········\n",
            "Mounted at /content/drive\n"
          ],
          "name": "stdout"
        }
      ]
    },
    {
      "cell_type": "code",
      "metadata": {
        "id": "oB7ZLUCD-GNA",
        "colab_type": "code",
        "colab": {}
      },
      "source": [
        "import pandas as pd \n",
        "import numpy as np\n",
        "\n",
        "test_vals = '/content/drive/My Drive/Colab Notebooks/Data/Competition - DrivenData - Heart Disease Prediction/test_values (1).csv'\n",
        "\n",
        "train_vals = '/content/drive/My Drive/Colab Notebooks/Data/Competition - DrivenData - Heart Disease Prediction/train_values (1).csv'\n",
        "train_labs = '/content/drive/My Drive/Colab Notebooks/Data/Competition - DrivenData - Heart Disease Prediction/train_labels (1).csv'"
      ],
      "execution_count": 0,
      "outputs": []
    },
    {
      "cell_type": "code",
      "metadata": {
        "id": "ytX7VM-8uwQj",
        "colab_type": "code",
        "colab": {}
      },
      "source": [
        "submis_df = pd.read_csv(test_vals)"
      ],
      "execution_count": 0,
      "outputs": []
    },
    {
      "cell_type": "code",
      "metadata": {
        "id": "rGQ1LmXl-JAx",
        "colab_type": "code",
        "colab": {}
      },
      "source": [
        "all = pd.merge(left = pd.read_csv(train_vals), right = pd.read_csv(train_labs), on = 'patient_id', how = 'inner')"
      ],
      "execution_count": 0,
      "outputs": []
    },
    {
      "cell_type": "code",
      "metadata": {
        "id": "Sg67Zt92N41z",
        "colab_type": "code",
        "outputId": "05fab21c-a93f-4856-b740-d2e2a4066063",
        "colab": {
          "base_uri": "https://localhost:8080/",
          "height": 308
        }
      },
      "source": [
        "# all.nunique()[all.nunique() != 2].sort_values()\n",
        "all.nunique().sort_values()"
      ],
      "execution_count": 0,
      "outputs": [
        {
          "output_type": "execute_result",
          "data": {
            "text/plain": [
              "fasting_blood_sugar_gt_120_mg_per_dl      2\n",
              "sex                                       2\n",
              "exercise_induced_angina                   2\n",
              "heart_disease_present                     2\n",
              "slope_of_peak_exercise_st_segment         3\n",
              "thal                                      3\n",
              "resting_ekg_results                       3\n",
              "chest_pain_type                           4\n",
              "num_major_vessels                         4\n",
              "oldpeak_eq_st_depression                 34\n",
              "resting_blood_pressure                   36\n",
              "age                                      40\n",
              "max_heart_rate_achieved                  73\n",
              "serum_cholesterol_mg_per_dl             118\n",
              "patient_id                              180\n",
              "dtype: int64"
            ]
          },
          "metadata": {
            "tags": []
          },
          "execution_count": 10
        }
      ]
    },
    {
      "cell_type": "code",
      "metadata": {
        "id": "f6I-2M8F-K2o",
        "colab_type": "code",
        "outputId": "39918ff9-428e-4b8a-b77a-a3cad01d7c46",
        "colab": {
          "base_uri": "https://localhost:8080/",
          "height": 163
        }
      },
      "source": [
        "cats = 'slope_of_peak_exercise_st_segment thal chest_pain_type num_major_vessels fasting_blood_sugar_gt_120_mg_per_dl resting_ekg_results sex exercise_induced_angina'.split()\n",
        "\n",
        "cats"
      ],
      "execution_count": 0,
      "outputs": [
        {
          "output_type": "execute_result",
          "data": {
            "text/plain": [
              "['slope_of_peak_exercise_st_segment',\n",
              " 'thal',\n",
              " 'chest_pain_type',\n",
              " 'num_major_vessels',\n",
              " 'fasting_blood_sugar_gt_120_mg_per_dl',\n",
              " 'resting_ekg_results',\n",
              " 'sex',\n",
              " 'exercise_induced_angina']"
            ]
          },
          "metadata": {
            "tags": []
          },
          "execution_count": 33
        }
      ]
    },
    {
      "cell_type": "code",
      "metadata": {
        "id": "8YvQsYyY-PWp",
        "colab_type": "code",
        "outputId": "57229a06-a2f3-420d-fdd0-ccb23b4e8a17",
        "colab": {
          "base_uri": "https://localhost:8080/",
          "height": 108
        }
      },
      "source": [
        "cats.pop(cats.index('fasting_blood_sugar_gt_120_mg_per_dl'))\n",
        "cats.pop(cats.index('exercise_induced_angina'))\n",
        "cats.pop(cats.index('sex'))\n",
        "\n",
        "cats"
      ],
      "execution_count": 0,
      "outputs": [
        {
          "output_type": "execute_result",
          "data": {
            "text/plain": [
              "['slope_of_peak_exercise_st_segment',\n",
              " 'thal',\n",
              " 'chest_pain_type',\n",
              " 'num_major_vessels',\n",
              " 'resting_ekg_results']"
            ]
          },
          "metadata": {
            "tags": []
          },
          "execution_count": 34
        }
      ]
    },
    {
      "cell_type": "code",
      "metadata": {
        "id": "uLqIGSG5DlTH",
        "colab_type": "code",
        "colab": {}
      },
      "source": [
        "all_dummied = pd.get_dummies(data = all, columns = cats, prefix_sep = '|', drop_first = True)"
      ],
      "execution_count": 0,
      "outputs": []
    },
    {
      "cell_type": "code",
      "metadata": {
        "id": "FUPrxP0DaS1v",
        "colab_type": "code",
        "colab": {}
      },
      "source": [
        "sub_dummied = pd.get_dummies(data = submis_df, columns = cats, prefix_sep = '|', drop_first = True)"
      ],
      "execution_count": 0,
      "outputs": []
    },
    {
      "cell_type": "code",
      "metadata": {
        "id": "cKDIhsJBOVgD",
        "colab_type": "code",
        "outputId": "ebd26a18-57e1-4186-db78-e7a9ed8b1531",
        "colab": {
          "base_uri": "https://localhost:8080/",
          "height": 35
        }
      },
      "source": [
        "cont_vals = all_dummied.nunique()[all_dummied.nunique() != 2].sort_values().index.tolist()\n",
        "cont_vals.pop()"
      ],
      "execution_count": 0,
      "outputs": [
        {
          "output_type": "execute_result",
          "data": {
            "text/plain": [
              "'patient_id'"
            ]
          },
          "metadata": {
            "tags": []
          },
          "execution_count": 36
        }
      ]
    },
    {
      "cell_type": "code",
      "metadata": {
        "id": "NgZMkXEMOmjo",
        "colab_type": "code",
        "outputId": "425594ab-b70c-48cc-a6e6-a1feedb6958c",
        "colab": {
          "base_uri": "https://localhost:8080/",
          "height": 288
        }
      },
      "source": [
        "all_dummied[cont_vals].describe()"
      ],
      "execution_count": 0,
      "outputs": [
        {
          "output_type": "execute_result",
          "data": {
            "text/html": [
              "<div>\n",
              "<style scoped>\n",
              "    .dataframe tbody tr th:only-of-type {\n",
              "        vertical-align: middle;\n",
              "    }\n",
              "\n",
              "    .dataframe tbody tr th {\n",
              "        vertical-align: top;\n",
              "    }\n",
              "\n",
              "    .dataframe thead th {\n",
              "        text-align: right;\n",
              "    }\n",
              "</style>\n",
              "<table border=\"1\" class=\"dataframe\">\n",
              "  <thead>\n",
              "    <tr style=\"text-align: right;\">\n",
              "      <th></th>\n",
              "      <th>oldpeak_eq_st_depression</th>\n",
              "      <th>resting_blood_pressure</th>\n",
              "      <th>age</th>\n",
              "      <th>max_heart_rate_achieved</th>\n",
              "      <th>serum_cholesterol_mg_per_dl</th>\n",
              "    </tr>\n",
              "  </thead>\n",
              "  <tbody>\n",
              "    <tr>\n",
              "      <th>count</th>\n",
              "      <td>180.000000</td>\n",
              "      <td>180.000000</td>\n",
              "      <td>180.000000</td>\n",
              "      <td>180.000000</td>\n",
              "      <td>180.000000</td>\n",
              "    </tr>\n",
              "    <tr>\n",
              "      <th>mean</th>\n",
              "      <td>1.010000</td>\n",
              "      <td>131.311111</td>\n",
              "      <td>54.811111</td>\n",
              "      <td>149.483333</td>\n",
              "      <td>249.211111</td>\n",
              "    </tr>\n",
              "    <tr>\n",
              "      <th>std</th>\n",
              "      <td>1.121357</td>\n",
              "      <td>17.010443</td>\n",
              "      <td>9.334737</td>\n",
              "      <td>22.063513</td>\n",
              "      <td>52.717969</td>\n",
              "    </tr>\n",
              "    <tr>\n",
              "      <th>min</th>\n",
              "      <td>0.000000</td>\n",
              "      <td>94.000000</td>\n",
              "      <td>29.000000</td>\n",
              "      <td>96.000000</td>\n",
              "      <td>126.000000</td>\n",
              "    </tr>\n",
              "    <tr>\n",
              "      <th>25%</th>\n",
              "      <td>0.000000</td>\n",
              "      <td>120.000000</td>\n",
              "      <td>48.000000</td>\n",
              "      <td>132.000000</td>\n",
              "      <td>213.750000</td>\n",
              "    </tr>\n",
              "    <tr>\n",
              "      <th>50%</th>\n",
              "      <td>0.800000</td>\n",
              "      <td>130.000000</td>\n",
              "      <td>55.000000</td>\n",
              "      <td>152.000000</td>\n",
              "      <td>245.500000</td>\n",
              "    </tr>\n",
              "    <tr>\n",
              "      <th>75%</th>\n",
              "      <td>1.600000</td>\n",
              "      <td>140.000000</td>\n",
              "      <td>62.000000</td>\n",
              "      <td>166.250000</td>\n",
              "      <td>281.250000</td>\n",
              "    </tr>\n",
              "    <tr>\n",
              "      <th>max</th>\n",
              "      <td>6.200000</td>\n",
              "      <td>180.000000</td>\n",
              "      <td>77.000000</td>\n",
              "      <td>202.000000</td>\n",
              "      <td>564.000000</td>\n",
              "    </tr>\n",
              "  </tbody>\n",
              "</table>\n",
              "</div>"
            ],
            "text/plain": [
              "       oldpeak_eq_st_depression  ...  serum_cholesterol_mg_per_dl\n",
              "count                180.000000  ...                   180.000000\n",
              "mean                   1.010000  ...                   249.211111\n",
              "std                    1.121357  ...                    52.717969\n",
              "min                    0.000000  ...                   126.000000\n",
              "25%                    0.000000  ...                   213.750000\n",
              "50%                    0.800000  ...                   245.500000\n",
              "75%                    1.600000  ...                   281.250000\n",
              "max                    6.200000  ...                   564.000000\n",
              "\n",
              "[8 rows x 5 columns]"
            ]
          },
          "metadata": {
            "tags": []
          },
          "execution_count": 37
        }
      ]
    },
    {
      "cell_type": "code",
      "metadata": {
        "id": "8u-Jv5RwOv0Y",
        "colab_type": "code",
        "colab": {}
      },
      "source": [
        "import matplotlib.pyplot as plt\n",
        "import seaborn as sns"
      ],
      "execution_count": 0,
      "outputs": []
    },
    {
      "cell_type": "code",
      "metadata": {
        "id": "ZsEYNwrHO0oG",
        "colab_type": "code",
        "outputId": "4165b0a2-226b-42eb-dfe2-03ca3541363a",
        "colab": {
          "base_uri": "https://localhost:8080/",
          "height": 327
        }
      },
      "source": [
        "n = 1\n",
        "m = 1 \n",
        "plt.figure(figsize = (20,8))\n",
        "\n",
        "\n",
        "for col in cont_vals:\n",
        "#     plt.subplot(1,5,n)\n",
        "#     sns.distplot(all_dummied[col])\n",
        "#     plt.title(all_dummied[col].skew().round(2))\n",
        "#     n+=1\n",
        "\n",
        "    plt.subplot(2,5,m)\n",
        "    sns.boxplot(all_dummied[col])\n",
        "    plt.title(all_dummied[col].skew().round(2))\n",
        "    m+=1\n",
        "\n",
        "plt.tight_layout()\n",
        "plt.show();"
      ],
      "execution_count": 0,
      "outputs": [
        {
          "output_type": "display_data",
          "data": {
            "image/png": "[encoded data removed]",
            "text/plain": [
              "<Figure size 1440x576 with 5 Axes>"
            ]
          },
          "metadata": {
            "tags": []
          }
        }
      ]
    },
    {
      "cell_type": "code",
      "metadata": {
        "id": "vzYpsTc4QXRd",
        "colab_type": "code",
        "colab": {}
      },
      "source": [
        ""
      ],
      "execution_count": 0,
      "outputs": []
    },
    {
      "cell_type": "code",
      "metadata": {
        "id": "3Vlpev2pP26w",
        "colab_type": "code",
        "colab": {}
      },
      "source": [
        "upper_oldpeak = all_dummied['oldpeak_eq_st_depression'].quantile(.95)\n",
        "lower_oldpeak = all_dummied['oldpeak_eq_st_depression'].quantile(.05)\n",
        "\n",
        "all_dummied['oldpeak_eq_st_depression'] = np.clip(all_dummied['oldpeak_eq_st_depression'], a_min = lower_oldpeak, a_max = upper_oldpeak)"
      ],
      "execution_count": 0,
      "outputs": []
    },
    {
      "cell_type": "code",
      "metadata": {
        "id": "4JQEdcs4ae2N",
        "colab_type": "code",
        "colab": {}
      },
      "source": [
        "sub_dummied['oldpeak_eq_st_depression'] = np.clip(sub_dummied['oldpeak_eq_st_depression'], a_min = lower_oldpeak, a_max = upper_oldpeak)"
      ],
      "execution_count": 0,
      "outputs": []
    },
    {
      "cell_type": "code",
      "metadata": {
        "id": "XVqQuxnFQd4V",
        "colab_type": "code",
        "colab": {}
      },
      "source": [
        "upper_resting = all_dummied['resting_blood_pressure'].quantile(.95)\n",
        "lower_resting = all_dummied['resting_blood_pressure'].quantile(.05)\n",
        "\n",
        "all_dummied['resting_blood_pressure'] = np.clip(all_dummied['resting_blood_pressure'], a_min = lower_resting, a_max = upper_resting)"
      ],
      "execution_count": 0,
      "outputs": []
    },
    {
      "cell_type": "code",
      "metadata": {
        "id": "uHOZmqBGalJj",
        "colab_type": "code",
        "colab": {}
      },
      "source": [
        "sub_dummied['resting_blood_pressure'] = np.clip(sub_dummied['resting_blood_pressure'], a_min = lower_resting, a_max = upper_resting)"
      ],
      "execution_count": 0,
      "outputs": []
    },
    {
      "cell_type": "code",
      "metadata": {
        "id": "0xouJe77P2_i",
        "colab_type": "code",
        "colab": {}
      },
      "source": [
        "upper_serum = all_dummied['serum_cholesterol_mg_per_dl'].quantile(.95)\n",
        "lower_serum = all_dummied['serum_cholesterol_mg_per_dl'].quantile(.05)\n",
        "\n",
        "all_dummied['serum_cholesterol_mg_per_dl'] = np.clip(all_dummied['serum_cholesterol_mg_per_dl'], a_min = lower_serum, a_max = upper_serum)"
      ],
      "execution_count": 0,
      "outputs": []
    },
    {
      "cell_type": "code",
      "metadata": {
        "id": "jqrzRvaBaam6",
        "colab_type": "code",
        "colab": {}
      },
      "source": [
        "sub_dummied['serum_cholesterol_mg_per_dl'] = np.clip(sub_dummied['serum_cholesterol_mg_per_dl'], a_min = lower_serum, a_max = upper_serum)"
      ],
      "execution_count": 0,
      "outputs": []
    },
    {
      "cell_type": "code",
      "metadata": {
        "id": "Exr0On_ZP3Bt",
        "colab_type": "code",
        "outputId": "71ea8c42-aea8-4bde-9e6d-134324d111f7",
        "colab": {
          "base_uri": "https://localhost:8080/",
          "height": 327
        }
      },
      "source": [
        "n = 1\n",
        "m = 1 \n",
        "plt.figure(figsize = (20,8))\n",
        "\n",
        "\n",
        "for col in cont_vals:\n",
        "#     plt.subplot(1,5,n)\n",
        "#     sns.distplot(all_dummied[col])\n",
        "#     plt.title(all_dummied[col].skew().round(2))\n",
        "#     n+=1\n",
        "\n",
        "    plt.subplot(2,5,m)\n",
        "    sns.boxplot(all_dummied[col])\n",
        "    plt.title(all_dummied[col].skew().round(2))\n",
        "    m+=1\n",
        "\n",
        "plt.tight_layout()\n",
        "plt.show();\n"
      ],
      "execution_count": 0,
      "outputs": [
        {
          "output_type": "display_data",
          "data": {
            "image/png": "[encoded data removed]",
            "text/plain": [
              "<Figure size 1440x576 with 5 Axes>"
            ]
          },
          "metadata": {
            "tags": []
          }
        }
      ]
    },
    {
      "cell_type": "code",
      "metadata": {
        "id": "_bsWoLTRP3EG",
        "colab_type": "code",
        "colab": {}
      },
      "source": [
        "from sklearn.preprocessing import StandardScaler"
      ],
      "execution_count": 0,
      "outputs": []
    },
    {
      "cell_type": "code",
      "metadata": {
        "id": "Q_D-MGu5ay6r",
        "colab_type": "code",
        "outputId": "24479d39-88d3-4177-f7a6-3dad0bf316f3",
        "colab": {
          "base_uri": "https://localhost:8080/",
          "height": 218
        }
      },
      "source": [
        "sub_dummied.head()"
      ],
      "execution_count": 0,
      "outputs": [
        {
          "output_type": "execute_result",
          "data": {
            "text/html": [
              "<div>\n",
              "<style scoped>\n",
              "    .dataframe tbody tr th:only-of-type {\n",
              "        vertical-align: middle;\n",
              "    }\n",
              "\n",
              "    .dataframe tbody tr th {\n",
              "        vertical-align: top;\n",
              "    }\n",
              "\n",
              "    .dataframe thead th {\n",
              "        text-align: right;\n",
              "    }\n",
              "</style>\n",
              "<table border=\"1\" class=\"dataframe\">\n",
              "  <thead>\n",
              "    <tr style=\"text-align: right;\">\n",
              "      <th></th>\n",
              "      <th>patient_id</th>\n",
              "      <th>resting_blood_pressure</th>\n",
              "      <th>fasting_blood_sugar_gt_120_mg_per_dl</th>\n",
              "      <th>serum_cholesterol_mg_per_dl</th>\n",
              "      <th>oldpeak_eq_st_depression</th>\n",
              "      <th>sex</th>\n",
              "      <th>age</th>\n",
              "      <th>max_heart_rate_achieved</th>\n",
              "      <th>exercise_induced_angina</th>\n",
              "      <th>slope_of_peak_exercise_st_segment|2</th>\n",
              "      <th>slope_of_peak_exercise_st_segment|3</th>\n",
              "      <th>thal|normal</th>\n",
              "      <th>thal|reversible_defect</th>\n",
              "      <th>chest_pain_type|2</th>\n",
              "      <th>chest_pain_type|3</th>\n",
              "      <th>chest_pain_type|4</th>\n",
              "      <th>num_major_vessels|1</th>\n",
              "      <th>num_major_vessels|2</th>\n",
              "      <th>num_major_vessels|3</th>\n",
              "      <th>resting_ekg_results|1</th>\n",
              "      <th>resting_ekg_results|2</th>\n",
              "    </tr>\n",
              "  </thead>\n",
              "  <tbody>\n",
              "    <tr>\n",
              "      <th>0</th>\n",
              "      <td>olalu7</td>\n",
              "      <td>160</td>\n",
              "      <td>0</td>\n",
              "      <td>288.0</td>\n",
              "      <td>0.200</td>\n",
              "      <td>1</td>\n",
              "      <td>59</td>\n",
              "      <td>159</td>\n",
              "      <td>0</td>\n",
              "      <td>1</td>\n",
              "      <td>0</td>\n",
              "      <td>0</td>\n",
              "      <td>1</td>\n",
              "      <td>0</td>\n",
              "      <td>0</td>\n",
              "      <td>0</td>\n",
              "      <td>0</td>\n",
              "      <td>0</td>\n",
              "      <td>0</td>\n",
              "      <td>0</td>\n",
              "      <td>1</td>\n",
              "    </tr>\n",
              "    <tr>\n",
              "      <th>1</th>\n",
              "      <td>z9n6mx</td>\n",
              "      <td>138</td>\n",
              "      <td>0</td>\n",
              "      <td>183.0</td>\n",
              "      <td>1.400</td>\n",
              "      <td>0</td>\n",
              "      <td>35</td>\n",
              "      <td>182</td>\n",
              "      <td>0</td>\n",
              "      <td>0</td>\n",
              "      <td>0</td>\n",
              "      <td>1</td>\n",
              "      <td>0</td>\n",
              "      <td>0</td>\n",
              "      <td>0</td>\n",
              "      <td>1</td>\n",
              "      <td>0</td>\n",
              "      <td>0</td>\n",
              "      <td>0</td>\n",
              "      <td>0</td>\n",
              "      <td>0</td>\n",
              "    </tr>\n",
              "    <tr>\n",
              "      <th>2</th>\n",
              "      <td>5k4413</td>\n",
              "      <td>120</td>\n",
              "      <td>0</td>\n",
              "      <td>177.0</td>\n",
              "      <td>2.500</td>\n",
              "      <td>1</td>\n",
              "      <td>43</td>\n",
              "      <td>120</td>\n",
              "      <td>1</td>\n",
              "      <td>1</td>\n",
              "      <td>0</td>\n",
              "      <td>0</td>\n",
              "      <td>1</td>\n",
              "      <td>0</td>\n",
              "      <td>0</td>\n",
              "      <td>1</td>\n",
              "      <td>0</td>\n",
              "      <td>0</td>\n",
              "      <td>0</td>\n",
              "      <td>0</td>\n",
              "      <td>1</td>\n",
              "    </tr>\n",
              "    <tr>\n",
              "      <th>3</th>\n",
              "      <td>mrg7q5</td>\n",
              "      <td>108</td>\n",
              "      <td>0</td>\n",
              "      <td>318.0</td>\n",
              "      <td>0.000</td>\n",
              "      <td>0</td>\n",
              "      <td>60</td>\n",
              "      <td>160</td>\n",
              "      <td>0</td>\n",
              "      <td>0</td>\n",
              "      <td>0</td>\n",
              "      <td>1</td>\n",
              "      <td>0</td>\n",
              "      <td>0</td>\n",
              "      <td>1</td>\n",
              "      <td>0</td>\n",
              "      <td>1</td>\n",
              "      <td>0</td>\n",
              "      <td>0</td>\n",
              "      <td>0</td>\n",
              "      <td>0</td>\n",
              "    </tr>\n",
              "    <tr>\n",
              "      <th>4</th>\n",
              "      <td>uki4do</td>\n",
              "      <td>138</td>\n",
              "      <td>0</td>\n",
              "      <td>173.9</td>\n",
              "      <td>3.005</td>\n",
              "      <td>1</td>\n",
              "      <td>61</td>\n",
              "      <td>125</td>\n",
              "      <td>1</td>\n",
              "      <td>1</td>\n",
              "      <td>0</td>\n",
              "      <td>1</td>\n",
              "      <td>0</td>\n",
              "      <td>0</td>\n",
              "      <td>0</td>\n",
              "      <td>1</td>\n",
              "      <td>1</td>\n",
              "      <td>0</td>\n",
              "      <td>0</td>\n",
              "      <td>0</td>\n",
              "      <td>1</td>\n",
              "    </tr>\n",
              "  </tbody>\n",
              "</table>\n",
              "</div>"
            ],
            "text/plain": [
              "  patient_id  ...  resting_ekg_results|2\n",
              "0     olalu7  ...                      1\n",
              "1     z9n6mx  ...                      0\n",
              "2     5k4413  ...                      1\n",
              "3     mrg7q5  ...                      0\n",
              "4     uki4do  ...                      1\n",
              "\n",
              "[5 rows x 21 columns]"
            ]
          },
          "metadata": {
            "tags": []
          },
          "execution_count": 142
        }
      ]
    },
    {
      "cell_type": "code",
      "metadata": {
        "id": "pPyDW4KNSBJH",
        "colab_type": "code",
        "colab": {}
      },
      "source": [
        "ssx = StandardScaler()"
      ],
      "execution_count": 0,
      "outputs": []
    },
    {
      "cell_type": "code",
      "metadata": {
        "id": "fGsBB-qrP3H9",
        "colab_type": "code",
        "colab": {}
      },
      "source": [
        "scaled_df = pd.DataFrame(ssx.fit_transform(all_dummied[cont_vals]), columns = cont_vals)\n",
        "remainder_df = all_dummied.drop(labels = cont_vals, axis = 1)\n",
        "\n",
        "df_clean = pd.concat([remainder_df,scaled_df], axis = 1)"
      ],
      "execution_count": 0,
      "outputs": []
    },
    {
      "cell_type": "code",
      "metadata": {
        "id": "D2VtKZS2a3lI",
        "colab_type": "code",
        "colab": {}
      },
      "source": [
        "sub_scaled_df = pd.DataFrame(ssx.transform(sub_dummied[cont_vals]), columns = cont_vals)\n",
        "sub_remainder_df = sub_dummied.drop(labels = cont_vals, axis = 1)\n",
        "\n",
        "sub_df_clean = pd.concat([sub_remainder_df,sub_scaled_df], axis = 1)"
      ],
      "execution_count": 0,
      "outputs": []
    },
    {
      "cell_type": "code",
      "metadata": {
        "id": "RFXsSx_XSa8Q",
        "colab_type": "code",
        "outputId": "02974efd-e4bb-43e6-da73-4bbf4a597973",
        "colab": {
          "base_uri": "https://localhost:8080/",
          "height": 74
        }
      },
      "source": [
        "from imblearn.over_sampling import SMOTENC"
      ],
      "execution_count": 0,
      "outputs": [
        {
          "output_type": "stream",
          "text": [
            "/usr/local/lib/python3.6/dist-packages/sklearn/externals/six.py:31: DeprecationWarning: The module is deprecated in version 0.21 and will be removed in version 0.23 since we've dropped support for Python 2.7. Please rely on the official version of six (https://pypi.org/project/six/).\n",
            "  \"(https://pypi.org/project/six/).\", DeprecationWarning)\n"
          ],
          "name": "stderr"
        }
      ]
    },
    {
      "cell_type": "code",
      "metadata": {
        "id": "t626pD0mP3KJ",
        "colab_type": "code",
        "colab": {}
      },
      "source": [
        "x = df_clean.drop(labels = 'patient_id heart_disease_present'.split(), axis = 1)\n",
        "y = df_clean[['heart_disease_present']]"
      ],
      "execution_count": 0,
      "outputs": []
    },
    {
      "cell_type": "code",
      "metadata": {
        "id": "hB3F2g-ibCWI",
        "colab_type": "code",
        "colab": {}
      },
      "source": [
        "sub_x = sub_df_clean.drop(labels = 'patient_id', axis = 1)"
      ],
      "execution_count": 0,
      "outputs": []
    },
    {
      "cell_type": "code",
      "metadata": {
        "id": "FfFDK1SkbJBa",
        "colab_type": "code",
        "outputId": "c2b53716-827d-4adc-a3b6-d0cddf4a4f08",
        "colab": {
          "base_uri": "https://localhost:8080/",
          "height": 399
        }
      },
      "source": [
        "tt = 0\n",
        "\n",
        "for tr, te in zip(x.columns.tolist(), sub_x.columns.tolist()):\n",
        "    print(tr, '\\t',te)\n",
        "    if tr != te:\n",
        "        tt += 1\n",
        "        \n",
        "tt"
      ],
      "execution_count": 0,
      "outputs": [
        {
          "output_type": "stream",
          "text": [
            "fasting_blood_sugar_gt_120_mg_per_dl \t fasting_blood_sugar_gt_120_mg_per_dl\n",
            "sex \t sex\n",
            "exercise_induced_angina \t exercise_induced_angina\n",
            "slope_of_peak_exercise_st_segment|2 \t slope_of_peak_exercise_st_segment|2\n",
            "slope_of_peak_exercise_st_segment|3 \t slope_of_peak_exercise_st_segment|3\n",
            "thal|normal \t thal|normal\n",
            "thal|reversible_defect \t thal|reversible_defect\n",
            "chest_pain_type|2 \t chest_pain_type|2\n",
            "chest_pain_type|3 \t chest_pain_type|3\n",
            "chest_pain_type|4 \t chest_pain_type|4\n",
            "num_major_vessels|1 \t num_major_vessels|1\n",
            "num_major_vessels|2 \t num_major_vessels|2\n",
            "num_major_vessels|3 \t num_major_vessels|3\n",
            "resting_ekg_results|1 \t resting_ekg_results|1\n",
            "resting_ekg_results|2 \t resting_ekg_results|2\n",
            "oldpeak_eq_st_depression \t oldpeak_eq_st_depression\n",
            "resting_blood_pressure \t resting_blood_pressure\n",
            "age \t age\n",
            "max_heart_rate_achieved \t max_heart_rate_achieved\n",
            "serum_cholesterol_mg_per_dl \t serum_cholesterol_mg_per_dl\n"
          ],
          "name": "stdout"
        },
        {
          "output_type": "execute_result",
          "data": {
            "text/plain": [
              "0"
            ]
          },
          "metadata": {
            "tags": []
          },
          "execution_count": 152
        }
      ]
    },
    {
      "cell_type": "code",
      "metadata": {
        "id": "oV6pcHeQP3N-",
        "colab_type": "code",
        "colab": {}
      },
      "source": [
        "from sklearn.model_selection import train_test_split as tts"
      ],
      "execution_count": 0,
      "outputs": []
    },
    {
      "cell_type": "code",
      "metadata": {
        "id": "fnXCZDMfStJU",
        "colab_type": "code",
        "outputId": "48063ffe-612b-4514-fae2-813b533c13be",
        "colab": {
          "base_uri": "https://localhost:8080/",
          "height": 54
        }
      },
      "source": [
        "x_train, x_test, y_train, y_test = tts(x,y,random_state = 12, test_size = .22, stratify = y)\n",
        "\n",
        "print(x_train.shape, x_test.shape,'\\n',y_train.shape, y_test.shape)"
      ],
      "execution_count": 0,
      "outputs": [
        {
          "output_type": "stream",
          "text": [
            "(140, 20) (40, 20) \n",
            " (140, 1) (40, 1)\n"
          ],
          "name": "stdout"
        }
      ]
    },
    {
      "cell_type": "code",
      "metadata": {
        "id": "hzp9roXUTIEX",
        "colab_type": "code",
        "outputId": "a0d9e81b-f3e0-41b7-bd0d-e61d59b2532a",
        "colab": {
          "base_uri": "https://localhost:8080/",
          "height": 72
        }
      },
      "source": [
        "y_test['heart_disease_present'].value_counts(normalize = True)"
      ],
      "execution_count": 0,
      "outputs": [
        {
          "output_type": "execute_result",
          "data": {
            "text/plain": [
              "0    0.55\n",
              "1    0.45\n",
              "Name: heart_disease_present, dtype: float64"
            ]
          },
          "metadata": {
            "tags": []
          },
          "execution_count": 74
        }
      ]
    },
    {
      "cell_type": "code",
      "metadata": {
        "id": "zbehcyigStV7",
        "colab_type": "code",
        "colab": {}
      },
      "source": [
        "el = x_train.nunique().index.tolist()[:15]"
      ],
      "execution_count": 0,
      "outputs": []
    },
    {
      "cell_type": "code",
      "metadata": {
        "id": "M3EFMZL0VIi8",
        "colab_type": "code",
        "outputId": "0994930d-1852-40bd-cbf8-9f5d1991bd58",
        "colab": {
          "base_uri": "https://localhost:8080/",
          "height": 35
        }
      },
      "source": [
        "list(range(0,15))"
      ],
      "execution_count": 0,
      "outputs": [
        {
          "output_type": "execute_result",
          "data": {
            "text/plain": [
              "[0, 1, 2, 3, 4, 5, 6, 7, 8, 9, 10, 11, 12, 13, 14]"
            ]
          },
          "metadata": {
            "tags": []
          },
          "execution_count": 102
        }
      ]
    },
    {
      "cell_type": "code",
      "metadata": {
        "id": "cGydqgEMU0BG",
        "colab_type": "code",
        "colab": {}
      },
      "source": [
        "smnc = SMOTENC(categorical_features = list(range(0,15)))"
      ],
      "execution_count": 0,
      "outputs": []
    },
    {
      "cell_type": "code",
      "metadata": {
        "id": "i_8XHp8TTo6Z",
        "colab_type": "code",
        "outputId": "94dc2268-a369-4c43-ae14-c2596803aa71",
        "colab": {
          "base_uri": "https://localhost:8080/",
          "height": 51
        }
      },
      "source": [
        "x_resampled, y_resampled = smnc.fit_resample(x,y)"
      ],
      "execution_count": 0,
      "outputs": [
        {
          "output_type": "stream",
          "text": [
            "/usr/local/lib/python3.6/dist-packages/sklearn/utils/validation.py:724: DataConversionWarning: A column-vector y was passed when a 1d array was expected. Please change the shape of y to (n_samples, ), for example using ravel().\n",
            "  y = column_or_1d(y, warn=True)\n"
          ],
          "name": "stderr"
        }
      ]
    },
    {
      "cell_type": "code",
      "metadata": {
        "id": "_YzI7JWHWec9",
        "colab_type": "code",
        "outputId": "827be725-b9c2-4231-9dd5-40dc79da0803",
        "colab": {
          "base_uri": "https://localhost:8080/",
          "height": 34
        }
      },
      "source": [
        "x_resampled.shape"
      ],
      "execution_count": 0,
      "outputs": [
        {
          "output_type": "execute_result",
          "data": {
            "text/plain": [
              "(200, 20)"
            ]
          },
          "metadata": {
            "tags": []
          },
          "execution_count": 115
        }
      ]
    },
    {
      "cell_type": "code",
      "metadata": {
        "id": "L1Qk3bz0ViWJ",
        "colab_type": "code",
        "colab": {}
      },
      "source": [
        "import keras\n",
        "from keras.models import Sequential\n",
        "from keras.layers import Dense, BatchNormalization\n",
        "from keras.callbacks import EarlyStopping\n",
        "\n",
        "from sklearn.model_selection import StratifiedKFold\n",
        "\n",
        "from sklearn.metrics import log_loss, classification_report, accuracy_score"
      ],
      "execution_count": 0,
      "outputs": []
    },
    {
      "cell_type": "code",
      "metadata": {
        "id": "hR8CVwSdStUE",
        "colab_type": "code",
        "colab": {}
      },
      "source": [
        "kfold = StratifiedKFold(n_splits = 4, shuffle = True, random_state = 42)\n",
        "\n",
        "scores = []\n",
        "stopper = EarlyStopping(monitor = 'val_acc', patience = 8)\n",
        "\n",
        "for train, test in kfold.split(x_resampled, y_resampled):\n",
        "    \n",
        "    # create model\n",
        "    model = Sequential()\n",
        "    \n",
        "    # add layers\n",
        "    model.add(Dense(output_dim = 20, input_dim = 20, activation = 'relu'))\n",
        "    model.add(BatchNormalization())\n",
        "    \n",
        "    model.add(Dense(output_dim = 20, activation = 'relu'))\n",
        "    model.add(BatchNormalization())\n",
        "    \n",
        "    model.add(Dense(output_dim = 1, activation = 'sigmoid'))\n",
        "    \n",
        "    # compile model\n",
        "    model.compile(optimizer = 'adam', loss = 'binary_crossentropy', metrics = ['accuracy'])\n",
        "    \n",
        "    # fit model\n",
        "    model.fit(x_resampled[train], y_resampled[train], batch_size = 25, epochs = 1500, validation_data = (x_resampled[test], y_resampled[test]), callbacks = [stopper])\n",
        "    \n",
        "    # evaluate and add to list\n",
        "    sc = accuracy_score(y_resampled[test], model.predict(x_resampled[test]).round())\n",
        "    scores.append(sc)\n",
        "    \n",
        "print(scores)\n",
        "print(np.mean(scores))\n",
        "    "
      ],
      "execution_count": 0,
      "outputs": []
    },
    {
      "cell_type": "code",
      "metadata": {
        "id": "jayIUqD0StSF",
        "colab_type": "code",
        "outputId": "76672e06-b9e3-4f64-8d7c-fe4581849b5a",
        "colab": {
          "base_uri": "https://localhost:8080/",
          "height": 34
        }
      },
      "source": [
        "# print(classification_report(model.predict(x_resampled), y_resampled))\n",
        "accuracy_score(y_resampled, model.predict(x_resampled).round())"
      ],
      "execution_count": 0,
      "outputs": [
        {
          "output_type": "execute_result",
          "data": {
            "text/plain": [
              "0.83"
            ]
          },
          "metadata": {
            "tags": []
          },
          "execution_count": 170
        }
      ]
    },
    {
      "cell_type": "code",
      "metadata": {
        "id": "RAexzJiQgb4C",
        "colab_type": "code",
        "colab": {}
      },
      "source": [
        "def create_model(learning_rate = 0.01, activation='relu'):\n",
        "    \n",
        "    # set optimizer\n",
        "    opt = Adam(lr=learning_rate)\n",
        "  \t\n",
        "  \t# Create your binary classification model  \n",
        "    model = Sequential()\n",
        "    \n",
        "    model.add(Dense(10, input_dim=20, activation=activation))\n",
        "    model.add(BatchNormalization())\n",
        "    \n",
        "    model.add(Dense(10, activation=activation))\n",
        "    model.add(BatchNormalization())\n",
        "    \n",
        "    model.add(Dense(1, activation='sigmoid'))\n",
        "  \t\n",
        "  \t# Compile your model with your optimizer, loss, and metrics\n",
        "    model.compile(optimizer=opt, loss='binary_crossentropy', metrics=['accuracy'])\n",
        "    return model"
      ],
      "execution_count": 0,
      "outputs": []
    },
    {
      "cell_type": "code",
      "metadata": {
        "id": "Dzjo0yUJm-B9",
        "colab_type": "code",
        "outputId": "be73f884-2a8a-4ace-e888-1e2daa24a68c",
        "colab": {
          "base_uri": "https://localhost:8080/",
          "height": 1000
        }
      },
      "source": [
        "# set optimizer\n",
        "opt = Adam(lr=0.1)\n",
        "  \t\n",
        "  \t# Create your binary classification model  \n",
        "model = Sequential()\n",
        "    \n",
        "model.add(Dense(10, input_dim=20, activation='relu'))\n",
        "model.add(BatchNormalization())\n",
        "    \n",
        "model.add(Dense(10, activation='relu'))\n",
        "model.add(BatchNormalization())\n",
        "    \n",
        "model.add(Dense(1, activation='sigmoid'))\n",
        "  \t\n",
        "  \t# Compile your model with your optimizer, loss, and metrics\n",
        "model.compile(optimizer=opt, loss='binary_crossentropy', metrics=['accuracy'])\n",
        "model.fit(x_resampled, y_resampled, batch_size = 5, epochs = 95)"
      ],
      "execution_count": 0,
      "outputs": [
        {
          "output_type": "stream",
          "text": [
            "Epoch 1/95\n",
            "200/200 [==============================] - 18s 91ms/step - loss: 0.5670 - acc: 0.7550\n",
            "Epoch 2/95\n",
            "200/200 [==============================] - 0s 2ms/step - loss: 0.5316 - acc: 0.7550\n",
            "Epoch 3/95\n",
            "200/200 [==============================] - 0s 2ms/step - loss: 0.5592 - acc: 0.7450\n",
            "Epoch 4/95\n",
            "200/200 [==============================] - 0s 2ms/step - loss: 0.4507 - acc: 0.8000\n",
            "Epoch 5/95\n",
            "200/200 [==============================] - 0s 2ms/step - loss: 0.4183 - acc: 0.8300\n",
            "Epoch 6/95\n",
            "200/200 [==============================] - 0s 2ms/step - loss: 0.5213 - acc: 0.7850\n",
            "Epoch 7/95\n",
            "200/200 [==============================] - 0s 2ms/step - loss: 0.4412 - acc: 0.8000\n",
            "Epoch 8/95\n",
            "200/200 [==============================] - 0s 2ms/step - loss: 0.4900 - acc: 0.8150\n",
            "Epoch 9/95\n",
            "200/200 [==============================] - 0s 2ms/step - loss: 0.4373 - acc: 0.8300\n",
            "Epoch 10/95\n",
            "200/200 [==============================] - 0s 2ms/step - loss: 0.4707 - acc: 0.8050\n",
            "Epoch 11/95\n",
            "200/200 [==============================] - 0s 2ms/step - loss: 0.4795 - acc: 0.8050\n",
            "Epoch 12/95\n",
            "200/200 [==============================] - 0s 2ms/step - loss: 0.4443 - acc: 0.8300\n",
            "Epoch 13/95\n",
            "200/200 [==============================] - 0s 2ms/step - loss: 0.4960 - acc: 0.7900\n",
            "Epoch 14/95\n",
            "200/200 [==============================] - 0s 2ms/step - loss: 0.4790 - acc: 0.8200\n",
            "Epoch 15/95\n",
            "200/200 [==============================] - 0s 2ms/step - loss: 0.4087 - acc: 0.8250\n",
            "Epoch 16/95\n",
            "200/200 [==============================] - 0s 2ms/step - loss: 0.4440 - acc: 0.7950\n",
            "Epoch 17/95\n",
            "200/200 [==============================] - 0s 2ms/step - loss: 0.5198 - acc: 0.7650\n",
            "Epoch 18/95\n",
            "200/200 [==============================] - 0s 2ms/step - loss: 0.4374 - acc: 0.8400\n",
            "Epoch 19/95\n",
            "200/200 [==============================] - 0s 2ms/step - loss: 0.4464 - acc: 0.8200\n",
            "Epoch 20/95\n",
            "200/200 [==============================] - 0s 2ms/step - loss: 0.4225 - acc: 0.8400\n",
            "Epoch 21/95\n",
            "200/200 [==============================] - 0s 2ms/step - loss: 0.4296 - acc: 0.8450\n",
            "Epoch 22/95\n",
            "200/200 [==============================] - 0s 2ms/step - loss: 0.4788 - acc: 0.7950\n",
            "Epoch 23/95\n",
            "200/200 [==============================] - 0s 2ms/step - loss: 0.3692 - acc: 0.8250\n",
            "Epoch 24/95\n",
            "200/200 [==============================] - 0s 2ms/step - loss: 0.4199 - acc: 0.8150\n",
            "Epoch 25/95\n",
            "200/200 [==============================] - 0s 2ms/step - loss: 0.4646 - acc: 0.8200\n",
            "Epoch 26/95\n",
            "200/200 [==============================] - 0s 2ms/step - loss: 0.3912 - acc: 0.8550\n",
            "Epoch 27/95\n",
            "200/200 [==============================] - 0s 2ms/step - loss: 0.5238 - acc: 0.7800\n",
            "Epoch 28/95\n",
            "200/200 [==============================] - 0s 2ms/step - loss: 0.4385 - acc: 0.8400\n",
            "Epoch 29/95\n",
            "200/200 [==============================] - 0s 2ms/step - loss: 0.4304 - acc: 0.8250\n",
            "Epoch 30/95\n",
            "200/200 [==============================] - 0s 2ms/step - loss: 0.5813 - acc: 0.6950\n",
            "Epoch 31/95\n",
            "200/200 [==============================] - 0s 2ms/step - loss: 0.4337 - acc: 0.8200\n",
            "Epoch 32/95\n",
            "200/200 [==============================] - 0s 2ms/step - loss: 0.4546 - acc: 0.7950\n",
            "Epoch 33/95\n",
            "200/200 [==============================] - 0s 2ms/step - loss: 0.4249 - acc: 0.8100\n",
            "Epoch 34/95\n",
            "200/200 [==============================] - 0s 2ms/step - loss: 0.4991 - acc: 0.8200\n",
            "Epoch 35/95\n",
            "200/200 [==============================] - 0s 2ms/step - loss: 0.4389 - acc: 0.8350\n",
            "Epoch 36/95\n",
            "200/200 [==============================] - 0s 2ms/step - loss: 0.4409 - acc: 0.8000\n",
            "Epoch 37/95\n",
            "200/200 [==============================] - 0s 2ms/step - loss: 0.5013 - acc: 0.8050\n",
            "Epoch 38/95\n",
            "200/200 [==============================] - 0s 2ms/step - loss: 0.3669 - acc: 0.8650\n",
            "Epoch 39/95\n",
            "200/200 [==============================] - 0s 2ms/step - loss: 0.4985 - acc: 0.7900\n",
            "Epoch 40/95\n",
            "200/200 [==============================] - 0s 2ms/step - loss: 0.4148 - acc: 0.8400\n",
            "Epoch 41/95\n",
            "200/200 [==============================] - 0s 2ms/step - loss: 0.4315 - acc: 0.8350\n",
            "Epoch 42/95\n",
            "200/200 [==============================] - 0s 2ms/step - loss: 0.3722 - acc: 0.8500\n",
            "Epoch 43/95\n",
            "200/200 [==============================] - 0s 2ms/step - loss: 0.4034 - acc: 0.8250\n",
            "Epoch 44/95\n",
            "200/200 [==============================] - 0s 2ms/step - loss: 0.4555 - acc: 0.8150\n",
            "Epoch 45/95\n",
            "200/200 [==============================] - 0s 2ms/step - loss: 0.3322 - acc: 0.8650\n",
            "Epoch 46/95\n",
            "200/200 [==============================] - 0s 2ms/step - loss: 0.4412 - acc: 0.8100\n",
            "Epoch 47/95\n",
            "200/200 [==============================] - 0s 2ms/step - loss: 0.4137 - acc: 0.8300\n",
            "Epoch 48/95\n",
            "200/200 [==============================] - 0s 2ms/step - loss: 0.4248 - acc: 0.8450\n",
            "Epoch 49/95\n",
            "200/200 [==============================] - 0s 2ms/step - loss: 0.4039 - acc: 0.8400\n",
            "Epoch 50/95\n",
            "200/200 [==============================] - 0s 2ms/step - loss: 0.4964 - acc: 0.8100\n",
            "Epoch 51/95\n",
            "200/200 [==============================] - 0s 2ms/step - loss: 0.4251 - acc: 0.8000\n",
            "Epoch 52/95\n",
            "200/200 [==============================] - 0s 2ms/step - loss: 0.4328 - acc: 0.8400\n",
            "Epoch 53/95\n",
            "200/200 [==============================] - 0s 2ms/step - loss: 0.3199 - acc: 0.8950\n",
            "Epoch 54/95\n",
            "200/200 [==============================] - 0s 2ms/step - loss: 0.5412 - acc: 0.8000\n",
            "Epoch 55/95\n",
            "200/200 [==============================] - 0s 2ms/step - loss: 0.4502 - acc: 0.7850\n",
            "Epoch 56/95\n",
            "200/200 [==============================] - 0s 2ms/step - loss: 0.4051 - acc: 0.8300\n",
            "Epoch 57/95\n",
            "200/200 [==============================] - 0s 2ms/step - loss: 0.4115 - acc: 0.8450\n",
            "Epoch 58/95\n",
            "200/200 [==============================] - 0s 2ms/step - loss: 0.4009 - acc: 0.8450\n",
            "Epoch 59/95\n",
            "200/200 [==============================] - 0s 2ms/step - loss: 0.4268 - acc: 0.8250\n",
            "Epoch 60/95\n",
            "200/200 [==============================] - 0s 2ms/step - loss: 0.4568 - acc: 0.8550\n",
            "Epoch 61/95\n",
            "200/200 [==============================] - 0s 2ms/step - loss: 0.4008 - acc: 0.8300\n",
            "Epoch 62/95\n",
            "200/200 [==============================] - 0s 2ms/step - loss: 0.4695 - acc: 0.8150\n",
            "Epoch 63/95\n",
            "200/200 [==============================] - 0s 2ms/step - loss: 0.4555 - acc: 0.8300\n",
            "Epoch 64/95\n",
            "200/200 [==============================] - 0s 2ms/step - loss: 0.4415 - acc: 0.8450\n",
            "Epoch 65/95\n",
            "200/200 [==============================] - 0s 2ms/step - loss: 0.3725 - acc: 0.8500\n",
            "Epoch 66/95\n",
            "200/200 [==============================] - 0s 2ms/step - loss: 0.4831 - acc: 0.8050\n",
            "Epoch 67/95\n",
            "200/200 [==============================] - 0s 2ms/step - loss: 0.3837 - acc: 0.8700\n",
            "Epoch 68/95\n",
            "200/200 [==============================] - 0s 2ms/step - loss: 0.3968 - acc: 0.8450\n",
            "Epoch 69/95\n",
            "200/200 [==============================] - 0s 2ms/step - loss: 0.3496 - acc: 0.8700\n",
            "Epoch 70/95\n",
            "200/200 [==============================] - 0s 2ms/step - loss: 0.3606 - acc: 0.8700\n",
            "Epoch 71/95\n",
            "200/200 [==============================] - 0s 2ms/step - loss: 0.3433 - acc: 0.8800\n",
            "Epoch 72/95\n",
            "200/200 [==============================] - 0s 2ms/step - loss: 0.5030 - acc: 0.8200\n",
            "Epoch 73/95\n",
            "200/200 [==============================] - 0s 2ms/step - loss: 0.4940 - acc: 0.8050\n",
            "Epoch 74/95\n",
            "200/200 [==============================] - 0s 2ms/step - loss: 0.5478 - acc: 0.7850\n",
            "Epoch 75/95\n",
            "200/200 [==============================] - 0s 2ms/step - loss: 0.4624 - acc: 0.8250\n",
            "Epoch 76/95\n",
            "200/200 [==============================] - 0s 2ms/step - loss: 0.3936 - acc: 0.8600\n",
            "Epoch 77/95\n",
            "200/200 [==============================] - 0s 2ms/step - loss: 0.4165 - acc: 0.8650\n",
            "Epoch 78/95\n",
            "200/200 [==============================] - 0s 2ms/step - loss: 0.4352 - acc: 0.8200\n",
            "Epoch 79/95\n",
            "200/200 [==============================] - 0s 2ms/step - loss: 0.4194 - acc: 0.8200\n",
            "Epoch 80/95\n",
            "200/200 [==============================] - 0s 2ms/step - loss: 0.4279 - acc: 0.8050\n",
            "Epoch 81/95\n",
            "200/200 [==============================] - 0s 2ms/step - loss: 0.3640 - acc: 0.8400\n",
            "Epoch 82/95\n",
            "200/200 [==============================] - 0s 2ms/step - loss: 0.3686 - acc: 0.8800\n",
            "Epoch 83/95\n",
            "200/200 [==============================] - 0s 2ms/step - loss: 0.4803 - acc: 0.7850\n",
            "Epoch 84/95\n",
            "200/200 [==============================] - 0s 2ms/step - loss: 0.4538 - acc: 0.8050\n",
            "Epoch 85/95\n",
            "200/200 [==============================] - 0s 2ms/step - loss: 0.4148 - acc: 0.8550\n",
            "Epoch 86/95\n",
            "200/200 [==============================] - 0s 2ms/step - loss: 0.4240 - acc: 0.8400\n",
            "Epoch 87/95\n",
            "200/200 [==============================] - 0s 2ms/step - loss: 0.4286 - acc: 0.8350\n",
            "Epoch 88/95\n",
            "200/200 [==============================] - 0s 2ms/step - loss: 0.4358 - acc: 0.8150\n",
            "Epoch 89/95\n",
            "200/200 [==============================] - 0s 2ms/step - loss: 0.4529 - acc: 0.8350\n",
            "Epoch 90/95\n",
            "200/200 [==============================] - 0s 2ms/step - loss: 0.4306 - acc: 0.8350\n",
            "Epoch 91/95\n",
            "200/200 [==============================] - 0s 2ms/step - loss: 0.3715 - acc: 0.8700\n",
            "Epoch 92/95\n",
            "200/200 [==============================] - 0s 2ms/step - loss: 0.4548 - acc: 0.8300\n",
            "Epoch 93/95\n",
            "200/200 [==============================] - 0s 2ms/step - loss: 0.3930 - acc: 0.8300\n",
            "Epoch 94/95\n",
            "200/200 [==============================] - 0s 2ms/step - loss: 0.4433 - acc: 0.8400\n",
            "Epoch 95/95\n",
            "200/200 [==============================] - 0s 2ms/step - loss: 0.3924 - acc: 0.8350\n"
          ],
          "name": "stdout"
        },
        {
          "output_type": "execute_result",
          "data": {
            "text/plain": [
              "<keras.callbacks.History at 0x7fc065c47c50>"
            ]
          },
          "metadata": {
            "tags": []
          },
          "execution_count": 196
        }
      ]
    },
    {
      "cell_type": "code",
      "metadata": {
        "id": "-0V_6OLFhKxu",
        "colab_type": "code",
        "colab": {}
      },
      "source": [
        "wrapped_model = KerasClassifier(build_fn = create_model)\n",
        "\n",
        "# hyperparameters\n",
        "params = {'activation':['relu'], \n",
        "          'batch_size':[5],\n",
        "          'epochs':[95], \n",
        "         'learning_rate':[.1]}\n",
        "\n",
        "\n",
        "# Create a randomize search cv object and fit it on the data to obtain the results\n",
        "random_search = RandomizedSearchCV(wrapped_model, param_distributions=params, cv=KFold(5))\n",
        "\n",
        "\n",
        "random_search.fit(x_resampled,y_resampled)\n",
        "\n",
        "# kfolds = cross_val_score(model, X, y, cv=3)"
      ],
      "execution_count": 0,
      "outputs": []
    },
    {
      "cell_type": "code",
      "metadata": {
        "id": "ko1d_gl6StP0",
        "colab_type": "code",
        "colab": {}
      },
      "source": [
        "pd.concat([submis_df['patient_id'], pd.DataFrame(model.predict_proba(sub_x), columns = ['heart_disease_present'])], axis = 1).set_index('patient_id').to_csv('submis_df3.csv')"
      ],
      "execution_count": 0,
      "outputs": []
    },
    {
      "cell_type": "code",
      "metadata": {
        "id": "S8MvkfDKStN_",
        "colab_type": "code",
        "outputId": "31c2f982-adc5-49ac-c189-750b99b48b57",
        "colab": {
          "base_uri": "https://localhost:8080/",
          "height": 34
        }
      },
      "source": [
        "random_search.best_params_"
      ],
      "execution_count": 0,
      "outputs": [
        {
          "output_type": "execute_result",
          "data": {
            "text/plain": [
              "{'activation': 'relu', 'batch_size': 5, 'epochs': 95, 'learning_rate': 0.1}"
            ]
          },
          "metadata": {
            "tags": []
          },
          "execution_count": 188
        }
      ]
    },
    {
      "cell_type": "code",
      "metadata": {
        "id": "3bK8JxFAStMN",
        "colab_type": "code",
        "colab": {}
      },
      "source": [
        ""
      ],
      "execution_count": 0,
      "outputs": []
    },
    {
      "cell_type": "code",
      "metadata": {
        "id": "Hzp3PbdRP3QW",
        "colab_type": "code",
        "colab": {}
      },
      "source": [
        ""
      ],
      "execution_count": 0,
      "outputs": []
    },
    {
      "cell_type": "code",
      "metadata": {
        "id": "Hi9pK6iJP3SW",
        "colab_type": "code",
        "colab": {}
      },
      "source": [
        ""
      ],
      "execution_count": 0,
      "outputs": []
    },
    {
      "cell_type": "code",
      "metadata": {
        "id": "XAsEgcuvP3MV",
        "colab_type": "code",
        "colab": {}
      },
      "source": [
        ""
      ],
      "execution_count": 0,
      "outputs": []
    },
    {
      "cell_type": "code",
      "metadata": {
        "id": "lbWMmjPfP3Gi",
        "colab_type": "code",
        "colab": {}
      },
      "source": [
        ""
      ],
      "execution_count": 0,
      "outputs": []
    },
    {
      "cell_type": "code",
      "metadata": {
        "id": "2NP9IIauu4A8",
        "colab_type": "code",
        "colab": {}
      },
      "source": [
        "submis_df_dummies = pd.get_dummies(data = submis_df, columns = cats, prefix_sep = '|', drop_first = True)"
      ],
      "execution_count": 0,
      "outputs": []
    },
    {
      "cell_type": "code",
      "metadata": {
        "id": "GAMRUxOPFDBL",
        "colab_type": "code",
        "outputId": "6f75ffb0-5233-415e-c7d7-5f3ae35a3a92",
        "colab": {
          "base_uri": "https://localhost:8080/",
          "height": 105
        }
      },
      "source": [
        "all_dummied['chest_pain_type'].value_counts()"
      ],
      "execution_count": 0,
      "outputs": [
        {
          "output_type": "execute_result",
          "data": {
            "text/plain": [
              "4    82\n",
              "3    57\n",
              "2    28\n",
              "1    13\n",
              "Name: chest_pain_type, dtype: int64"
            ]
          },
          "metadata": {
            "tags": []
          },
          "execution_count": 30
        }
      ]
    },
    {
      "cell_type": "code",
      "metadata": {
        "id": "9lj26J3jFKL7",
        "colab_type": "code",
        "outputId": "73738cdf-c97e-4b70-aa12-a1f9f19e109a",
        "colab": {
          "base_uri": "https://localhost:8080/",
          "height": 123
        }
      },
      "source": [
        "all_dummied.groupby('chest_pain_type').mean()['heart_disease_present']"
      ],
      "execution_count": 0,
      "outputs": [
        {
          "output_type": "execute_result",
          "data": {
            "text/plain": [
              "chest_pain_type\n",
              "1    0.307692\n",
              "2    0.142857\n",
              "3    0.228070\n",
              "4    0.719512\n",
              "Name: heart_disease_present, dtype: float64"
            ]
          },
          "metadata": {
            "tags": []
          },
          "execution_count": 33
        }
      ]
    },
    {
      "cell_type": "code",
      "metadata": {
        "id": "WCMqiBgjGI1i",
        "colab_type": "code",
        "colab": {}
      },
      "source": [
        "all_dummied = pd.get_dummies(data = all_dummied, columns = ['chest_pain_type'], prefix_sep = '|', drop_first = True)"
      ],
      "execution_count": 0,
      "outputs": []
    },
    {
      "cell_type": "code",
      "metadata": {
        "id": "d9ESLSnWvMBM",
        "colab_type": "code",
        "colab": {}
      },
      "source": [
        "submis_df_dummies = pd.get_dummies(data = submis_df_dummies, columns = ['chest_pain_type'], prefix_sep = '|', drop_first = True)"
      ],
      "execution_count": 0,
      "outputs": []
    },
    {
      "cell_type": "code",
      "metadata": {
        "id": "4nFeZRgsDwtz",
        "colab_type": "code",
        "colab": {}
      },
      "source": [
        "to_normalize = all_dummied.drop(labels = ['patient_id', 'heart_disease_present'], axis = 1).nunique().sort_values(ascending = False).index[:5].tolist()"
      ],
      "execution_count": 0,
      "outputs": []
    },
    {
      "cell_type": "code",
      "metadata": {
        "id": "cS0c40EzHakJ",
        "colab_type": "code",
        "outputId": "adbed5c2-d7d5-425c-fb4b-8501d9e8e0db",
        "colab": {
          "base_uri": "https://localhost:8080/",
          "height": 197
        }
      },
      "source": [
        "all_dummied[to_normalize].describe().T"
      ],
      "execution_count": 0,
      "outputs": [
        {
          "output_type": "execute_result",
          "data": {
            "text/html": [
              "<div>\n",
              "<style scoped>\n",
              "    .dataframe tbody tr th:only-of-type {\n",
              "        vertical-align: middle;\n",
              "    }\n",
              "\n",
              "    .dataframe tbody tr th {\n",
              "        vertical-align: top;\n",
              "    }\n",
              "\n",
              "    .dataframe thead th {\n",
              "        text-align: right;\n",
              "    }\n",
              "</style>\n",
              "<table border=\"1\" class=\"dataframe\">\n",
              "  <thead>\n",
              "    <tr style=\"text-align: right;\">\n",
              "      <th></th>\n",
              "      <th>count</th>\n",
              "      <th>mean</th>\n",
              "      <th>std</th>\n",
              "      <th>min</th>\n",
              "      <th>25%</th>\n",
              "      <th>50%</th>\n",
              "      <th>75%</th>\n",
              "      <th>max</th>\n",
              "    </tr>\n",
              "  </thead>\n",
              "  <tbody>\n",
              "    <tr>\n",
              "      <th>serum_cholesterol_mg_per_dl</th>\n",
              "      <td>180.0</td>\n",
              "      <td>249.211111</td>\n",
              "      <td>52.717969</td>\n",
              "      <td>126.0</td>\n",
              "      <td>213.75</td>\n",
              "      <td>245.5</td>\n",
              "      <td>281.25</td>\n",
              "      <td>564.0</td>\n",
              "    </tr>\n",
              "    <tr>\n",
              "      <th>max_heart_rate_achieved</th>\n",
              "      <td>180.0</td>\n",
              "      <td>149.483333</td>\n",
              "      <td>22.063513</td>\n",
              "      <td>96.0</td>\n",
              "      <td>132.00</td>\n",
              "      <td>152.0</td>\n",
              "      <td>166.25</td>\n",
              "      <td>202.0</td>\n",
              "    </tr>\n",
              "    <tr>\n",
              "      <th>age</th>\n",
              "      <td>180.0</td>\n",
              "      <td>54.811111</td>\n",
              "      <td>9.334737</td>\n",
              "      <td>29.0</td>\n",
              "      <td>48.00</td>\n",
              "      <td>55.0</td>\n",
              "      <td>62.00</td>\n",
              "      <td>77.0</td>\n",
              "    </tr>\n",
              "    <tr>\n",
              "      <th>resting_blood_pressure</th>\n",
              "      <td>180.0</td>\n",
              "      <td>131.311111</td>\n",
              "      <td>17.010443</td>\n",
              "      <td>94.0</td>\n",
              "      <td>120.00</td>\n",
              "      <td>130.0</td>\n",
              "      <td>140.00</td>\n",
              "      <td>180.0</td>\n",
              "    </tr>\n",
              "    <tr>\n",
              "      <th>oldpeak_eq_st_depression</th>\n",
              "      <td>180.0</td>\n",
              "      <td>1.010000</td>\n",
              "      <td>1.121357</td>\n",
              "      <td>0.0</td>\n",
              "      <td>0.00</td>\n",
              "      <td>0.8</td>\n",
              "      <td>1.60</td>\n",
              "      <td>6.2</td>\n",
              "    </tr>\n",
              "  </tbody>\n",
              "</table>\n",
              "</div>"
            ],
            "text/plain": [
              "                             count        mean        std  ...    50%     75%    max\n",
              "serum_cholesterol_mg_per_dl  180.0  249.211111  52.717969  ...  245.5  281.25  564.0\n",
              "max_heart_rate_achieved      180.0  149.483333  22.063513  ...  152.0  166.25  202.0\n",
              "age                          180.0   54.811111   9.334737  ...   55.0   62.00   77.0\n",
              "resting_blood_pressure       180.0  131.311111  17.010443  ...  130.0  140.00  180.0\n",
              "oldpeak_eq_st_depression     180.0    1.010000   1.121357  ...    0.8    1.60    6.2\n",
              "\n",
              "[5 rows x 8 columns]"
            ]
          },
          "metadata": {
            "tags": []
          },
          "execution_count": 55
        }
      ]
    },
    {
      "cell_type": "code",
      "metadata": {
        "id": "WZGmm2MhvPsc",
        "colab_type": "code",
        "colab": {}
      },
      "source": [
        ""
      ],
      "execution_count": 0,
      "outputs": []
    },
    {
      "cell_type": "code",
      "metadata": {
        "id": "Z40QDSymIGbJ",
        "colab_type": "code",
        "colab": {}
      },
      "source": [
        "import matplotlib.pyplot as plt\n",
        "import seaborn as sns"
      ],
      "execution_count": 0,
      "outputs": []
    },
    {
      "cell_type": "code",
      "metadata": {
        "id": "Ow5dnblqDwwJ",
        "colab_type": "code",
        "outputId": "29c9da75-4104-43fe-e2ea-71b4707fdcd2",
        "colab": {
          "base_uri": "https://localhost:8080/",
          "height": 351
        }
      },
      "source": [
        "n = 1\n",
        "plt.figure(figsize = (20,5))\n",
        "\n",
        "for i in to_normalize:\n",
        "    \n",
        "    plt.subplot(1,5,n)\n",
        "    sns.distplot(all_dummied[i])\n",
        "    plt.title(all_dummied[i].skew().round(3))\n",
        "    n+=1\n",
        "    \n",
        "    \n",
        "    "
      ],
      "execution_count": 0,
      "outputs": [
        {
          "output_type": "display_data",
          "data": {
            "image/png": "[encoded data removed]",
            "text/plain": [
              "<Figure size 1440x360 with 5 Axes>"
            ]
          },
          "metadata": {
            "tags": []
          }
        }
      ]
    },
    {
      "cell_type": "code",
      "metadata": {
        "id": "bKx23vdhJq-n",
        "colab_type": "code",
        "colab": {}
      },
      "source": [
        "from sklearn.preprocessing import Normalizer"
      ],
      "execution_count": 0,
      "outputs": []
    },
    {
      "cell_type": "code",
      "metadata": {
        "id": "NiUqMYUuJwb3",
        "colab_type": "code",
        "colab": {}
      },
      "source": [
        "# # Create normalizer\n",
        "# norm = Normalizer(norm='l2')\n",
        "# norm2 = Normalizer(norm='l2')\n",
        "\n",
        "# all_dummied['test_depr'] = norm.transform(all_dummied[['oldpeak_eq_st_depression']])\n",
        "# all_dummied['test_serum'] = norm2.transform(all_dummied[['serum_cholesterol_mg_per_dl']])\n",
        "\n",
        "# all_dummied['test_serum']\n",
        "\n",
        "\n",
        "all_dummied['oldpeak_eq_st_depression'] = np.log1p(all_dummied['oldpeak_eq_st_depression'])\n",
        "all_dummied['serum_cholesterol_mg_per_dl'] = np.log1p(all_dummied['serum_cholesterol_mg_per_dl'])"
      ],
      "execution_count": 0,
      "outputs": []
    },
    {
      "cell_type": "code",
      "metadata": {
        "id": "P6qesDEMvSJL",
        "colab_type": "code",
        "colab": {}
      },
      "source": [
        "submis_df_dummies\n",
        "\n",
        "submis_df_dummies['oldpeak_eq_st_depression'] = np.log1p(submis_df_dummies['oldpeak_eq_st_depression'])\n",
        "submis_df_dummies['serum_cholesterol_mg_per_dl'] = np.log1p(submis_df_dummies['serum_cholesterol_mg_per_dl'])"
      ],
      "execution_count": 0,
      "outputs": []
    },
    {
      "cell_type": "code",
      "metadata": {
        "id": "dRjXkFKOMwwm",
        "colab_type": "code",
        "outputId": "ccd84b65-8ef0-4d44-b972-dfe73eab97ed",
        "colab": {
          "base_uri": "https://localhost:8080/",
          "height": 351
        }
      },
      "source": [
        "n = 1\n",
        "plt.figure(figsize = (20,5))\n",
        "\n",
        "for i in to_normalize:\n",
        "    \n",
        "    plt.subplot(1,5,n)\n",
        "    sns.distplot(all_dummied[i])\n",
        "    plt.title(all_dummied[i].skew().round(3))\n",
        "    n+=1\n",
        "    \n",
        "    \n",
        "    "
      ],
      "execution_count": 0,
      "outputs": [
        {
          "output_type": "display_data",
          "data": {
            "image/png": "[encoded data removed]",
            "text/plain": [
              "<Figure size 1440x360 with 5 Axes>"
            ]
          },
          "metadata": {
            "tags": []
          }
        }
      ]
    },
    {
      "cell_type": "code",
      "metadata": {
        "id": "7mTHsXtODwzi",
        "colab_type": "code",
        "outputId": "79bea504-6dad-4d8a-942e-e2b356349ea9",
        "colab": {
          "base_uri": "https://localhost:8080/",
          "height": 123
        }
      },
      "source": [
        "all_dummied[to_normalize].nunique()"
      ],
      "execution_count": 0,
      "outputs": [
        {
          "output_type": "execute_result",
          "data": {
            "text/plain": [
              "serum_cholesterol_mg_per_dl    118\n",
              "max_heart_rate_achieved         73\n",
              "age                             40\n",
              "resting_blood_pressure          36\n",
              "oldpeak_eq_st_depression        34\n",
              "dtype: int64"
            ]
          },
          "metadata": {
            "tags": []
          },
          "execution_count": 137
        }
      ]
    },
    {
      "cell_type": "code",
      "metadata": {
        "id": "E-p85qT8NmAU",
        "colab_type": "code",
        "colab": {}
      },
      "source": [
        "from sklearn.preprocessing import StandardScaler"
      ],
      "execution_count": 0,
      "outputs": []
    },
    {
      "cell_type": "code",
      "metadata": {
        "id": "pmScEEcvNoib",
        "colab_type": "code",
        "colab": {}
      },
      "source": [
        "ssx = StandardScaler()\n",
        "\n",
        "df_scaled = pd.DataFrame(ssx.fit_transform(all_dummied[to_normalize]), columns = to_normalize)\n",
        "df_remainder = all_dummied.drop(labels = to_normalize, axis = 1)\n",
        "all_clean = pd.concat([df_remainder, df_scaled], axis = 1)"
      ],
      "execution_count": 0,
      "outputs": []
    },
    {
      "cell_type": "code",
      "metadata": {
        "id": "c0L-mdRHvYPK",
        "colab_type": "code",
        "colab": {}
      },
      "source": [
        "# ssx = StandardScaler()\n",
        "\n",
        "# df_scaled = pd.DataFrame(ssx.fit_transform(all_dummied[to_normalize]), columns = to_normalize)\n",
        "# df_remainder = all_dummied.drop(labels = to_normalize, axis = 1)\n",
        "# all_clean = pd.concat([df_remainder, df_scaled], axis = 1)\n",
        "\n",
        "\n",
        "submis_scaled_df = pd.DataFrame(ssx.transform(submis_df_dummies[to_normalize]), columns = to_normalize)\n",
        "\n",
        "submis_remainder_df = submis_df_dummies.drop(labels = to_normalize, axis = 1)\n",
        "submis_clean_df = pd.concat([submis_remainder_df, submis_scaled_df], axis = 1)"
      ],
      "execution_count": 0,
      "outputs": []
    },
    {
      "cell_type": "code",
      "metadata": {
        "id": "ifsV_ttYv-Mp",
        "colab_type": "code",
        "outputId": "b08b78ff-73d3-474a-96d7-1c426196536c",
        "colab": {
          "base_uri": "https://localhost:8080/",
          "height": 217
        }
      },
      "source": [
        "submis_clean_df.drop(labels = 'patient_id', axis =1).head()"
      ],
      "execution_count": 0,
      "outputs": [
        {
          "output_type": "execute_result",
          "data": {
            "text/html": [
              "<div>\n",
              "<style scoped>\n",
              "    .dataframe tbody tr th:only-of-type {\n",
              "        vertical-align: middle;\n",
              "    }\n",
              "\n",
              "    .dataframe tbody tr th {\n",
              "        vertical-align: top;\n",
              "    }\n",
              "\n",
              "    .dataframe thead th {\n",
              "        text-align: right;\n",
              "    }\n",
              "</style>\n",
              "<table border=\"1\" class=\"dataframe\">\n",
              "  <thead>\n",
              "    <tr style=\"text-align: right;\">\n",
              "      <th></th>\n",
              "      <th>fasting_blood_sugar_gt_120_mg_per_dl</th>\n",
              "      <th>sex</th>\n",
              "      <th>exercise_induced_angina</th>\n",
              "      <th>slope_of_peak_exercise_st_segment|2</th>\n",
              "      <th>slope_of_peak_exercise_st_segment|3</th>\n",
              "      <th>thal|normal</th>\n",
              "      <th>thal|reversible_defect</th>\n",
              "      <th>num_major_vessels|1</th>\n",
              "      <th>num_major_vessels|2</th>\n",
              "      <th>num_major_vessels|3</th>\n",
              "      <th>resting_ekg_results|1</th>\n",
              "      <th>resting_ekg_results|2</th>\n",
              "      <th>chest_pain_type|2</th>\n",
              "      <th>chest_pain_type|3</th>\n",
              "      <th>chest_pain_type|4</th>\n",
              "      <th>serum_cholesterol_mg_per_dl</th>\n",
              "      <th>max_heart_rate_achieved</th>\n",
              "      <th>age</th>\n",
              "      <th>resting_blood_pressure</th>\n",
              "      <th>oldpeak_eq_st_depression</th>\n",
              "    </tr>\n",
              "  </thead>\n",
              "  <tbody>\n",
              "    <tr>\n",
              "      <th>0</th>\n",
              "      <td>0</td>\n",
              "      <td>1</td>\n",
              "      <td>0</td>\n",
              "      <td>1</td>\n",
              "      <td>0</td>\n",
              "      <td>0</td>\n",
              "      <td>1</td>\n",
              "      <td>0</td>\n",
              "      <td>0</td>\n",
              "      <td>0</td>\n",
              "      <td>0</td>\n",
              "      <td>1</td>\n",
              "      <td>0</td>\n",
              "      <td>0</td>\n",
              "      <td>0</td>\n",
              "      <td>0.808379</td>\n",
              "      <td>0.432534</td>\n",
              "      <td>0.449994</td>\n",
              "      <td>2.280764</td>\n",
              "      <td>-0.754563</td>\n",
              "    </tr>\n",
              "    <tr>\n",
              "      <th>1</th>\n",
              "      <td>0</td>\n",
              "      <td>0</td>\n",
              "      <td>0</td>\n",
              "      <td>0</td>\n",
              "      <td>0</td>\n",
              "      <td>1</td>\n",
              "      <td>0</td>\n",
              "      <td>0</td>\n",
              "      <td>0</td>\n",
              "      <td>0</td>\n",
              "      <td>0</td>\n",
              "      <td>0</td>\n",
              "      <td>0</td>\n",
              "      <td>0</td>\n",
              "      <td>1</td>\n",
              "      <td>-1.402979</td>\n",
              "      <td>1.477887</td>\n",
              "      <td>-2.128220</td>\n",
              "      <td>0.394319</td>\n",
              "      <td>0.614527</td>\n",
              "    </tr>\n",
              "    <tr>\n",
              "      <th>2</th>\n",
              "      <td>0</td>\n",
              "      <td>1</td>\n",
              "      <td>1</td>\n",
              "      <td>1</td>\n",
              "      <td>0</td>\n",
              "      <td>0</td>\n",
              "      <td>1</td>\n",
              "      <td>0</td>\n",
              "      <td>0</td>\n",
              "      <td>0</td>\n",
              "      <td>0</td>\n",
              "      <td>1</td>\n",
              "      <td>0</td>\n",
              "      <td>0</td>\n",
              "      <td>1</td>\n",
              "      <td>-1.565356</td>\n",
              "      <td>-1.340021</td>\n",
              "      <td>-1.268815</td>\n",
              "      <td>-0.666806</td>\n",
              "      <td>1.359751</td>\n",
              "    </tr>\n",
              "    <tr>\n",
              "      <th>3</th>\n",
              "      <td>0</td>\n",
              "      <td>0</td>\n",
              "      <td>0</td>\n",
              "      <td>0</td>\n",
              "      <td>0</td>\n",
              "      <td>1</td>\n",
              "      <td>0</td>\n",
              "      <td>1</td>\n",
              "      <td>0</td>\n",
              "      <td>0</td>\n",
              "      <td>0</td>\n",
              "      <td>0</td>\n",
              "      <td>0</td>\n",
              "      <td>1</td>\n",
              "      <td>0</td>\n",
              "      <td>1.292117</td>\n",
              "      <td>0.477984</td>\n",
              "      <td>0.557419</td>\n",
              "      <td>-1.727931</td>\n",
              "      <td>-1.114680</td>\n",
              "    </tr>\n",
              "    <tr>\n",
              "      <th>4</th>\n",
              "      <td>0</td>\n",
              "      <td>1</td>\n",
              "      <td>1</td>\n",
              "      <td>1</td>\n",
              "      <td>0</td>\n",
              "      <td>1</td>\n",
              "      <td>0</td>\n",
              "      <td>1</td>\n",
              "      <td>0</td>\n",
              "      <td>0</td>\n",
              "      <td>0</td>\n",
              "      <td>1</td>\n",
              "      <td>0</td>\n",
              "      <td>0</td>\n",
              "      <td>1</td>\n",
              "      <td>-1.877791</td>\n",
              "      <td>-1.112771</td>\n",
              "      <td>0.664845</td>\n",
              "      <td>0.394319</td>\n",
              "      <td>1.899554</td>\n",
              "    </tr>\n",
              "  </tbody>\n",
              "</table>\n",
              "</div>"
            ],
            "text/plain": [
              "   fasting_blood_sugar_gt_120_mg_per_dl  ...  oldpeak_eq_st_depression\n",
              "0                                     0  ...                 -0.754563\n",
              "1                                     0  ...                  0.614527\n",
              "2                                     0  ...                  1.359751\n",
              "3                                     0  ...                 -1.114680\n",
              "4                                     0  ...                  1.899554\n",
              "\n",
              "[5 rows x 20 columns]"
            ]
          },
          "metadata": {
            "tags": []
          },
          "execution_count": 144
        }
      ]
    },
    {
      "cell_type": "code",
      "metadata": {
        "id": "mq-khKOZwBDL",
        "colab_type": "code",
        "outputId": "235dabc4-a0f5-4b44-c56d-ba4ca0912fff",
        "colab": {
          "base_uri": "https://localhost:8080/",
          "height": 217
        }
      },
      "source": [
        "all_clean.drop(labels = ['patient_id', 'heart_disease_present'], axis = 1).head()"
      ],
      "execution_count": 0,
      "outputs": [
        {
          "output_type": "execute_result",
          "data": {
            "text/html": [
              "<div>\n",
              "<style scoped>\n",
              "    .dataframe tbody tr th:only-of-type {\n",
              "        vertical-align: middle;\n",
              "    }\n",
              "\n",
              "    .dataframe tbody tr th {\n",
              "        vertical-align: top;\n",
              "    }\n",
              "\n",
              "    .dataframe thead th {\n",
              "        text-align: right;\n",
              "    }\n",
              "</style>\n",
              "<table border=\"1\" class=\"dataframe\">\n",
              "  <thead>\n",
              "    <tr style=\"text-align: right;\">\n",
              "      <th></th>\n",
              "      <th>fasting_blood_sugar_gt_120_mg_per_dl</th>\n",
              "      <th>sex</th>\n",
              "      <th>exercise_induced_angina</th>\n",
              "      <th>slope_of_peak_exercise_st_segment|2</th>\n",
              "      <th>slope_of_peak_exercise_st_segment|3</th>\n",
              "      <th>thal|normal</th>\n",
              "      <th>thal|reversible_defect</th>\n",
              "      <th>num_major_vessels|1</th>\n",
              "      <th>num_major_vessels|2</th>\n",
              "      <th>num_major_vessels|3</th>\n",
              "      <th>resting_ekg_results|1</th>\n",
              "      <th>resting_ekg_results|2</th>\n",
              "      <th>chest_pain_type|2</th>\n",
              "      <th>chest_pain_type|3</th>\n",
              "      <th>chest_pain_type|4</th>\n",
              "      <th>serum_cholesterol_mg_per_dl</th>\n",
              "      <th>max_heart_rate_achieved</th>\n",
              "      <th>age</th>\n",
              "      <th>resting_blood_pressure</th>\n",
              "      <th>oldpeak_eq_st_depression</th>\n",
              "    </tr>\n",
              "  </thead>\n",
              "  <tbody>\n",
              "    <tr>\n",
              "      <th>0</th>\n",
              "      <td>0</td>\n",
              "      <td>1</td>\n",
              "      <td>0</td>\n",
              "      <td>0</td>\n",
              "      <td>0</td>\n",
              "      <td>1</td>\n",
              "      <td>0</td>\n",
              "      <td>0</td>\n",
              "      <td>0</td>\n",
              "      <td>0</td>\n",
              "      <td>0</td>\n",
              "      <td>1</td>\n",
              "      <td>1</td>\n",
              "      <td>0</td>\n",
              "      <td>0</td>\n",
              "      <td>1.136120</td>\n",
              "      <td>0.932485</td>\n",
              "      <td>-1.053964</td>\n",
              "      <td>-0.195195</td>\n",
              "      <td>-1.114680</td>\n",
              "    </tr>\n",
              "    <tr>\n",
              "      <th>1</th>\n",
              "      <td>0</td>\n",
              "      <td>0</td>\n",
              "      <td>0</td>\n",
              "      <td>1</td>\n",
              "      <td>0</td>\n",
              "      <td>1</td>\n",
              "      <td>0</td>\n",
              "      <td>0</td>\n",
              "      <td>0</td>\n",
              "      <td>0</td>\n",
              "      <td>0</td>\n",
              "      <td>0</td>\n",
              "      <td>0</td>\n",
              "      <td>1</td>\n",
              "      <td>0</td>\n",
              "      <td>-0.640365</td>\n",
              "      <td>0.387084</td>\n",
              "      <td>-0.087134</td>\n",
              "      <td>-1.256320</td>\n",
              "      <td>0.772626</td>\n",
              "    </tr>\n",
              "    <tr>\n",
              "      <th>2</th>\n",
              "      <td>0</td>\n",
              "      <td>1</td>\n",
              "      <td>1</td>\n",
              "      <td>0</td>\n",
              "      <td>0</td>\n",
              "      <td>1</td>\n",
              "      <td>0</td>\n",
              "      <td>0</td>\n",
              "      <td>0</td>\n",
              "      <td>1</td>\n",
              "      <td>0</td>\n",
              "      <td>1</td>\n",
              "      <td>0</td>\n",
              "      <td>0</td>\n",
              "      <td>1</td>\n",
              "      <td>1.072302</td>\n",
              "      <td>0.568884</td>\n",
              "      <td>2.383654</td>\n",
              "      <td>-0.372049</td>\n",
              "      <td>-1.114680</td>\n",
              "    </tr>\n",
              "    <tr>\n",
              "      <th>3</th>\n",
              "      <td>0</td>\n",
              "      <td>1</td>\n",
              "      <td>0</td>\n",
              "      <td>0</td>\n",
              "      <td>0</td>\n",
              "      <td>0</td>\n",
              "      <td>1</td>\n",
              "      <td>0</td>\n",
              "      <td>0</td>\n",
              "      <td>0</td>\n",
              "      <td>0</td>\n",
              "      <td>0</td>\n",
              "      <td>0</td>\n",
              "      <td>0</td>\n",
              "      <td>1</td>\n",
              "      <td>-0.439512</td>\n",
              "      <td>1.432436</td>\n",
              "      <td>-1.591092</td>\n",
              "      <td>1.219639</td>\n",
              "      <td>-1.114680</td>\n",
              "    </tr>\n",
              "    <tr>\n",
              "      <th>4</th>\n",
              "      <td>0</td>\n",
              "      <td>1</td>\n",
              "      <td>0</td>\n",
              "      <td>0</td>\n",
              "      <td>1</td>\n",
              "      <td>0</td>\n",
              "      <td>1</td>\n",
              "      <td>0</td>\n",
              "      <td>0</td>\n",
              "      <td>0</td>\n",
              "      <td>0</td>\n",
              "      <td>1</td>\n",
              "      <td>0</td>\n",
              "      <td>0</td>\n",
              "      <td>0</td>\n",
              "      <td>0.493405</td>\n",
              "      <td>-0.203768</td>\n",
              "      <td>0.449994</td>\n",
              "      <td>2.752375</td>\n",
              "      <td>2.141716</td>\n",
              "    </tr>\n",
              "  </tbody>\n",
              "</table>\n",
              "</div>"
            ],
            "text/plain": [
              "   fasting_blood_sugar_gt_120_mg_per_dl  ...  oldpeak_eq_st_depression\n",
              "0                                     0  ...                 -1.114680\n",
              "1                                     0  ...                  0.772626\n",
              "2                                     0  ...                 -1.114680\n",
              "3                                     0  ...                 -1.114680\n",
              "4                                     0  ...                  2.141716\n",
              "\n",
              "[5 rows x 20 columns]"
            ]
          },
          "metadata": {
            "tags": []
          },
          "execution_count": 143
        }
      ]
    },
    {
      "cell_type": "code",
      "metadata": {
        "id": "kdo8ndpAv67M",
        "colab_type": "code",
        "outputId": "1d87c332-b889-4083-b118-a1a8665b20dc",
        "colab": {
          "base_uri": "https://localhost:8080/",
          "height": 372
        }
      },
      "source": [
        "for te, tr in zip(submis_clean_df.drop(labels = 'patient_id', axis =1).columns, all_clean.drop(labels = ['patient_id', 'heart_disease_present'], axis = 1).columns):\n",
        "    print(tr, '\\t', te)"
      ],
      "execution_count": 0,
      "outputs": [
        {
          "output_type": "stream",
          "text": [
            "fasting_blood_sugar_gt_120_mg_per_dl \t fasting_blood_sugar_gt_120_mg_per_dl\n",
            "sex \t sex\n",
            "exercise_induced_angina \t exercise_induced_angina\n",
            "slope_of_peak_exercise_st_segment|2 \t slope_of_peak_exercise_st_segment|2\n",
            "slope_of_peak_exercise_st_segment|3 \t slope_of_peak_exercise_st_segment|3\n",
            "thal|normal \t thal|normal\n",
            "thal|reversible_defect \t thal|reversible_defect\n",
            "num_major_vessels|1 \t num_major_vessels|1\n",
            "num_major_vessels|2 \t num_major_vessels|2\n",
            "num_major_vessels|3 \t num_major_vessels|3\n",
            "resting_ekg_results|1 \t resting_ekg_results|1\n",
            "resting_ekg_results|2 \t resting_ekg_results|2\n",
            "chest_pain_type|2 \t chest_pain_type|2\n",
            "chest_pain_type|3 \t chest_pain_type|3\n",
            "chest_pain_type|4 \t chest_pain_type|4\n",
            "serum_cholesterol_mg_per_dl \t serum_cholesterol_mg_per_dl\n",
            "max_heart_rate_achieved \t max_heart_rate_achieved\n",
            "age \t age\n",
            "resting_blood_pressure \t resting_blood_pressure\n",
            "oldpeak_eq_st_depression \t oldpeak_eq_st_depression\n"
          ],
          "name": "stdout"
        }
      ]
    },
    {
      "cell_type": "code",
      "metadata": {
        "id": "vbKEqEErDw35",
        "colab_type": "code",
        "colab": {}
      },
      "source": [
        "import keras\n",
        "from keras.models import Sequential\n",
        "from keras.layers import Dense\n",
        "\n",
        "from sklearn.model_selection import StratifiedKFold\n",
        "\n",
        "from sklearn.metrics import log_loss, classification_report"
      ],
      "execution_count": 0,
      "outputs": []
    },
    {
      "cell_type": "code",
      "metadata": {
        "id": "SMHhlUNIRs-_",
        "colab_type": "code",
        "colab": {}
      },
      "source": [
        "x = all_clean.drop(labels = ['patient_id', 'heart_disease_present'], axis = 1).values\n",
        "y = all_clean['heart_disease_present'].values"
      ],
      "execution_count": 0,
      "outputs": []
    },
    {
      "cell_type": "code",
      "metadata": {
        "id": "9T7Z6pPHxDJL",
        "colab_type": "code",
        "outputId": "b27b025a-3ea0-43e7-e925-5e522546259a",
        "colab": {
          "base_uri": "https://localhost:8080/",
          "height": 247
        }
      },
      "source": [
        "submis_x = submis_clean_df.drop(labels = 'patient_id', axis = 1).values\n",
        "submis_x"
      ],
      "execution_count": 0,
      "outputs": [
        {
          "output_type": "execute_result",
          "data": {
            "text/plain": [
              "array([[ 0.        ,  1.        ,  0.        , ...,  0.44999378,\n",
              "         2.28076406, -0.75456254],\n",
              "       [ 0.        ,  0.        ,  0.        , ..., -2.12821993,\n",
              "         0.39431935,  0.61452722],\n",
              "       [ 0.        ,  1.        ,  1.        , ..., -1.26881536,\n",
              "        -0.66680581,  1.35975086],\n",
              "       ...,\n",
              "       [ 0.        ,  1.        ,  0.        , ..., -1.37624093,\n",
              "         0.98383332,  0.04630363],\n",
              "       [ 0.        ,  0.        ,  1.        , ..., -0.94653865,\n",
              "         0.39431935, -1.11468025],\n",
              "       [ 0.        ,  1.        ,  0.        , ..., -1.26881536,\n",
              "         1.10173612,  0.69515796]])"
            ]
          },
          "metadata": {
            "tags": []
          },
          "execution_count": 146
        }
      ]
    },
    {
      "cell_type": "code",
      "metadata": {
        "id": "Tq8qsgcVSVx-",
        "colab_type": "code",
        "outputId": "1cc2d797-86fe-4d5f-a57e-38dcdadfed81",
        "colab": {
          "base_uri": "https://localhost:8080/",
          "height": 34
        }
      },
      "source": [
        "x.shape"
      ],
      "execution_count": 0,
      "outputs": [
        {
          "output_type": "execute_result",
          "data": {
            "text/plain": [
              "(180, 20)"
            ]
          },
          "metadata": {
            "tags": []
          },
          "execution_count": 94
        }
      ]
    },
    {
      "cell_type": "code",
      "metadata": {
        "id": "HvnjMhY4Dw58",
        "colab_type": "code",
        "colab": {}
      },
      "source": [
        "# fix random seed for reproducibility\n",
        "seed = 42\n",
        "np.random.seed(seed)\n",
        "\n",
        "\n",
        "# define 10-fold cross validation test harness\n",
        "kfold = StratifiedKFold(n_splits=10, shuffle=True, random_state=seed)\n",
        "cvscores = []\n",
        "log_l = []\n",
        "\n",
        "for train, test in kfold.split(x, y): \n",
        "    \n",
        "    # create model\n",
        "    clf = Sequential()\n",
        "    \n",
        "    clf.add(Dense(output_dim = 12, input_dim = 20, activation = 'relu', init = 'uniform'))\n",
        "#     clf.add(Dense(output_dim = 6, activation = 'relu', init = 'uniform'))\n",
        "    clf.add(Dense(output_dim = 12, activation = 'relu', init = 'uniform'))\n",
        "    clf.add(Dense(output_dim = 1, init = 'uniform', activation = 'sigmoid'))\n",
        "    \n",
        "    # Compile model\n",
        "    clf.compile(optimizer = 'adam', metrics = ['accuracy'], loss = 'binary_crossentropy')\n",
        "\n",
        "    # Fit the model\n",
        "    clf.fit(x[train], y[train], epochs = 100, batch_size = 10, verbose = 0)\n",
        "#     model.fit(X[train], Y[train], epochs=150, batch_size=13030, verbose=0)\n",
        "\t\n",
        "    # evaluate the model\n",
        "    scores = clf.evaluate(x[test], y[test], verbose=0)\n",
        "    logl = log_loss(y[test], clf.predict_proba(x[test]))\n",
        "\t\n",
        "    print(\"%s: %.2f%%\" % (clf.metrics_names[1], scores[1]*100))\n",
        "    cvscores.append(scores[1] * 100)\n",
        "    \n",
        "    log_l.append(logl * 100)\n",
        "\n",
        "print('\\n')\n",
        "print('CV Scores are')\n",
        "print(cvscores)    \n",
        "print(\"%.2f%% (+/- %.2f%%)\" % (np.mean(cvscores), np.std(cvscores)))\n",
        "print('\\n')\n",
        "\n",
        "print('Log Loss are')\n",
        "print(log_l)\n",
        "print(\"%.2f%% (+/- %.2f%%)\" % (np.mean(log_l), np.std(log_l)))"
      ],
      "execution_count": 0,
      "outputs": []
    },
    {
      "cell_type": "code",
      "metadata": {
        "id": "OE--9WHaDxFO",
        "colab_type": "code",
        "outputId": "428a39f3-5359-4b86-e697-3ed6c1fdb9e6",
        "colab": {
          "base_uri": "https://localhost:8080/",
          "height": 1000
        }
      },
      "source": [
        "# fix random seed for reproducibility\n",
        "seed = 42\n",
        "np.random.seed(seed)\n",
        "\n",
        "\n",
        "# define 10-fold cross validation test harness\n",
        "kfold = StratifiedKFold(n_splits=15, shuffle=True, random_state=seed)\n",
        "cvscores = []\n",
        "log_l = []\n",
        "\n",
        "for train, test in kfold.split(x, y): \n",
        "    \n",
        "    # create model\n",
        "    clf = Sequential()\n",
        "    \n",
        "    clf.add(Dense(output_dim = 10, input_dim = 20, activation = 'relu'))\n",
        "    clf.add(Dense(output_dim = 20, activation = 'relu'))\n",
        "    clf.add(Dense(output_dim = 20, activation = 'relu'))\n",
        "    clf.add(Dense(output_dim = 1, activation = 'sigmoid'))\n",
        "    \n",
        "    # Compile model\n",
        "    clf.compile(optimizer = 'adam', metrics = ['accuracy'], loss = 'binary_crossentropy')\n",
        "\n",
        "    # Fit the model\n",
        "    clf.fit(x[train], y[train], epochs = 250, batch_size = 90, verbose = 0)\n",
        "#     model.fit(X[train], Y[train], epochs=150, batch_size=13030, verbose=0)\n",
        "\t\n",
        "    # evaluate the model\n",
        "    scores = clf.evaluate(x[test], y[test], verbose=0)\n",
        "    logl = log_loss(y[test], clf.predict_proba(x[test]))\n",
        "\t\n",
        "    print(\"%s: %.2f%%\" % (clf.metrics_names[1], scores[1]*100))\n",
        "    cvscores.append(scores[1] * 100)\n",
        "    \n",
        "    log_l.append(logl * 100)\n",
        "    \n",
        "#     if logl > .10:\n",
        "#         print('\\n')\n",
        "#         print('!!! loop broken !!!')\n",
        "#         print('\\n')\n",
        "#         break\n",
        "\n",
        "print('\\n')\n",
        "print('CV Scores are')\n",
        "print(cvscores)    \n",
        "print(\"%.2f%% (+/- %.2f%%)\" % (np.mean(cvscores), np.std(cvscores)))\n",
        "print('\\n')\n",
        "\n",
        "print('Log Loss are')\n",
        "print(log_l)\n",
        "print(\"%.2f%% (+/- %.2f%%)\" % (np.mean(log_l), np.std(log_l)))"
      ],
      "execution_count": 0,
      "outputs": [
        {
          "output_type": "stream",
          "text": [
            "/usr/local/lib/python3.6/dist-packages/ipykernel_launcher.py:15: UserWarning: Update your `Dense` call to the Keras 2 API: `Dense(input_dim=20, activation=\"relu\", units=10)`\n",
            "  from ipykernel import kernelapp as app\n",
            "/usr/local/lib/python3.6/dist-packages/ipykernel_launcher.py:16: UserWarning: Update your `Dense` call to the Keras 2 API: `Dense(activation=\"relu\", units=20)`\n",
            "  app.launch_new_instance()\n",
            "/usr/local/lib/python3.6/dist-packages/ipykernel_launcher.py:17: UserWarning: Update your `Dense` call to the Keras 2 API: `Dense(activation=\"relu\", units=20)`\n",
            "/usr/local/lib/python3.6/dist-packages/ipykernel_launcher.py:18: UserWarning: Update your `Dense` call to the Keras 2 API: `Dense(activation=\"sigmoid\", units=1)`\n"
          ],
          "name": "stderr"
        },
        {
          "output_type": "stream",
          "text": [
            "acc: 69.23%\n"
          ],
          "name": "stdout"
        },
        {
          "output_type": "stream",
          "text": [
            "/usr/local/lib/python3.6/dist-packages/ipykernel_launcher.py:15: UserWarning: Update your `Dense` call to the Keras 2 API: `Dense(input_dim=20, activation=\"relu\", units=10)`\n",
            "  from ipykernel import kernelapp as app\n",
            "/usr/local/lib/python3.6/dist-packages/ipykernel_launcher.py:16: UserWarning: Update your `Dense` call to the Keras 2 API: `Dense(activation=\"relu\", units=20)`\n",
            "  app.launch_new_instance()\n",
            "/usr/local/lib/python3.6/dist-packages/ipykernel_launcher.py:17: UserWarning: Update your `Dense` call to the Keras 2 API: `Dense(activation=\"relu\", units=20)`\n",
            "/usr/local/lib/python3.6/dist-packages/ipykernel_launcher.py:18: UserWarning: Update your `Dense` call to the Keras 2 API: `Dense(activation=\"sigmoid\", units=1)`\n"
          ],
          "name": "stderr"
        },
        {
          "output_type": "stream",
          "text": [
            "acc: 92.31%\n"
          ],
          "name": "stdout"
        },
        {
          "output_type": "stream",
          "text": [
            "/usr/local/lib/python3.6/dist-packages/ipykernel_launcher.py:15: UserWarning: Update your `Dense` call to the Keras 2 API: `Dense(input_dim=20, activation=\"relu\", units=10)`\n",
            "  from ipykernel import kernelapp as app\n",
            "/usr/local/lib/python3.6/dist-packages/ipykernel_launcher.py:16: UserWarning: Update your `Dense` call to the Keras 2 API: `Dense(activation=\"relu\", units=20)`\n",
            "  app.launch_new_instance()\n",
            "/usr/local/lib/python3.6/dist-packages/ipykernel_launcher.py:17: UserWarning: Update your `Dense` call to the Keras 2 API: `Dense(activation=\"relu\", units=20)`\n",
            "/usr/local/lib/python3.6/dist-packages/ipykernel_launcher.py:18: UserWarning: Update your `Dense` call to the Keras 2 API: `Dense(activation=\"sigmoid\", units=1)`\n",
            "/usr/local/lib/python3.6/dist-packages/sklearn/metrics/classification.py:2174: RuntimeWarning: divide by zero encountered in log\n",
            "  loss = -(transformed_labels * np.log(y_pred)).sum(axis=1)\n",
            "/usr/local/lib/python3.6/dist-packages/sklearn/metrics/classification.py:2174: RuntimeWarning: invalid value encountered in multiply\n",
            "  loss = -(transformed_labels * np.log(y_pred)).sum(axis=1)\n",
            "/usr/local/lib/python3.6/dist-packages/ipykernel_launcher.py:15: UserWarning: Update your `Dense` call to the Keras 2 API: `Dense(input_dim=20, activation=\"relu\", units=10)`\n",
            "  from ipykernel import kernelapp as app\n",
            "/usr/local/lib/python3.6/dist-packages/ipykernel_launcher.py:16: UserWarning: Update your `Dense` call to the Keras 2 API: `Dense(activation=\"relu\", units=20)`\n",
            "  app.launch_new_instance()\n",
            "/usr/local/lib/python3.6/dist-packages/ipykernel_launcher.py:17: UserWarning: Update your `Dense` call to the Keras 2 API: `Dense(activation=\"relu\", units=20)`\n",
            "/usr/local/lib/python3.6/dist-packages/ipykernel_launcher.py:18: UserWarning: Update your `Dense` call to the Keras 2 API: `Dense(activation=\"sigmoid\", units=1)`\n"
          ],
          "name": "stderr"
        },
        {
          "output_type": "stream",
          "text": [
            "acc: 84.62%\n",
            "acc: 76.92%\n"
          ],
          "name": "stdout"
        },
        {
          "output_type": "stream",
          "text": [
            "/usr/local/lib/python3.6/dist-packages/ipykernel_launcher.py:15: UserWarning: Update your `Dense` call to the Keras 2 API: `Dense(input_dim=20, activation=\"relu\", units=10)`\n",
            "  from ipykernel import kernelapp as app\n",
            "/usr/local/lib/python3.6/dist-packages/ipykernel_launcher.py:16: UserWarning: Update your `Dense` call to the Keras 2 API: `Dense(activation=\"relu\", units=20)`\n",
            "  app.launch_new_instance()\n",
            "/usr/local/lib/python3.6/dist-packages/ipykernel_launcher.py:17: UserWarning: Update your `Dense` call to the Keras 2 API: `Dense(activation=\"relu\", units=20)`\n",
            "/usr/local/lib/python3.6/dist-packages/ipykernel_launcher.py:18: UserWarning: Update your `Dense` call to the Keras 2 API: `Dense(activation=\"sigmoid\", units=1)`\n"
          ],
          "name": "stderr"
        },
        {
          "output_type": "stream",
          "text": [
            "acc: 76.92%\n"
          ],
          "name": "stdout"
        },
        {
          "output_type": "stream",
          "text": [
            "/usr/local/lib/python3.6/dist-packages/ipykernel_launcher.py:15: UserWarning: Update your `Dense` call to the Keras 2 API: `Dense(input_dim=20, activation=\"relu\", units=10)`\n",
            "  from ipykernel import kernelapp as app\n",
            "/usr/local/lib/python3.6/dist-packages/ipykernel_launcher.py:16: UserWarning: Update your `Dense` call to the Keras 2 API: `Dense(activation=\"relu\", units=20)`\n",
            "  app.launch_new_instance()\n",
            "/usr/local/lib/python3.6/dist-packages/ipykernel_launcher.py:17: UserWarning: Update your `Dense` call to the Keras 2 API: `Dense(activation=\"relu\", units=20)`\n",
            "/usr/local/lib/python3.6/dist-packages/ipykernel_launcher.py:18: UserWarning: Update your `Dense` call to the Keras 2 API: `Dense(activation=\"sigmoid\", units=1)`\n"
          ],
          "name": "stderr"
        },
        {
          "output_type": "stream",
          "text": [
            "acc: 58.33%\n"
          ],
          "name": "stdout"
        },
        {
          "output_type": "stream",
          "text": [
            "/usr/local/lib/python3.6/dist-packages/ipykernel_launcher.py:15: UserWarning: Update your `Dense` call to the Keras 2 API: `Dense(input_dim=20, activation=\"relu\", units=10)`\n",
            "  from ipykernel import kernelapp as app\n",
            "/usr/local/lib/python3.6/dist-packages/ipykernel_launcher.py:16: UserWarning: Update your `Dense` call to the Keras 2 API: `Dense(activation=\"relu\", units=20)`\n",
            "  app.launch_new_instance()\n",
            "/usr/local/lib/python3.6/dist-packages/ipykernel_launcher.py:17: UserWarning: Update your `Dense` call to the Keras 2 API: `Dense(activation=\"relu\", units=20)`\n",
            "/usr/local/lib/python3.6/dist-packages/ipykernel_launcher.py:18: UserWarning: Update your `Dense` call to the Keras 2 API: `Dense(activation=\"sigmoid\", units=1)`\n"
          ],
          "name": "stderr"
        },
        {
          "output_type": "stream",
          "text": [
            "acc: 66.67%\n"
          ],
          "name": "stdout"
        },
        {
          "output_type": "stream",
          "text": [
            "/usr/local/lib/python3.6/dist-packages/ipykernel_launcher.py:15: UserWarning: Update your `Dense` call to the Keras 2 API: `Dense(input_dim=20, activation=\"relu\", units=10)`\n",
            "  from ipykernel import kernelapp as app\n",
            "/usr/local/lib/python3.6/dist-packages/ipykernel_launcher.py:16: UserWarning: Update your `Dense` call to the Keras 2 API: `Dense(activation=\"relu\", units=20)`\n",
            "  app.launch_new_instance()\n",
            "/usr/local/lib/python3.6/dist-packages/ipykernel_launcher.py:17: UserWarning: Update your `Dense` call to the Keras 2 API: `Dense(activation=\"relu\", units=20)`\n",
            "/usr/local/lib/python3.6/dist-packages/ipykernel_launcher.py:18: UserWarning: Update your `Dense` call to the Keras 2 API: `Dense(activation=\"sigmoid\", units=1)`\n"
          ],
          "name": "stderr"
        },
        {
          "output_type": "stream",
          "text": [
            "acc: 83.33%\n"
          ],
          "name": "stdout"
        },
        {
          "output_type": "stream",
          "text": [
            "/usr/local/lib/python3.6/dist-packages/ipykernel_launcher.py:15: UserWarning: Update your `Dense` call to the Keras 2 API: `Dense(input_dim=20, activation=\"relu\", units=10)`\n",
            "  from ipykernel import kernelapp as app\n",
            "/usr/local/lib/python3.6/dist-packages/ipykernel_launcher.py:16: UserWarning: Update your `Dense` call to the Keras 2 API: `Dense(activation=\"relu\", units=20)`\n",
            "  app.launch_new_instance()\n",
            "/usr/local/lib/python3.6/dist-packages/ipykernel_launcher.py:17: UserWarning: Update your `Dense` call to the Keras 2 API: `Dense(activation=\"relu\", units=20)`\n",
            "/usr/local/lib/python3.6/dist-packages/ipykernel_launcher.py:18: UserWarning: Update your `Dense` call to the Keras 2 API: `Dense(activation=\"sigmoid\", units=1)`\n"
          ],
          "name": "stderr"
        },
        {
          "output_type": "stream",
          "text": [
            "acc: 75.00%\n"
          ],
          "name": "stdout"
        },
        {
          "output_type": "stream",
          "text": [
            "/usr/local/lib/python3.6/dist-packages/ipykernel_launcher.py:15: UserWarning: Update your `Dense` call to the Keras 2 API: `Dense(input_dim=20, activation=\"relu\", units=10)`\n",
            "  from ipykernel import kernelapp as app\n",
            "/usr/local/lib/python3.6/dist-packages/ipykernel_launcher.py:16: UserWarning: Update your `Dense` call to the Keras 2 API: `Dense(activation=\"relu\", units=20)`\n",
            "  app.launch_new_instance()\n",
            "/usr/local/lib/python3.6/dist-packages/ipykernel_launcher.py:17: UserWarning: Update your `Dense` call to the Keras 2 API: `Dense(activation=\"relu\", units=20)`\n",
            "/usr/local/lib/python3.6/dist-packages/ipykernel_launcher.py:18: UserWarning: Update your `Dense` call to the Keras 2 API: `Dense(activation=\"sigmoid\", units=1)`\n"
          ],
          "name": "stderr"
        },
        {
          "output_type": "stream",
          "text": [
            "acc: 75.00%\n"
          ],
          "name": "stdout"
        },
        {
          "output_type": "stream",
          "text": [
            "/usr/local/lib/python3.6/dist-packages/ipykernel_launcher.py:15: UserWarning: Update your `Dense` call to the Keras 2 API: `Dense(input_dim=20, activation=\"relu\", units=10)`\n",
            "  from ipykernel import kernelapp as app\n",
            "/usr/local/lib/python3.6/dist-packages/ipykernel_launcher.py:16: UserWarning: Update your `Dense` call to the Keras 2 API: `Dense(activation=\"relu\", units=20)`\n",
            "  app.launch_new_instance()\n",
            "/usr/local/lib/python3.6/dist-packages/ipykernel_launcher.py:17: UserWarning: Update your `Dense` call to the Keras 2 API: `Dense(activation=\"relu\", units=20)`\n",
            "/usr/local/lib/python3.6/dist-packages/ipykernel_launcher.py:18: UserWarning: Update your `Dense` call to the Keras 2 API: `Dense(activation=\"sigmoid\", units=1)`\n"
          ],
          "name": "stderr"
        },
        {
          "output_type": "stream",
          "text": [
            "acc: 90.91%\n"
          ],
          "name": "stdout"
        },
        {
          "output_type": "stream",
          "text": [
            "/usr/local/lib/python3.6/dist-packages/ipykernel_launcher.py:15: UserWarning: Update your `Dense` call to the Keras 2 API: `Dense(input_dim=20, activation=\"relu\", units=10)`\n",
            "  from ipykernel import kernelapp as app\n",
            "/usr/local/lib/python3.6/dist-packages/ipykernel_launcher.py:16: UserWarning: Update your `Dense` call to the Keras 2 API: `Dense(activation=\"relu\", units=20)`\n",
            "  app.launch_new_instance()\n",
            "/usr/local/lib/python3.6/dist-packages/ipykernel_launcher.py:17: UserWarning: Update your `Dense` call to the Keras 2 API: `Dense(activation=\"relu\", units=20)`\n",
            "/usr/local/lib/python3.6/dist-packages/ipykernel_launcher.py:18: UserWarning: Update your `Dense` call to the Keras 2 API: `Dense(activation=\"sigmoid\", units=1)`\n"
          ],
          "name": "stderr"
        },
        {
          "output_type": "stream",
          "text": [
            "acc: 54.55%\n"
          ],
          "name": "stdout"
        },
        {
          "output_type": "stream",
          "text": [
            "/usr/local/lib/python3.6/dist-packages/ipykernel_launcher.py:15: UserWarning: Update your `Dense` call to the Keras 2 API: `Dense(input_dim=20, activation=\"relu\", units=10)`\n",
            "  from ipykernel import kernelapp as app\n",
            "/usr/local/lib/python3.6/dist-packages/ipykernel_launcher.py:16: UserWarning: Update your `Dense` call to the Keras 2 API: `Dense(activation=\"relu\", units=20)`\n",
            "  app.launch_new_instance()\n",
            "/usr/local/lib/python3.6/dist-packages/ipykernel_launcher.py:17: UserWarning: Update your `Dense` call to the Keras 2 API: `Dense(activation=\"relu\", units=20)`\n",
            "/usr/local/lib/python3.6/dist-packages/ipykernel_launcher.py:18: UserWarning: Update your `Dense` call to the Keras 2 API: `Dense(activation=\"sigmoid\", units=1)`\n"
          ],
          "name": "stderr"
        },
        {
          "output_type": "stream",
          "text": [
            "acc: 81.82%\n"
          ],
          "name": "stdout"
        },
        {
          "output_type": "stream",
          "text": [
            "/usr/local/lib/python3.6/dist-packages/ipykernel_launcher.py:15: UserWarning: Update your `Dense` call to the Keras 2 API: `Dense(input_dim=20, activation=\"relu\", units=10)`\n",
            "  from ipykernel import kernelapp as app\n",
            "/usr/local/lib/python3.6/dist-packages/ipykernel_launcher.py:16: UserWarning: Update your `Dense` call to the Keras 2 API: `Dense(activation=\"relu\", units=20)`\n",
            "  app.launch_new_instance()\n",
            "/usr/local/lib/python3.6/dist-packages/ipykernel_launcher.py:17: UserWarning: Update your `Dense` call to the Keras 2 API: `Dense(activation=\"relu\", units=20)`\n",
            "/usr/local/lib/python3.6/dist-packages/ipykernel_launcher.py:18: UserWarning: Update your `Dense` call to the Keras 2 API: `Dense(activation=\"sigmoid\", units=1)`\n",
            "/usr/local/lib/python3.6/dist-packages/sklearn/metrics/classification.py:2174: RuntimeWarning: divide by zero encountered in log\n",
            "  loss = -(transformed_labels * np.log(y_pred)).sum(axis=1)\n",
            "/usr/local/lib/python3.6/dist-packages/sklearn/metrics/classification.py:2174: RuntimeWarning: invalid value encountered in multiply\n",
            "  loss = -(transformed_labels * np.log(y_pred)).sum(axis=1)\n",
            "/usr/local/lib/python3.6/dist-packages/ipykernel_launcher.py:15: UserWarning: Update your `Dense` call to the Keras 2 API: `Dense(input_dim=20, activation=\"relu\", units=10)`\n",
            "  from ipykernel import kernelapp as app\n",
            "/usr/local/lib/python3.6/dist-packages/ipykernel_launcher.py:16: UserWarning: Update your `Dense` call to the Keras 2 API: `Dense(activation=\"relu\", units=20)`\n",
            "  app.launch_new_instance()\n",
            "/usr/local/lib/python3.6/dist-packages/ipykernel_launcher.py:17: UserWarning: Update your `Dense` call to the Keras 2 API: `Dense(activation=\"relu\", units=20)`\n",
            "/usr/local/lib/python3.6/dist-packages/ipykernel_launcher.py:18: UserWarning: Update your `Dense` call to the Keras 2 API: `Dense(activation=\"sigmoid\", units=1)`\n"
          ],
          "name": "stderr"
        },
        {
          "output_type": "stream",
          "text": [
            "acc: 63.64%\n",
            "acc: 81.82%\n",
            "\n",
            "\n",
            "CV Scores are\n",
            "[69.2307710647583, 92.30769276618958, 84.61538553237915, 76.92307829856873, 76.92307829856873, 58.33333134651184, 66.66666865348816, 83.33333134651184, 75.0, 75.0, 90.90909361839294, 54.54545617103577, 81.81818127632141, 63.63636255264282, 81.81818127632141]\n",
            "75.40% (+/- 10.77%)\n",
            "\n",
            "\n",
            "Log Loss are\n",
            "[88.16545873519317, 29.765165119673696, nan, 143.28599159443561, 150.75384299736226, 198.06204882164212, 113.81095619835833, 70.78886503422837, 73.69845045268448, 136.9316186263556, 14.514838967377067, 118.93107859767724, 27.35119793267751, nan, 52.416247107612435]\n",
            "nan% (+/- nan%)\n"
          ],
          "name": "stdout"
        }
      ]
    },
    {
      "cell_type": "code",
      "metadata": {
        "id": "5KNuAz88DxJN",
        "colab_type": "code",
        "outputId": "fdc25c14-e8f1-4108-d0c3-09360295df6c",
        "colab": {
          "base_uri": "https://localhost:8080/",
          "height": 34
        }
      },
      "source": [
        "log_loss(y,clf.predict_proba(x))"
      ],
      "execution_count": 0,
      "outputs": [
        {
          "output_type": "execute_result",
          "data": {
            "text/plain": [
              "0.1861456206067367"
            ]
          },
          "metadata": {
            "tags": []
          },
          "execution_count": 162
        }
      ]
    },
    {
      "cell_type": "code",
      "metadata": {
        "id": "fHnD4EoKDxMB",
        "colab_type": "code",
        "colab": {}
      },
      "source": [
        "submis_pred = pd.DataFrame(clf.predict_proba(submis_x), columns = ['heart_disease_present'])\n",
        "submis_final = pd.concat([submis_clean_df['patient_id'], submis_pred['heart_disease_present']], axis =1).set_index('patient_id')\n",
        "\n",
        "submis_final.to_csv('submis2.csv')"
      ],
      "execution_count": 0,
      "outputs": []
    },
    {
      "cell_type": "code",
      "metadata": {
        "id": "bYhrCePdDxSK",
        "colab_type": "code",
        "colab": {}
      },
      "source": [
        ""
      ],
      "execution_count": 0,
      "outputs": []
    },
    {
      "cell_type": "code",
      "metadata": {
        "id": "yjy1prK3DxUo",
        "colab_type": "code",
        "outputId": "233becd9-0a1e-4f2b-b5a7-7cb056977e49",
        "colab": {
          "base_uri": "https://localhost:8080/",
          "height": 72
        }
      },
      "source": [
        "from imblearn.over_sampling import SMOTE\n",
        "from sklearn.model_selection import train_test_split as tts, GridSearchCV\n",
        "from sklearn.ensemble import RandomForestClassifier, VotingClassifier\n",
        "from sklearn.linear_model import LogisticRegression\n",
        "from sklearn.svm import SVC\n",
        "from xgboost import XGBClassifier\n",
        "\n",
        "import keras\n",
        "from keras.models import Sequential\n",
        "from keras.layers import Dense\n",
        "\n",
        "from sklearn.metrics import log_loss, classification_report"
      ],
      "execution_count": 0,
      "outputs": [
        {
          "output_type": "stream",
          "text": [
            "/usr/local/lib/python3.6/dist-packages/sklearn/externals/six.py:31: DeprecationWarning: The module is deprecated in version 0.21 and will be removed in version 0.23 since we've dropped support for Python 2.7. Please rely on the official version of six (https://pypi.org/project/six/).\n",
            "  \"(https://pypi.org/project/six/).\", DeprecationWarning)\n"
          ],
          "name": "stderr"
        }
      ]
    },
    {
      "cell_type": "code",
      "metadata": {
        "id": "WvJek1PxLx_N",
        "colab_type": "code",
        "outputId": "952b5d9c-353f-4d1c-d870-bf6c7ed7417a",
        "colab": {
          "base_uri": "https://localhost:8080/",
          "height": 158
        }
      },
      "source": [
        "gs.best_params_"
      ],
      "execution_count": 0,
      "outputs": [
        {
          "output_type": "execute_result",
          "data": {
            "text/plain": [
              "{'lr__C': 0.0009,\n",
              " 'lr__penalty': 'l1',\n",
              " 'rfc__n_estimators': 7,\n",
              " 'svm__C': 0.082,\n",
              " 'svm__kernel': 'linear',\n",
              " 'xgb__gamma': 0.00094,\n",
              " 'xgb__learning_rate': 0.09,\n",
              " 'xgb__n_estimators': 3}"
            ]
          },
          "metadata": {
            "tags": []
          },
          "execution_count": 201
        }
      ]
    },
    {
      "cell_type": "code",
      "metadata": {
        "id": "1JJZco8_DxXi",
        "colab_type": "code",
        "outputId": "ca919ff8-7731-4be0-b935-d95000ef282a",
        "colab": {
          "base_uri": "https://localhost:8080/",
          "height": 621
        }
      },
      "source": [
        "voters = VotingClassifier(\n",
        "    estimators = [\n",
        "    ('svm', SVC(random_state = 42, probability = True)), \n",
        "    ('lr', LogisticRegression(random_state = 42)), \n",
        "    ('xgb', XGBClassifier(objective = 'binary:logistic')), \n",
        "    ('rfc', RandomForestClassifier())\n",
        "    ], \n",
        "                         voting = 'soft')\n",
        "\n",
        "params = {\n",
        "    'lr__C':[.0009], \n",
        "         'lr__penalty':['l1'], \n",
        "         'svm__C':[.082], \n",
        "         'svm__kernel':['linear'],\n",
        "         'rfc__n_estimators':[7], \n",
        "         'xgb__n_estimators':[3], \n",
        "         'xgb__learning_rate':[.09], \n",
        "         'xgb__gamma':[ .00094]\n",
        "         }\n",
        "\n",
        "\n",
        "gs = GridSearchCV(voters, \n",
        "                 param_grid = params, \n",
        "                 cv = 10, \n",
        "                 verbose = 3, \n",
        "                 n_jobs = -1)\n",
        "\n",
        "gs.fit(x, y)"
      ],
      "execution_count": 0,
      "outputs": [
        {
          "output_type": "stream",
          "text": [
            "Fitting 10 folds for each of 1 candidates, totalling 10 fits\n"
          ],
          "name": "stdout"
        },
        {
          "output_type": "stream",
          "text": [
            "[Parallel(n_jobs=-1)]: Using backend LokyBackend with 2 concurrent workers.\n",
            "[Parallel(n_jobs=-1)]: Done   3 out of  10 | elapsed:    0.1s remaining:    0.1s\n",
            "[Parallel(n_jobs=-1)]: Done  10 out of  10 | elapsed:    0.2s finished\n",
            "/usr/local/lib/python3.6/dist-packages/sklearn/linear_model/logistic.py:432: FutureWarning: Default solver will be changed to 'lbfgs' in 0.22. Specify a solver to silence this warning.\n",
            "  FutureWarning)\n"
          ],
          "name": "stderr"
        },
        {
          "output_type": "execute_result",
          "data": {
            "text/plain": [
              "GridSearchCV(cv=10, error_score='raise-deprecating',\n",
              "             estimator=VotingClassifier(estimators=[('svm',\n",
              "                                                     SVC(C=1.0, cache_size=200,\n",
              "                                                         class_weight=None,\n",
              "                                                         coef0=0.0,\n",
              "                                                         decision_function_shape='ovr',\n",
              "                                                         degree=3,\n",
              "                                                         gamma='auto_deprecated',\n",
              "                                                         kernel='rbf',\n",
              "                                                         max_iter=-1,\n",
              "                                                         probability=True,\n",
              "                                                         random_state=42,\n",
              "                                                         shrinking=True,\n",
              "                                                         tol=0.001,\n",
              "                                                         verbose=False)),\n",
              "                                                    ('lr',\n",
              "                                                     LogisticRegression(C=1.0,\n",
              "                                                                        class_w...\n",
              "                                        flatten_transform=True, n_jobs=None,\n",
              "                                        voting='soft', weights=None),\n",
              "             iid='warn', n_jobs=-1,\n",
              "             param_grid={'lr__C': [0.0009], 'lr__penalty': ['l1'],\n",
              "                         'rfc__n_estimators': [7], 'svm__C': [0.082],\n",
              "                         'svm__kernel': ['linear'], 'xgb__gamma': [0.00094],\n",
              "                         'xgb__learning_rate': [0.09],\n",
              "                         'xgb__n_estimators': [3]},\n",
              "             pre_dispatch='2*n_jobs', refit=True, return_train_score=False,\n",
              "             scoring=None, verbose=3)"
            ]
          },
          "metadata": {
            "tags": []
          },
          "execution_count": 202
        }
      ]
    },
    {
      "cell_type": "code",
      "metadata": {
        "id": "-rY6lUXeDxaU",
        "colab_type": "code",
        "outputId": "dfc28891-5bd1-4138-b0cc-d1ca65d72a7b",
        "colab": {
          "base_uri": "https://localhost:8080/",
          "height": 441
        }
      },
      "source": [
        "submis_pred = pd.DataFrame(gs.predict_proba(submis_x), columns = ['heart_disease_present'])\n",
        "submis_final = pd.concat([submis_clean_df['patient_id'], submis_pred['heart_disease_present']], axis =1).set_index('patient_id')\n",
        "\n",
        "submis_final.to_csv('submis2.csv')"
      ],
      "execution_count": 0,
      "outputs": [
        {
          "output_type": "error",
          "ename": "ValueError",
          "evalue": "ignored",
          "traceback": [
            "\u001b[0;31m---------------------------------------------------------------------------\u001b[0m",
            "\u001b[0;31mValueError\u001b[0m                                Traceback (most recent call last)",
            "\u001b[0;32m/usr/local/lib/python3.6/dist-packages/pandas/core/internals/managers.py\u001b[0m in \u001b[0;36mcreate_block_manager_from_blocks\u001b[0;34m(blocks, axes)\u001b[0m\n\u001b[1;32m   1650\u001b[0m                 blocks = [make_block(values=blocks[0],\n\u001b[0;32m-> 1651\u001b[0;31m                                      placement=slice(0, len(axes[0])))]\n\u001b[0m\u001b[1;32m   1652\u001b[0m \u001b[0;34m\u001b[0m\u001b[0m\n",
            "\u001b[0;32m/usr/local/lib/python3.6/dist-packages/pandas/core/internals/blocks.py\u001b[0m in \u001b[0;36mmake_block\u001b[0;34m(values, placement, klass, ndim, dtype, fastpath)\u001b[0m\n\u001b[1;32m   3094\u001b[0m \u001b[0;34m\u001b[0m\u001b[0m\n\u001b[0;32m-> 3095\u001b[0;31m     \u001b[0;32mreturn\u001b[0m \u001b[0mklass\u001b[0m\u001b[0;34m(\u001b[0m\u001b[0mvalues\u001b[0m\u001b[0;34m,\u001b[0m \u001b[0mndim\u001b[0m\u001b[0;34m=\u001b[0m\u001b[0mndim\u001b[0m\u001b[0;34m,\u001b[0m \u001b[0mplacement\u001b[0m\u001b[0;34m=\u001b[0m\u001b[0mplacement\u001b[0m\u001b[0;34m)\u001b[0m\u001b[0;34m\u001b[0m\u001b[0;34m\u001b[0m\u001b[0m\n\u001b[0m\u001b[1;32m   3096\u001b[0m \u001b[0;34m\u001b[0m\u001b[0m\n",
            "\u001b[0;32m/usr/local/lib/python3.6/dist-packages/pandas/core/internals/blocks.py\u001b[0m in \u001b[0;36m__init__\u001b[0;34m(self, values, placement, ndim)\u001b[0m\n\u001b[1;32m     86\u001b[0m                 \u001b[0;34m'Wrong number of items passed {val}, placement implies '\u001b[0m\u001b[0;34m\u001b[0m\u001b[0;34m\u001b[0m\u001b[0m\n\u001b[0;32m---> 87\u001b[0;31m                 '{mgr}'.format(val=len(self.values), mgr=len(self.mgr_locs)))\n\u001b[0m\u001b[1;32m     88\u001b[0m \u001b[0;34m\u001b[0m\u001b[0m\n",
            "\u001b[0;31mValueError\u001b[0m: Wrong number of items passed 2, placement implies 1",
            "\nDuring handling of the above exception, another exception occurred:\n",
            "\u001b[0;31mValueError\u001b[0m                                Traceback (most recent call last)",
            "\u001b[0;32m<ipython-input-203-956d9f8b10be>\u001b[0m in \u001b[0;36m<module>\u001b[0;34m()\u001b[0m\n\u001b[0;32m----> 1\u001b[0;31m \u001b[0msubmis_pred\u001b[0m \u001b[0;34m=\u001b[0m \u001b[0mpd\u001b[0m\u001b[0;34m.\u001b[0m\u001b[0mDataFrame\u001b[0m\u001b[0;34m(\u001b[0m\u001b[0mgs\u001b[0m\u001b[0;34m.\u001b[0m\u001b[0mpredict_proba\u001b[0m\u001b[0;34m(\u001b[0m\u001b[0msubmis_x\u001b[0m\u001b[0;34m)\u001b[0m\u001b[0;34m,\u001b[0m \u001b[0mcolumns\u001b[0m \u001b[0;34m=\u001b[0m \u001b[0;34m[\u001b[0m\u001b[0;34m'heart_disease_present'\u001b[0m\u001b[0;34m]\u001b[0m\u001b[0;34m)\u001b[0m\u001b[0;34m\u001b[0m\u001b[0;34m\u001b[0m\u001b[0m\n\u001b[0m\u001b[1;32m      2\u001b[0m \u001b[0msubmis_final\u001b[0m \u001b[0;34m=\u001b[0m \u001b[0mpd\u001b[0m\u001b[0;34m.\u001b[0m\u001b[0mconcat\u001b[0m\u001b[0;34m(\u001b[0m\u001b[0;34m[\u001b[0m\u001b[0msubmis_clean_df\u001b[0m\u001b[0;34m[\u001b[0m\u001b[0;34m'patient_id'\u001b[0m\u001b[0;34m]\u001b[0m\u001b[0;34m,\u001b[0m \u001b[0msubmis_pred\u001b[0m\u001b[0;34m[\u001b[0m\u001b[0;34m'heart_disease_present'\u001b[0m\u001b[0;34m]\u001b[0m\u001b[0;34m]\u001b[0m\u001b[0;34m,\u001b[0m \u001b[0maxis\u001b[0m \u001b[0;34m=\u001b[0m\u001b[0;36m1\u001b[0m\u001b[0;34m)\u001b[0m\u001b[0;34m.\u001b[0m\u001b[0mset_index\u001b[0m\u001b[0;34m(\u001b[0m\u001b[0;34m'patient_id'\u001b[0m\u001b[0;34m)\u001b[0m\u001b[0;34m\u001b[0m\u001b[0;34m\u001b[0m\u001b[0m\n\u001b[1;32m      3\u001b[0m \u001b[0;34m\u001b[0m\u001b[0m\n\u001b[1;32m      4\u001b[0m \u001b[0msubmis_final\u001b[0m\u001b[0;34m.\u001b[0m\u001b[0mto_csv\u001b[0m\u001b[0;34m(\u001b[0m\u001b[0;34m'submis2.csv'\u001b[0m\u001b[0;34m)\u001b[0m\u001b[0;34m\u001b[0m\u001b[0;34m\u001b[0m\u001b[0m\n",
            "\u001b[0;32m/usr/local/lib/python3.6/dist-packages/pandas/core/frame.py\u001b[0m in \u001b[0;36m__init__\u001b[0;34m(self, data, index, columns, dtype, copy)\u001b[0m\n\u001b[1;32m    422\u001b[0m             \u001b[0;32melse\u001b[0m\u001b[0;34m:\u001b[0m\u001b[0;34m\u001b[0m\u001b[0;34m\u001b[0m\u001b[0m\n\u001b[1;32m    423\u001b[0m                 mgr = init_ndarray(data, index, columns, dtype=dtype,\n\u001b[0;32m--> 424\u001b[0;31m                                    copy=copy)\n\u001b[0m\u001b[1;32m    425\u001b[0m \u001b[0;34m\u001b[0m\u001b[0m\n\u001b[1;32m    426\u001b[0m         \u001b[0;31m# For data is list-like, or Iterable (will consume into list)\u001b[0m\u001b[0;34m\u001b[0m\u001b[0;34m\u001b[0m\u001b[0;34m\u001b[0m\u001b[0m\n",
            "\u001b[0;32m/usr/local/lib/python3.6/dist-packages/pandas/core/internals/construction.py\u001b[0m in \u001b[0;36minit_ndarray\u001b[0;34m(values, index, columns, dtype, copy)\u001b[0m\n\u001b[1;32m    165\u001b[0m         \u001b[0mvalues\u001b[0m \u001b[0;34m=\u001b[0m \u001b[0mmaybe_infer_to_datetimelike\u001b[0m\u001b[0;34m(\u001b[0m\u001b[0mvalues\u001b[0m\u001b[0;34m)\u001b[0m\u001b[0;34m\u001b[0m\u001b[0;34m\u001b[0m\u001b[0m\n\u001b[1;32m    166\u001b[0m \u001b[0;34m\u001b[0m\u001b[0m\n\u001b[0;32m--> 167\u001b[0;31m     \u001b[0;32mreturn\u001b[0m \u001b[0mcreate_block_manager_from_blocks\u001b[0m\u001b[0;34m(\u001b[0m\u001b[0;34m[\u001b[0m\u001b[0mvalues\u001b[0m\u001b[0;34m]\u001b[0m\u001b[0;34m,\u001b[0m \u001b[0;34m[\u001b[0m\u001b[0mcolumns\u001b[0m\u001b[0;34m,\u001b[0m \u001b[0mindex\u001b[0m\u001b[0;34m]\u001b[0m\u001b[0;34m)\u001b[0m\u001b[0;34m\u001b[0m\u001b[0;34m\u001b[0m\u001b[0m\n\u001b[0m\u001b[1;32m    168\u001b[0m \u001b[0;34m\u001b[0m\u001b[0m\n\u001b[1;32m    169\u001b[0m \u001b[0;34m\u001b[0m\u001b[0m\n",
            "\u001b[0;32m/usr/local/lib/python3.6/dist-packages/pandas/core/internals/managers.py\u001b[0m in \u001b[0;36mcreate_block_manager_from_blocks\u001b[0;34m(blocks, axes)\u001b[0m\n\u001b[1;32m   1658\u001b[0m         \u001b[0mblocks\u001b[0m \u001b[0;34m=\u001b[0m \u001b[0;34m[\u001b[0m\u001b[0mgetattr\u001b[0m\u001b[0;34m(\u001b[0m\u001b[0mb\u001b[0m\u001b[0;34m,\u001b[0m \u001b[0;34m'values'\u001b[0m\u001b[0;34m,\u001b[0m \u001b[0mb\u001b[0m\u001b[0;34m)\u001b[0m \u001b[0;32mfor\u001b[0m \u001b[0mb\u001b[0m \u001b[0;32min\u001b[0m \u001b[0mblocks\u001b[0m\u001b[0;34m]\u001b[0m\u001b[0;34m\u001b[0m\u001b[0;34m\u001b[0m\u001b[0m\n\u001b[1;32m   1659\u001b[0m         \u001b[0mtot_items\u001b[0m \u001b[0;34m=\u001b[0m \u001b[0msum\u001b[0m\u001b[0;34m(\u001b[0m\u001b[0mb\u001b[0m\u001b[0;34m.\u001b[0m\u001b[0mshape\u001b[0m\u001b[0;34m[\u001b[0m\u001b[0;36m0\u001b[0m\u001b[0;34m]\u001b[0m \u001b[0;32mfor\u001b[0m \u001b[0mb\u001b[0m \u001b[0;32min\u001b[0m \u001b[0mblocks\u001b[0m\u001b[0;34m)\u001b[0m\u001b[0;34m\u001b[0m\u001b[0;34m\u001b[0m\u001b[0m\n\u001b[0;32m-> 1660\u001b[0;31m         \u001b[0mconstruction_error\u001b[0m\u001b[0;34m(\u001b[0m\u001b[0mtot_items\u001b[0m\u001b[0;34m,\u001b[0m \u001b[0mblocks\u001b[0m\u001b[0;34m[\u001b[0m\u001b[0;36m0\u001b[0m\u001b[0;34m]\u001b[0m\u001b[0;34m.\u001b[0m\u001b[0mshape\u001b[0m\u001b[0;34m[\u001b[0m\u001b[0;36m1\u001b[0m\u001b[0;34m:\u001b[0m\u001b[0;34m]\u001b[0m\u001b[0;34m,\u001b[0m \u001b[0maxes\u001b[0m\u001b[0;34m,\u001b[0m \u001b[0me\u001b[0m\u001b[0;34m)\u001b[0m\u001b[0;34m\u001b[0m\u001b[0;34m\u001b[0m\u001b[0m\n\u001b[0m\u001b[1;32m   1661\u001b[0m \u001b[0;34m\u001b[0m\u001b[0m\n\u001b[1;32m   1662\u001b[0m \u001b[0;34m\u001b[0m\u001b[0m\n",
            "\u001b[0;32m/usr/local/lib/python3.6/dist-packages/pandas/core/internals/managers.py\u001b[0m in \u001b[0;36mconstruction_error\u001b[0;34m(tot_items, block_shape, axes, e)\u001b[0m\n\u001b[1;32m   1689\u001b[0m         \u001b[0;32mraise\u001b[0m \u001b[0mValueError\u001b[0m\u001b[0;34m(\u001b[0m\u001b[0;34m\"Empty data passed with indices specified.\"\u001b[0m\u001b[0;34m)\u001b[0m\u001b[0;34m\u001b[0m\u001b[0;34m\u001b[0m\u001b[0m\n\u001b[1;32m   1690\u001b[0m     raise ValueError(\"Shape of passed values is {0}, indices imply {1}\".format(\n\u001b[0;32m-> 1691\u001b[0;31m         passed, implied))\n\u001b[0m\u001b[1;32m   1692\u001b[0m \u001b[0;34m\u001b[0m\u001b[0m\n\u001b[1;32m   1693\u001b[0m \u001b[0;34m\u001b[0m\u001b[0m\n",
            "\u001b[0;31mValueError\u001b[0m: Shape of passed values is (90, 2), indices imply (90, 1)"
          ]
        }
      ]
    },
    {
      "cell_type": "code",
      "metadata": {
        "id": "ZfL6YOs2TUv9",
        "colab_type": "code",
        "colab": {}
      },
      "source": [
        "pd.concat([submis_clean_df['patient_id'], pd.DataFrame(gs.predict_proba(submis_x)[:,1], columns = ['heart_disease_present'])], axis = 1).set_index('patient_id').to_csv('submis4.csv')"
      ],
      "execution_count": 0,
      "outputs": []
    },
    {
      "cell_type": "code",
      "metadata": {
        "id": "2IGAtLXIDxQc",
        "colab_type": "code",
        "colab": {}
      },
      "source": [
        ""
      ],
      "execution_count": 0,
      "outputs": []
    },
    {
      "cell_type": "code",
      "metadata": {
        "id": "1g8kTREzDxHl",
        "colab_type": "code",
        "colab": {}
      },
      "source": [
        ""
      ],
      "execution_count": 0,
      "outputs": []
    },
    {
      "cell_type": "code",
      "metadata": {
        "id": "E6Wr9k2kDxBA",
        "colab_type": "code",
        "colab": {}
      },
      "source": [
        ""
      ],
      "execution_count": 0,
      "outputs": []
    },
    {
      "cell_type": "code",
      "metadata": {
        "id": "ZEAhDyqqDw-q",
        "colab_type": "code",
        "colab": {}
      },
      "source": [
        ""
      ],
      "execution_count": 0,
      "outputs": []
    },
    {
      "cell_type": "code",
      "metadata": {
        "id": "0N34lvPRDw1r",
        "colab_type": "code",
        "colab": {}
      },
      "source": [
        ""
      ],
      "execution_count": 0,
      "outputs": []
    },
    {
      "cell_type": "code",
      "metadata": {
        "id": "K4H0-2kdacjJ",
        "colab_type": "code",
        "colab": {}
      },
      "source": [
        ""
      ],
      "execution_count": 0,
      "outputs": []
    }
  ]
}