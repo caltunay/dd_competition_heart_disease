{
  "nbformat": 4,
  "nbformat_minor": 0,
  "metadata": {
    "colab": {
      "name": "retake - 28/08 heart diz.ipynb",
      "provenance": [],
      "include_colab_link": true
    },
    "kernelspec": {
      "name": "python3",
      "display_name": "Python 3"
    },
    "accelerator": "GPU"
  },
  "cells": [
    {
      "cell_type": "markdown",
      "metadata": {
        "id": "view-in-github",
        "colab_type": "text"
      },
      "source": [
        "<a href=\"https://colab.research.google.com/github/caltunay/dd_competition_heart_disease/blob/master/retake_28_08_heart_diz.ipynb\" target=\"_parent\"><img src=\"https://colab.research.google.com/assets/colab-badge.svg\" alt=\"Open In Colab\"/></a>"
      ]
    },
    {
      "cell_type": "code",
      "metadata": {
        "id": "toZJDCH890Dp",
        "colab_type": "code",
        "outputId": "a9d7082f-c39f-45d0-dba8-e1ea22bc9ccf",
        "colab": {
          "base_uri": "https://localhost:8080/",
          "height": 122
        }
      },
      "source": [
        "from google.colab import drive\n",
        "drive.mount('/content/drive')"
      ],
      "execution_count": 0,
      "outputs": [
        {
          "output_type": "stream",
          "text": [
            "Go to this URL in a browser: https://accounts.google.com/o/oauth2/auth?client_id=947318989803-6bn6qk8qdgf4n4g3pfee6491hc0brc4i.apps.googleusercontent.com&redirect_uri=urn%3Aietf%3Awg%3Aoauth%3A2.0%3Aoob&scope=email%20https%3A%2F%2Fwww.googleapis.com%2Fauth%2Fdocs.test%20https%3A%2F%2Fwww.googleapis.com%2Fauth%2Fdrive%20https%3A%2F%2Fwww.googleapis.com%2Fauth%2Fdrive.photos.readonly%20https%3A%2F%2Fwww.googleapis.com%2Fauth%2Fpeopleapi.readonly&response_type=code\n",
            "\n",
            "Enter your authorization code:\n",
            "··········\n",
            "Mounted at /content/drive\n"
          ],
          "name": "stdout"
        }
      ]
    },
    {
      "cell_type": "code",
      "metadata": {
        "id": "oB7ZLUCD-GNA",
        "colab_type": "code",
        "colab": {}
      },
      "source": [
        "import pandas as pd \n",
        "import numpy as np\n",
        "\n",
        "test_vals = '/content/drive/My Drive/Colab Notebooks/Data/Competition - DrivenData - Heart Disease Prediction/test_values (1).csv'\n",
        "\n",
        "train_vals = '/content/drive/My Drive/Colab Notebooks/Data/Competition - DrivenData - Heart Disease Prediction/train_values (1).csv'\n",
        "train_labs = '/content/drive/My Drive/Colab Notebooks/Data/Competition - DrivenData - Heart Disease Prediction/train_labels (1).csv'"
      ],
      "execution_count": 0,
      "outputs": []
    },
    {
      "cell_type": "code",
      "metadata": {
        "id": "rGQ1LmXl-JAx",
        "colab_type": "code",
        "colab": {}
      },
      "source": [
        "all = pd.merge(left = pd.read_csv(train_vals), right = pd.read_csv(train_labs), on = 'patient_id', how = 'inner')"
      ],
      "execution_count": 0,
      "outputs": []
    },
    {
      "cell_type": "code",
      "metadata": {
        "id": "f6I-2M8F-K2o",
        "colab_type": "code",
        "outputId": "269b26d6-ee06-4d5e-c983-cb94f81fdeb8",
        "colab": {
          "base_uri": "https://localhost:8080/",
          "height": 153
        }
      },
      "source": [
        "cats = 'slope_of_peak_exercise_st_segment thal chest_pain_type num_major_vessels fasting_blood_sugar_gt_120_mg_per_dl resting_ekg_results sex exercise_induced_angina'.split()\n",
        "\n",
        "cats"
      ],
      "execution_count": 0,
      "outputs": [
        {
          "output_type": "execute_result",
          "data": {
            "text/plain": [
              "['slope_of_peak_exercise_st_segment',\n",
              " 'thal',\n",
              " 'chest_pain_type',\n",
              " 'num_major_vessels',\n",
              " 'fasting_blood_sugar_gt_120_mg_per_dl',\n",
              " 'resting_ekg_results',\n",
              " 'sex',\n",
              " 'exercise_induced_angina']"
            ]
          },
          "metadata": {
            "tags": []
          },
          "execution_count": 4
        }
      ]
    },
    {
      "cell_type": "code",
      "metadata": {
        "id": "8YvQsYyY-PWp",
        "colab_type": "code",
        "outputId": "393af8a4-3b67-48ba-a469-25ff7b93cfa9",
        "colab": {
          "base_uri": "https://localhost:8080/",
          "height": 102
        }
      },
      "source": [
        "cats.pop(cats.index('fasting_blood_sugar_gt_120_mg_per_dl'))\n",
        "cats.pop(cats.index('exercise_induced_angina'))\n",
        "cats.pop(cats.index('sex'))\n",
        "\n",
        "cats"
      ],
      "execution_count": 0,
      "outputs": [
        {
          "output_type": "execute_result",
          "data": {
            "text/plain": [
              "['slope_of_peak_exercise_st_segment',\n",
              " 'thal',\n",
              " 'chest_pain_type',\n",
              " 'num_major_vessels',\n",
              " 'resting_ekg_results']"
            ]
          },
          "metadata": {
            "tags": []
          },
          "execution_count": 5
        }
      ]
    },
    {
      "cell_type": "code",
      "metadata": {
        "id": "dYBeP-Hv-STg",
        "colab_type": "code",
        "colab": {}
      },
      "source": [
        "ser_serum, bins_serum = pd.qcut(x = all['serum_cholesterol_mg_per_dl'], q = 3, retbins = True, labels = 'low average high'.split())\n",
        "ser_serum.rename('serum_bin', inplace = True)"
      ],
      "execution_count": 0,
      "outputs": []
    },
    {
      "cell_type": "code",
      "metadata": {
        "id": "raRXUiFa-a8g",
        "colab_type": "code",
        "outputId": "c8dc1c91-f75f-498e-9be1-7d8ca90b6eed",
        "colab": {
          "base_uri": "https://localhost:8080/",
          "height": 34
        }
      },
      "source": [
        "ser_hr, bins_hr = pd.qcut(x = all['max_heart_rate_achieved'], retbins = True, q = 4, labels = 'low med high too_high'.split())\n",
        "ser_bp, bins_bp = pd.qcut(x = all['resting_blood_pressure'], retbins = True, q = 4, labels = 'low med high too_high'.split())\n",
        "\n",
        "ser_hr.rename('heart_rate_bin', inplace = True)\n",
        "ser_bp.rename('blood_pressure_bin', inplace = True)\n",
        "\n",
        "print(bins_hr, bins_bp)"
      ],
      "execution_count": 0,
      "outputs": [
        {
          "output_type": "stream",
          "text": [
            "[ 96.   132.   152.   166.25 202.  ] [ 94. 120. 130. 140. 180.]\n"
          ],
          "name": "stdout"
        }
      ]
    },
    {
      "cell_type": "code",
      "metadata": {
        "id": "HpQcVZoc-pLp",
        "colab_type": "code",
        "colab": {}
      },
      "source": [
        "ser_age, bins_age = pd.qcut(x = all['age'], q = 2, retbins = True, labels = 'young old'.split())\n",
        "\n",
        "ser_age.rename('age_bin', inplace = True)\n",
        "# pd.concat([all, ser_age], axis = 1).groupby('age_bin').mean()['heart_disease_present']"
      ],
      "execution_count": 0,
      "outputs": []
    },
    {
      "cell_type": "code",
      "metadata": {
        "id": "p_f5vMi0-uSQ",
        "colab_type": "code",
        "colab": {}
      },
      "source": [
        "ser_depr, bins_depr = pd.qcut(all['oldpeak_eq_st_depression'], q = 3, retbins = True, labels = 'low mid high'.split())\n",
        "\n",
        "ser_depr.rename('depression_bin', inplace = True)"
      ],
      "execution_count": 0,
      "outputs": []
    },
    {
      "cell_type": "code",
      "metadata": {
        "id": "v5YQOirj_AV_",
        "colab_type": "code",
        "outputId": "edd61d1d-5c98-47d7-c580-4c583c78c4f1",
        "colab": {
          "base_uri": "https://localhost:8080/",
          "height": 224
        }
      },
      "source": [
        "all = pd.concat([all, ser_serum, ser_hr, ser_bp, ser_age, ser_depr], axis = 1)\n",
        "all.head()"
      ],
      "execution_count": 0,
      "outputs": [
        {
          "output_type": "execute_result",
          "data": {
            "text/html": [
              "<div>\n",
              "<style scoped>\n",
              "    .dataframe tbody tr th:only-of-type {\n",
              "        vertical-align: middle;\n",
              "    }\n",
              "\n",
              "    .dataframe tbody tr th {\n",
              "        vertical-align: top;\n",
              "    }\n",
              "\n",
              "    .dataframe thead th {\n",
              "        text-align: right;\n",
              "    }\n",
              "</style>\n",
              "<table border=\"1\" class=\"dataframe\">\n",
              "  <thead>\n",
              "    <tr style=\"text-align: right;\">\n",
              "      <th></th>\n",
              "      <th>patient_id</th>\n",
              "      <th>slope_of_peak_exercise_st_segment</th>\n",
              "      <th>thal</th>\n",
              "      <th>resting_blood_pressure</th>\n",
              "      <th>chest_pain_type</th>\n",
              "      <th>num_major_vessels</th>\n",
              "      <th>fasting_blood_sugar_gt_120_mg_per_dl</th>\n",
              "      <th>resting_ekg_results</th>\n",
              "      <th>serum_cholesterol_mg_per_dl</th>\n",
              "      <th>oldpeak_eq_st_depression</th>\n",
              "      <th>sex</th>\n",
              "      <th>age</th>\n",
              "      <th>max_heart_rate_achieved</th>\n",
              "      <th>exercise_induced_angina</th>\n",
              "      <th>heart_disease_present</th>\n",
              "      <th>serum_bin</th>\n",
              "      <th>heart_rate_bin</th>\n",
              "      <th>blood_pressure_bin</th>\n",
              "      <th>age_bin</th>\n",
              "      <th>depression_bin</th>\n",
              "    </tr>\n",
              "  </thead>\n",
              "  <tbody>\n",
              "    <tr>\n",
              "      <th>0</th>\n",
              "      <td>0z64un</td>\n",
              "      <td>1</td>\n",
              "      <td>normal</td>\n",
              "      <td>128</td>\n",
              "      <td>2</td>\n",
              "      <td>0</td>\n",
              "      <td>0</td>\n",
              "      <td>2</td>\n",
              "      <td>308</td>\n",
              "      <td>0.0</td>\n",
              "      <td>1</td>\n",
              "      <td>45</td>\n",
              "      <td>170</td>\n",
              "      <td>0</td>\n",
              "      <td>0</td>\n",
              "      <td>high</td>\n",
              "      <td>too_high</td>\n",
              "      <td>med</td>\n",
              "      <td>young</td>\n",
              "      <td>low</td>\n",
              "    </tr>\n",
              "    <tr>\n",
              "      <th>1</th>\n",
              "      <td>ryoo3j</td>\n",
              "      <td>2</td>\n",
              "      <td>normal</td>\n",
              "      <td>110</td>\n",
              "      <td>3</td>\n",
              "      <td>0</td>\n",
              "      <td>0</td>\n",
              "      <td>0</td>\n",
              "      <td>214</td>\n",
              "      <td>1.6</td>\n",
              "      <td>0</td>\n",
              "      <td>54</td>\n",
              "      <td>158</td>\n",
              "      <td>0</td>\n",
              "      <td>0</td>\n",
              "      <td>low</td>\n",
              "      <td>high</td>\n",
              "      <td>low</td>\n",
              "      <td>young</td>\n",
              "      <td>high</td>\n",
              "    </tr>\n",
              "    <tr>\n",
              "      <th>2</th>\n",
              "      <td>yt1s1x</td>\n",
              "      <td>1</td>\n",
              "      <td>normal</td>\n",
              "      <td>125</td>\n",
              "      <td>4</td>\n",
              "      <td>3</td>\n",
              "      <td>0</td>\n",
              "      <td>2</td>\n",
              "      <td>304</td>\n",
              "      <td>0.0</td>\n",
              "      <td>1</td>\n",
              "      <td>77</td>\n",
              "      <td>162</td>\n",
              "      <td>1</td>\n",
              "      <td>1</td>\n",
              "      <td>high</td>\n",
              "      <td>high</td>\n",
              "      <td>med</td>\n",
              "      <td>old</td>\n",
              "      <td>low</td>\n",
              "    </tr>\n",
              "    <tr>\n",
              "      <th>3</th>\n",
              "      <td>l2xjde</td>\n",
              "      <td>1</td>\n",
              "      <td>reversible_defect</td>\n",
              "      <td>152</td>\n",
              "      <td>4</td>\n",
              "      <td>0</td>\n",
              "      <td>0</td>\n",
              "      <td>0</td>\n",
              "      <td>223</td>\n",
              "      <td>0.0</td>\n",
              "      <td>1</td>\n",
              "      <td>40</td>\n",
              "      <td>181</td>\n",
              "      <td>0</td>\n",
              "      <td>1</td>\n",
              "      <td>low</td>\n",
              "      <td>too_high</td>\n",
              "      <td>too_high</td>\n",
              "      <td>young</td>\n",
              "      <td>low</td>\n",
              "    </tr>\n",
              "    <tr>\n",
              "      <th>4</th>\n",
              "      <td>oyt4ek</td>\n",
              "      <td>3</td>\n",
              "      <td>reversible_defect</td>\n",
              "      <td>178</td>\n",
              "      <td>1</td>\n",
              "      <td>0</td>\n",
              "      <td>0</td>\n",
              "      <td>2</td>\n",
              "      <td>270</td>\n",
              "      <td>4.2</td>\n",
              "      <td>1</td>\n",
              "      <td>59</td>\n",
              "      <td>145</td>\n",
              "      <td>0</td>\n",
              "      <td>0</td>\n",
              "      <td>high</td>\n",
              "      <td>med</td>\n",
              "      <td>too_high</td>\n",
              "      <td>old</td>\n",
              "      <td>high</td>\n",
              "    </tr>\n",
              "  </tbody>\n",
              "</table>\n",
              "</div>"
            ],
            "text/plain": [
              "  patient_id  slope_of_peak_exercise_st_segment  ... age_bin  depression_bin\n",
              "0     0z64un                                  1  ...   young             low\n",
              "1     ryoo3j                                  2  ...   young            high\n",
              "2     yt1s1x                                  1  ...     old             low\n",
              "3     l2xjde                                  1  ...   young             low\n",
              "4     oyt4ek                                  3  ...     old            high\n",
              "\n",
              "[5 rows x 20 columns]"
            ]
          },
          "metadata": {
            "tags": []
          },
          "execution_count": 10
        }
      ]
    },
    {
      "cell_type": "code",
      "metadata": {
        "id": "qb1NZ-N__ZPv",
        "colab_type": "code",
        "outputId": "c2d234b5-73dd-435e-9fee-e5474ab5a41e",
        "colab": {
          "base_uri": "https://localhost:8080/",
          "height": 119
        }
      },
      "source": [
        "all[cats].nunique()"
      ],
      "execution_count": 0,
      "outputs": [
        {
          "output_type": "execute_result",
          "data": {
            "text/plain": [
              "slope_of_peak_exercise_st_segment    3\n",
              "thal                                 3\n",
              "chest_pain_type                      4\n",
              "num_major_vessels                    4\n",
              "resting_ekg_results                  3\n",
              "dtype: int64"
            ]
          },
          "metadata": {
            "tags": []
          },
          "execution_count": 11
        }
      ]
    },
    {
      "cell_type": "code",
      "metadata": {
        "id": "E7zqLY-b_vLu",
        "colab_type": "code",
        "colab": {}
      },
      "source": [
        "to_drop = 'serum_cholesterol_mg_per_dl max_heart_rate_achieved resting_blood_pressure age oldpeak_eq_st_depression'.split()\n",
        "\n",
        "all = all.drop(labels = to_drop, axis = 1)"
      ],
      "execution_count": 0,
      "outputs": []
    },
    {
      "cell_type": "code",
      "metadata": {
        "id": "K39xOCGPAxOU",
        "colab_type": "code",
        "outputId": "f6726fe5-48be-469e-94ae-aee301d003b9",
        "colab": {
          "base_uri": "https://localhost:8080/",
          "height": 224
        }
      },
      "source": [
        "all_dummied = pd.get_dummies(data = all, columns = cats, prefix_sep = '|', drop_first = True)\n",
        "\n",
        "all_dummied.head()"
      ],
      "execution_count": 0,
      "outputs": [
        {
          "output_type": "execute_result",
          "data": {
            "text/html": [
              "<div>\n",
              "<style scoped>\n",
              "    .dataframe tbody tr th:only-of-type {\n",
              "        vertical-align: middle;\n",
              "    }\n",
              "\n",
              "    .dataframe tbody tr th {\n",
              "        vertical-align: top;\n",
              "    }\n",
              "\n",
              "    .dataframe thead th {\n",
              "        text-align: right;\n",
              "    }\n",
              "</style>\n",
              "<table border=\"1\" class=\"dataframe\">\n",
              "  <thead>\n",
              "    <tr style=\"text-align: right;\">\n",
              "      <th></th>\n",
              "      <th>patient_id</th>\n",
              "      <th>fasting_blood_sugar_gt_120_mg_per_dl</th>\n",
              "      <th>sex</th>\n",
              "      <th>exercise_induced_angina</th>\n",
              "      <th>heart_disease_present</th>\n",
              "      <th>serum_bin</th>\n",
              "      <th>heart_rate_bin</th>\n",
              "      <th>blood_pressure_bin</th>\n",
              "      <th>age_bin</th>\n",
              "      <th>depression_bin</th>\n",
              "      <th>slope_of_peak_exercise_st_segment|2</th>\n",
              "      <th>slope_of_peak_exercise_st_segment|3</th>\n",
              "      <th>thal|normal</th>\n",
              "      <th>thal|reversible_defect</th>\n",
              "      <th>chest_pain_type|2</th>\n",
              "      <th>chest_pain_type|3</th>\n",
              "      <th>chest_pain_type|4</th>\n",
              "      <th>num_major_vessels|1</th>\n",
              "      <th>num_major_vessels|2</th>\n",
              "      <th>num_major_vessels|3</th>\n",
              "      <th>resting_ekg_results|1</th>\n",
              "      <th>resting_ekg_results|2</th>\n",
              "    </tr>\n",
              "  </thead>\n",
              "  <tbody>\n",
              "    <tr>\n",
              "      <th>0</th>\n",
              "      <td>0z64un</td>\n",
              "      <td>0</td>\n",
              "      <td>1</td>\n",
              "      <td>0</td>\n",
              "      <td>0</td>\n",
              "      <td>high</td>\n",
              "      <td>too_high</td>\n",
              "      <td>med</td>\n",
              "      <td>young</td>\n",
              "      <td>low</td>\n",
              "      <td>0</td>\n",
              "      <td>0</td>\n",
              "      <td>1</td>\n",
              "      <td>0</td>\n",
              "      <td>1</td>\n",
              "      <td>0</td>\n",
              "      <td>0</td>\n",
              "      <td>0</td>\n",
              "      <td>0</td>\n",
              "      <td>0</td>\n",
              "      <td>0</td>\n",
              "      <td>1</td>\n",
              "    </tr>\n",
              "    <tr>\n",
              "      <th>1</th>\n",
              "      <td>ryoo3j</td>\n",
              "      <td>0</td>\n",
              "      <td>0</td>\n",
              "      <td>0</td>\n",
              "      <td>0</td>\n",
              "      <td>low</td>\n",
              "      <td>high</td>\n",
              "      <td>low</td>\n",
              "      <td>young</td>\n",
              "      <td>high</td>\n",
              "      <td>1</td>\n",
              "      <td>0</td>\n",
              "      <td>1</td>\n",
              "      <td>0</td>\n",
              "      <td>0</td>\n",
              "      <td>1</td>\n",
              "      <td>0</td>\n",
              "      <td>0</td>\n",
              "      <td>0</td>\n",
              "      <td>0</td>\n",
              "      <td>0</td>\n",
              "      <td>0</td>\n",
              "    </tr>\n",
              "    <tr>\n",
              "      <th>2</th>\n",
              "      <td>yt1s1x</td>\n",
              "      <td>0</td>\n",
              "      <td>1</td>\n",
              "      <td>1</td>\n",
              "      <td>1</td>\n",
              "      <td>high</td>\n",
              "      <td>high</td>\n",
              "      <td>med</td>\n",
              "      <td>old</td>\n",
              "      <td>low</td>\n",
              "      <td>0</td>\n",
              "      <td>0</td>\n",
              "      <td>1</td>\n",
              "      <td>0</td>\n",
              "      <td>0</td>\n",
              "      <td>0</td>\n",
              "      <td>1</td>\n",
              "      <td>0</td>\n",
              "      <td>0</td>\n",
              "      <td>1</td>\n",
              "      <td>0</td>\n",
              "      <td>1</td>\n",
              "    </tr>\n",
              "    <tr>\n",
              "      <th>3</th>\n",
              "      <td>l2xjde</td>\n",
              "      <td>0</td>\n",
              "      <td>1</td>\n",
              "      <td>0</td>\n",
              "      <td>1</td>\n",
              "      <td>low</td>\n",
              "      <td>too_high</td>\n",
              "      <td>too_high</td>\n",
              "      <td>young</td>\n",
              "      <td>low</td>\n",
              "      <td>0</td>\n",
              "      <td>0</td>\n",
              "      <td>0</td>\n",
              "      <td>1</td>\n",
              "      <td>0</td>\n",
              "      <td>0</td>\n",
              "      <td>1</td>\n",
              "      <td>0</td>\n",
              "      <td>0</td>\n",
              "      <td>0</td>\n",
              "      <td>0</td>\n",
              "      <td>0</td>\n",
              "    </tr>\n",
              "    <tr>\n",
              "      <th>4</th>\n",
              "      <td>oyt4ek</td>\n",
              "      <td>0</td>\n",
              "      <td>1</td>\n",
              "      <td>0</td>\n",
              "      <td>0</td>\n",
              "      <td>high</td>\n",
              "      <td>med</td>\n",
              "      <td>too_high</td>\n",
              "      <td>old</td>\n",
              "      <td>high</td>\n",
              "      <td>0</td>\n",
              "      <td>1</td>\n",
              "      <td>0</td>\n",
              "      <td>1</td>\n",
              "      <td>0</td>\n",
              "      <td>0</td>\n",
              "      <td>0</td>\n",
              "      <td>0</td>\n",
              "      <td>0</td>\n",
              "      <td>0</td>\n",
              "      <td>0</td>\n",
              "      <td>1</td>\n",
              "    </tr>\n",
              "  </tbody>\n",
              "</table>\n",
              "</div>"
            ],
            "text/plain": [
              "  patient_id  ...  resting_ekg_results|2\n",
              "0     0z64un  ...                      1\n",
              "1     ryoo3j  ...                      0\n",
              "2     yt1s1x  ...                      1\n",
              "3     l2xjde  ...                      0\n",
              "4     oyt4ek  ...                      1\n",
              "\n",
              "[5 rows x 22 columns]"
            ]
          },
          "metadata": {
            "tags": []
          },
          "execution_count": 13
        }
      ]
    },
    {
      "cell_type": "code",
      "metadata": {
        "id": "Lp4h2P-pBAEL",
        "colab_type": "code",
        "colab": {}
      },
      "source": [
        "all_dummied.nunique()"
      ],
      "execution_count": 0,
      "outputs": []
    },
    {
      "cell_type": "code",
      "metadata": {
        "id": "09nXmc0OBEqj",
        "colab_type": "code",
        "outputId": "7e91d034-e311-4d3c-e03f-d01b011393d7",
        "colab": {
          "base_uri": "https://localhost:8080/",
          "height": 224
        }
      },
      "source": [
        "submis_df = pd.read_csv(test_vals)\n",
        "submis_df.head()"
      ],
      "execution_count": 0,
      "outputs": [
        {
          "output_type": "execute_result",
          "data": {
            "text/html": [
              "<div>\n",
              "<style scoped>\n",
              "    .dataframe tbody tr th:only-of-type {\n",
              "        vertical-align: middle;\n",
              "    }\n",
              "\n",
              "    .dataframe tbody tr th {\n",
              "        vertical-align: top;\n",
              "    }\n",
              "\n",
              "    .dataframe thead th {\n",
              "        text-align: right;\n",
              "    }\n",
              "</style>\n",
              "<table border=\"1\" class=\"dataframe\">\n",
              "  <thead>\n",
              "    <tr style=\"text-align: right;\">\n",
              "      <th></th>\n",
              "      <th>patient_id</th>\n",
              "      <th>slope_of_peak_exercise_st_segment</th>\n",
              "      <th>thal</th>\n",
              "      <th>resting_blood_pressure</th>\n",
              "      <th>chest_pain_type</th>\n",
              "      <th>num_major_vessels</th>\n",
              "      <th>fasting_blood_sugar_gt_120_mg_per_dl</th>\n",
              "      <th>resting_ekg_results</th>\n",
              "      <th>serum_cholesterol_mg_per_dl</th>\n",
              "      <th>oldpeak_eq_st_depression</th>\n",
              "      <th>sex</th>\n",
              "      <th>age</th>\n",
              "      <th>max_heart_rate_achieved</th>\n",
              "      <th>exercise_induced_angina</th>\n",
              "    </tr>\n",
              "  </thead>\n",
              "  <tbody>\n",
              "    <tr>\n",
              "      <th>0</th>\n",
              "      <td>olalu7</td>\n",
              "      <td>2</td>\n",
              "      <td>reversible_defect</td>\n",
              "      <td>170</td>\n",
              "      <td>1</td>\n",
              "      <td>0</td>\n",
              "      <td>0</td>\n",
              "      <td>2</td>\n",
              "      <td>288</td>\n",
              "      <td>0.2</td>\n",
              "      <td>1</td>\n",
              "      <td>59</td>\n",
              "      <td>159</td>\n",
              "      <td>0</td>\n",
              "    </tr>\n",
              "    <tr>\n",
              "      <th>1</th>\n",
              "      <td>z9n6mx</td>\n",
              "      <td>1</td>\n",
              "      <td>normal</td>\n",
              "      <td>138</td>\n",
              "      <td>4</td>\n",
              "      <td>0</td>\n",
              "      <td>0</td>\n",
              "      <td>0</td>\n",
              "      <td>183</td>\n",
              "      <td>1.4</td>\n",
              "      <td>0</td>\n",
              "      <td>35</td>\n",
              "      <td>182</td>\n",
              "      <td>0</td>\n",
              "    </tr>\n",
              "    <tr>\n",
              "      <th>2</th>\n",
              "      <td>5k4413</td>\n",
              "      <td>2</td>\n",
              "      <td>reversible_defect</td>\n",
              "      <td>120</td>\n",
              "      <td>4</td>\n",
              "      <td>0</td>\n",
              "      <td>0</td>\n",
              "      <td>2</td>\n",
              "      <td>177</td>\n",
              "      <td>2.5</td>\n",
              "      <td>1</td>\n",
              "      <td>43</td>\n",
              "      <td>120</td>\n",
              "      <td>1</td>\n",
              "    </tr>\n",
              "    <tr>\n",
              "      <th>3</th>\n",
              "      <td>mrg7q5</td>\n",
              "      <td>1</td>\n",
              "      <td>normal</td>\n",
              "      <td>102</td>\n",
              "      <td>3</td>\n",
              "      <td>1</td>\n",
              "      <td>0</td>\n",
              "      <td>0</td>\n",
              "      <td>318</td>\n",
              "      <td>0.0</td>\n",
              "      <td>0</td>\n",
              "      <td>60</td>\n",
              "      <td>160</td>\n",
              "      <td>0</td>\n",
              "    </tr>\n",
              "    <tr>\n",
              "      <th>4</th>\n",
              "      <td>uki4do</td>\n",
              "      <td>2</td>\n",
              "      <td>normal</td>\n",
              "      <td>138</td>\n",
              "      <td>4</td>\n",
              "      <td>1</td>\n",
              "      <td>0</td>\n",
              "      <td>2</td>\n",
              "      <td>166</td>\n",
              "      <td>3.6</td>\n",
              "      <td>1</td>\n",
              "      <td>61</td>\n",
              "      <td>125</td>\n",
              "      <td>1</td>\n",
              "    </tr>\n",
              "  </tbody>\n",
              "</table>\n",
              "</div>"
            ],
            "text/plain": [
              "  patient_id  ...  exercise_induced_angina\n",
              "0     olalu7  ...                        0\n",
              "1     z9n6mx  ...                        0\n",
              "2     5k4413  ...                        1\n",
              "3     mrg7q5  ...                        0\n",
              "4     uki4do  ...                        1\n",
              "\n",
              "[5 rows x 14 columns]"
            ]
          },
          "metadata": {
            "tags": []
          },
          "execution_count": 14
        }
      ]
    },
    {
      "cell_type": "code",
      "metadata": {
        "id": "tyXnTBt5BQuz",
        "colab_type": "code",
        "colab": {}
      },
      "source": [
        "# create series\n",
        "submis_serum = pd.cut(submis_df['serum_cholesterol_mg_per_dl'], bins = bins_serum, labels = 'low average high'.split(), include_lowest = True)\n",
        "submis_hr = pd.cut(submis_df['max_heart_rate_achieved'], bins = bins_hr, labels = 'low med high too_high'.split(), include_lowest = True)\n",
        "submis_bp = pd.cut(submis_df['resting_blood_pressure'], bins = bins_bp, labels = 'low med high too_high'.split(), include_lowest = True)\n",
        "submis_age = pd.cut(submis_df['age'], bins = bins_age, labels = 'young old'.split(), include_lowest = True)\n",
        "submis_depr = pd.cut(submis_df['oldpeak_eq_st_depression'], bins = bins_depr, labels = 'low mid high'.split(), include_lowest = True)\n",
        "\n",
        "#rename series\n",
        "submis_serum.rename('serum_bin', inplace = True)\n",
        "submis_hr.rename('heart_rate_bin', inplace = True)\n",
        "submis_bp.rename('blood_pressure_bin', inplace = True)\n",
        "submis_age.rename('age_bin', inplace = True)\n",
        "submis_depr.rename('depression_bin', inplace = True)"
      ],
      "execution_count": 0,
      "outputs": []
    },
    {
      "cell_type": "code",
      "metadata": {
        "id": "_RCKyqQpC7QX",
        "colab_type": "code",
        "colab": {}
      },
      "source": [
        "submis_df = pd.concat([submis_df, submis_serum, submis_hr, submis_bp, submis_age, submis_depr], axis = 1)\n"
      ],
      "execution_count": 0,
      "outputs": []
    },
    {
      "cell_type": "code",
      "metadata": {
        "id": "Z9feQjU4ERAU",
        "colab_type": "code",
        "outputId": "eb90751a-d606-4f40-afce-ae3070b05058",
        "colab": {
          "base_uri": "https://localhost:8080/",
          "height": 357
        }
      },
      "source": [
        "submis_df.isnull().sum()"
      ],
      "execution_count": 0,
      "outputs": [
        {
          "output_type": "execute_result",
          "data": {
            "text/plain": [
              "patient_id                              0\n",
              "slope_of_peak_exercise_st_segment       0\n",
              "thal                                    0\n",
              "resting_blood_pressure                  0\n",
              "chest_pain_type                         0\n",
              "num_major_vessels                       0\n",
              "fasting_blood_sugar_gt_120_mg_per_dl    0\n",
              "resting_ekg_results                     0\n",
              "serum_cholesterol_mg_per_dl             0\n",
              "oldpeak_eq_st_depression                0\n",
              "sex                                     0\n",
              "age                                     0\n",
              "max_heart_rate_achieved                 0\n",
              "exercise_induced_angina                 0\n",
              "serum_bin                               0\n",
              "heart_rate_bin                          3\n",
              "blood_pressure_bin                      2\n",
              "age_bin                                 0\n",
              "depression_bin                          0\n",
              "dtype: int64"
            ]
          },
          "metadata": {
            "tags": []
          },
          "execution_count": 17
        }
      ]
    },
    {
      "cell_type": "code",
      "metadata": {
        "id": "rMFQP_o7E3Nw",
        "colab_type": "code",
        "colab": {}
      },
      "source": [
        "submis_df['heart_rate_bin'].fillna('low', inplace = True)"
      ],
      "execution_count": 0,
      "outputs": []
    },
    {
      "cell_type": "code",
      "metadata": {
        "id": "ioCP6kVChAgc",
        "colab_type": "code",
        "outputId": "440541d9-e878-4dda-b346-ed32fe269ff6",
        "colab": {
          "base_uri": "https://localhost:8080/",
          "height": 162
        }
      },
      "source": [
        "submis_df[submis_df['heart_rate_bin'].isnull()]"
      ],
      "execution_count": 0,
      "outputs": [
        {
          "output_type": "execute_result",
          "data": {
            "text/html": [
              "<div>\n",
              "<style scoped>\n",
              "    .dataframe tbody tr th:only-of-type {\n",
              "        vertical-align: middle;\n",
              "    }\n",
              "\n",
              "    .dataframe tbody tr th {\n",
              "        vertical-align: top;\n",
              "    }\n",
              "\n",
              "    .dataframe thead th {\n",
              "        text-align: right;\n",
              "    }\n",
              "</style>\n",
              "<table border=\"1\" class=\"dataframe\">\n",
              "  <thead>\n",
              "    <tr style=\"text-align: right;\">\n",
              "      <th></th>\n",
              "      <th>patient_id</th>\n",
              "      <th>slope_of_peak_exercise_st_segment</th>\n",
              "      <th>thal</th>\n",
              "      <th>resting_blood_pressure</th>\n",
              "      <th>chest_pain_type</th>\n",
              "      <th>num_major_vessels</th>\n",
              "      <th>fasting_blood_sugar_gt_120_mg_per_dl</th>\n",
              "      <th>resting_ekg_results</th>\n",
              "      <th>serum_cholesterol_mg_per_dl</th>\n",
              "      <th>oldpeak_eq_st_depression</th>\n",
              "      <th>sex</th>\n",
              "      <th>age</th>\n",
              "      <th>max_heart_rate_achieved</th>\n",
              "      <th>exercise_induced_angina</th>\n",
              "      <th>serum_bin</th>\n",
              "      <th>heart_rate_bin</th>\n",
              "      <th>blood_pressure_bin</th>\n",
              "      <th>age_bin</th>\n",
              "      <th>depression_bin</th>\n",
              "    </tr>\n",
              "  </thead>\n",
              "  <tbody>\n",
              "    <tr>\n",
              "      <th>71</th>\n",
              "      <td>9fkefu</td>\n",
              "      <td>2</td>\n",
              "      <td>reversible_defect</td>\n",
              "      <td>123</td>\n",
              "      <td>4</td>\n",
              "      <td>2</td>\n",
              "      <td>0</td>\n",
              "      <td>0</td>\n",
              "      <td>282</td>\n",
              "      <td>2.0</td>\n",
              "      <td>1</td>\n",
              "      <td>53</td>\n",
              "      <td>95</td>\n",
              "      <td>1</td>\n",
              "      <td>high</td>\n",
              "      <td>NaN</td>\n",
              "      <td>med</td>\n",
              "      <td>young</td>\n",
              "      <td>high</td>\n",
              "    </tr>\n",
              "    <tr>\n",
              "      <th>72</th>\n",
              "      <td>6uk6kl</td>\n",
              "      <td>2</td>\n",
              "      <td>reversible_defect</td>\n",
              "      <td>152</td>\n",
              "      <td>4</td>\n",
              "      <td>1</td>\n",
              "      <td>0</td>\n",
              "      <td>0</td>\n",
              "      <td>274</td>\n",
              "      <td>1.2</td>\n",
              "      <td>1</td>\n",
              "      <td>57</td>\n",
              "      <td>88</td>\n",
              "      <td>1</td>\n",
              "      <td>high</td>\n",
              "      <td>NaN</td>\n",
              "      <td>too_high</td>\n",
              "      <td>old</td>\n",
              "      <td>mid</td>\n",
              "    </tr>\n",
              "    <tr>\n",
              "      <th>82</th>\n",
              "      <td>r4hsar</td>\n",
              "      <td>2</td>\n",
              "      <td>normal</td>\n",
              "      <td>120</td>\n",
              "      <td>4</td>\n",
              "      <td>0</td>\n",
              "      <td>0</td>\n",
              "      <td>0</td>\n",
              "      <td>237</td>\n",
              "      <td>1.0</td>\n",
              "      <td>1</td>\n",
              "      <td>67</td>\n",
              "      <td>71</td>\n",
              "      <td>0</td>\n",
              "      <td>average</td>\n",
              "      <td>NaN</td>\n",
              "      <td>low</td>\n",
              "      <td>old</td>\n",
              "      <td>mid</td>\n",
              "    </tr>\n",
              "  </tbody>\n",
              "</table>\n",
              "</div>"
            ],
            "text/plain": [
              "   patient_id  slope_of_peak_exercise_st_segment  ... age_bin  depression_bin\n",
              "71     9fkefu                                  2  ...   young            high\n",
              "72     6uk6kl                                  2  ...     old             mid\n",
              "82     r4hsar                                  2  ...     old             mid\n",
              "\n",
              "[3 rows x 19 columns]"
            ]
          },
          "metadata": {
            "tags": []
          },
          "execution_count": 26
        }
      ]
    },
    {
      "cell_type": "code",
      "metadata": {
        "id": "h3VMpcWTGOfB",
        "colab_type": "code",
        "outputId": "c937c39e-574f-4fd1-cfad-fa1301f7862b",
        "colab": {
          "base_uri": "https://localhost:8080/",
          "height": 34
        }
      },
      "source": [
        "submis_df.isnull().sum().sum()"
      ],
      "execution_count": 0,
      "outputs": [
        {
          "output_type": "execute_result",
          "data": {
            "text/plain": [
              "0"
            ]
          },
          "metadata": {
            "tags": []
          },
          "execution_count": 30
        }
      ]
    },
    {
      "cell_type": "code",
      "metadata": {
        "id": "LIO27BiZGVC4",
        "colab_type": "code",
        "outputId": "afe6c8fb-e922-47ca-e2a8-25f72d8290c7",
        "colab": {
          "base_uri": "https://localhost:8080/",
          "height": 131
        }
      },
      "source": [
        "submis_df.head(2)"
      ],
      "execution_count": 0,
      "outputs": [
        {
          "output_type": "execute_result",
          "data": {
            "text/html": [
              "<div>\n",
              "<style scoped>\n",
              "    .dataframe tbody tr th:only-of-type {\n",
              "        vertical-align: middle;\n",
              "    }\n",
              "\n",
              "    .dataframe tbody tr th {\n",
              "        vertical-align: top;\n",
              "    }\n",
              "\n",
              "    .dataframe thead th {\n",
              "        text-align: right;\n",
              "    }\n",
              "</style>\n",
              "<table border=\"1\" class=\"dataframe\">\n",
              "  <thead>\n",
              "    <tr style=\"text-align: right;\">\n",
              "      <th></th>\n",
              "      <th>patient_id</th>\n",
              "      <th>slope_of_peak_exercise_st_segment</th>\n",
              "      <th>thal</th>\n",
              "      <th>resting_blood_pressure</th>\n",
              "      <th>chest_pain_type</th>\n",
              "      <th>num_major_vessels</th>\n",
              "      <th>fasting_blood_sugar_gt_120_mg_per_dl</th>\n",
              "      <th>resting_ekg_results</th>\n",
              "      <th>serum_cholesterol_mg_per_dl</th>\n",
              "      <th>oldpeak_eq_st_depression</th>\n",
              "      <th>sex</th>\n",
              "      <th>age</th>\n",
              "      <th>max_heart_rate_achieved</th>\n",
              "      <th>exercise_induced_angina</th>\n",
              "      <th>serum_bin</th>\n",
              "      <th>heart_rate_bin</th>\n",
              "      <th>blood_pressure_bin</th>\n",
              "      <th>age_bin</th>\n",
              "      <th>depression_bin</th>\n",
              "    </tr>\n",
              "  </thead>\n",
              "  <tbody>\n",
              "    <tr>\n",
              "      <th>0</th>\n",
              "      <td>olalu7</td>\n",
              "      <td>2</td>\n",
              "      <td>reversible_defect</td>\n",
              "      <td>170</td>\n",
              "      <td>1</td>\n",
              "      <td>0</td>\n",
              "      <td>0</td>\n",
              "      <td>2</td>\n",
              "      <td>288</td>\n",
              "      <td>0.2</td>\n",
              "      <td>1</td>\n",
              "      <td>59</td>\n",
              "      <td>159</td>\n",
              "      <td>0</td>\n",
              "      <td>high</td>\n",
              "      <td>high</td>\n",
              "      <td>too_high</td>\n",
              "      <td>old</td>\n",
              "      <td>mid</td>\n",
              "    </tr>\n",
              "    <tr>\n",
              "      <th>1</th>\n",
              "      <td>z9n6mx</td>\n",
              "      <td>1</td>\n",
              "      <td>normal</td>\n",
              "      <td>138</td>\n",
              "      <td>4</td>\n",
              "      <td>0</td>\n",
              "      <td>0</td>\n",
              "      <td>0</td>\n",
              "      <td>183</td>\n",
              "      <td>1.4</td>\n",
              "      <td>0</td>\n",
              "      <td>35</td>\n",
              "      <td>182</td>\n",
              "      <td>0</td>\n",
              "      <td>low</td>\n",
              "      <td>too_high</td>\n",
              "      <td>high</td>\n",
              "      <td>young</td>\n",
              "      <td>mid</td>\n",
              "    </tr>\n",
              "  </tbody>\n",
              "</table>\n",
              "</div>"
            ],
            "text/plain": [
              "  patient_id  slope_of_peak_exercise_st_segment  ... age_bin  depression_bin\n",
              "0     olalu7                                  2  ...     old             mid\n",
              "1     z9n6mx                                  1  ...   young             mid\n",
              "\n",
              "[2 rows x 19 columns]"
            ]
          },
          "metadata": {
            "tags": []
          },
          "execution_count": 31
        }
      ]
    },
    {
      "cell_type": "code",
      "metadata": {
        "id": "Wy10JPVNGbxg",
        "colab_type": "code",
        "colab": {}
      },
      "source": [
        "submis_df = submis_df.drop(labels = to_drop, axis = 1)"
      ],
      "execution_count": 0,
      "outputs": []
    },
    {
      "cell_type": "code",
      "metadata": {
        "id": "X8F1QsrmGhCf",
        "colab_type": "code",
        "colab": {}
      },
      "source": [
        "submis_df_clean = pd.get_dummies(data = submis_df, columns = cats, prefix_sep = '|', drop_first = True)"
      ],
      "execution_count": 0,
      "outputs": []
    },
    {
      "cell_type": "code",
      "metadata": {
        "id": "VLROr_bHGsI3",
        "colab_type": "code",
        "colab": {}
      },
      "source": [
        "for tr, te in zip(all_dummied.drop(labels = 'heart_disease_present', axis = 1).columns.tolist(),submis_df_clean.columns.tolist()):\n",
        "    print(tr,'\\t', te, '\\n')"
      ],
      "execution_count": 0,
      "outputs": []
    },
    {
      "cell_type": "code",
      "metadata": {
        "id": "2tzwc7UFirf_",
        "colab_type": "code",
        "outputId": "7476790d-1dbc-41e5-98f9-a162aae9b665",
        "colab": {
          "base_uri": "https://localhost:8080/",
          "height": 34
        }
      },
      "source": [
        "check_list = 0\n",
        "\n",
        "for tr, te in zip(all_dummied.drop(labels = 'heart_disease_present', axis = 1).columns.tolist(),submis_df_clean.columns.tolist()):\n",
        "    \n",
        "    if tr != te:\n",
        "        check_list += 1\n",
        "    else:\n",
        "        pass\n",
        "    \n",
        "check_list"
      ],
      "execution_count": 0,
      "outputs": [
        {
          "output_type": "execute_result",
          "data": {
            "text/plain": [
              "0"
            ]
          },
          "metadata": {
            "tags": []
          },
          "execution_count": 41
        }
      ]
    },
    {
      "cell_type": "code",
      "metadata": {
        "id": "Hee3H2x4jEeO",
        "colab_type": "code",
        "colab": {}
      },
      "source": [
        "to_dum = ['serum_bin',\n",
        " 'heart_rate_bin',\n",
        " 'blood_pressure_bin',\n",
        " 'age_bin',\n",
        " 'depression_bin']\n",
        "\n",
        "all_dummied = pd.get_dummies(data= all_dummied, columns = to_dum, drop_first = True, prefix_sep = '|')\n",
        "submis_df_clean = pd.get_dummies(data= submis_df_clean, columns = to_dum, drop_first = True, prefix_sep = '|')"
      ],
      "execution_count": 0,
      "outputs": []
    },
    {
      "cell_type": "code",
      "metadata": {
        "id": "9vF7d767HIM4",
        "colab_type": "code",
        "colab": {}
      },
      "source": [
        "# datasets are in same format, finally."
      ],
      "execution_count": 0,
      "outputs": []
    },
    {
      "cell_type": "code",
      "metadata": {
        "id": "KEsEw4rhHO2Q",
        "colab_type": "code",
        "outputId": "a029af68-6825-4e63-daf0-7a619ba2fb53",
        "colab": {
          "base_uri": "https://localhost:8080/",
          "height": 71
        }
      },
      "source": [
        "from imblearn.over_sampling import SMOTE"
      ],
      "execution_count": 0,
      "outputs": [
        {
          "output_type": "stream",
          "text": [
            "/usr/local/lib/python3.6/dist-packages/sklearn/externals/six.py:31: DeprecationWarning: The module is deprecated in version 0.21 and will be removed in version 0.23 since we've dropped support for Python 2.7. Please rely on the official version of six (https://pypi.org/project/six/).\n",
            "  \"(https://pypi.org/project/six/).\", DeprecationWarning)\n"
          ],
          "name": "stderr"
        }
      ]
    },
    {
      "cell_type": "code",
      "metadata": {
        "id": "doTASztQHVtJ",
        "colab_type": "code",
        "colab": {}
      },
      "source": [
        "sm = SMOTE(random_state = 42)"
      ],
      "execution_count": 0,
      "outputs": []
    },
    {
      "cell_type": "code",
      "metadata": {
        "id": "drmnQx8OHcgg",
        "colab_type": "code",
        "colab": {}
      },
      "source": [
        "x = all_dummied.drop(labels = ['patient_id', 'heart_disease_present'], axis = 1).values\n",
        "y = all_dummied['heart_disease_present'].values"
      ],
      "execution_count": 0,
      "outputs": []
    },
    {
      "cell_type": "code",
      "metadata": {
        "id": "RTh8TAvXHoW5",
        "colab_type": "code",
        "colab": {}
      },
      "source": [
        "from imblearn.over_sampling import SMOTE\n",
        "from sklearn.model_selection import train_test_split as tts, GridSearchCV\n",
        "from sklearn.ensemble import RandomForestClassifier, VotingClassifier\n",
        "from sklearn.linear_model import LogisticRegression\n",
        "from sklearn.svm import SVC\n",
        "from xgboost import XGBClassifier\n",
        "\n",
        "import keras\n",
        "from keras.models import Sequential\n",
        "from keras.layers import Dense\n",
        "\n",
        "from sklearn.metrics import log_loss, classification_report"
      ],
      "execution_count": 0,
      "outputs": []
    },
    {
      "cell_type": "code",
      "metadata": {
        "id": "SOPfPWH7H0M4",
        "colab_type": "code",
        "outputId": "877a7cc1-09c2-450a-ebd9-fe65464be4d2",
        "colab": {
          "base_uri": "https://localhost:8080/",
          "height": 51
        }
      },
      "source": [
        "x_train, x_test, y_train, y_test = tts(x_resampled, y_resampled, random_state = 42, test_size = .22)\n",
        "\n",
        "print(x_train.shape, y_train.shape, '\\n', \n",
        "     x_test.shape, y_test.shape)"
      ],
      "execution_count": 0,
      "outputs": [
        {
          "output_type": "stream",
          "text": [
            "(156, 26) (156,) \n",
            " (44, 26) (44,)\n"
          ],
          "name": "stdout"
        }
      ]
    },
    {
      "cell_type": "code",
      "metadata": {
        "id": "xbUStl0Jr4lD",
        "colab_type": "code",
        "outputId": "153f0adb-77d7-401f-d5c2-d9df547f135d",
        "colab": {
          "base_uri": "https://localhost:8080/",
          "height": 153
        }
      },
      "source": [
        "gs.best_params_"
      ],
      "execution_count": 0,
      "outputs": [
        {
          "output_type": "execute_result",
          "data": {
            "text/plain": [
              "{'lr__C': 0.00915,\n",
              " 'lr__penalty': 'l2',\n",
              " 'rfc__n_estimators': 3,\n",
              " 'svm__C': 0.0085,\n",
              " 'svm__kernel': 'poly',\n",
              " 'xgb__gamma': 0.001,\n",
              " 'xgb__learning_rate': 1,\n",
              " 'xgb__n_estimators': 8}"
            ]
          },
          "metadata": {
            "tags": []
          },
          "execution_count": 82
        }
      ]
    },
    {
      "cell_type": "code",
      "metadata": {
        "id": "9x_7KaMyH4PI",
        "colab_type": "code",
        "colab": {}
      },
      "source": [
        "voters = VotingClassifier(\n",
        "    estimators = [\n",
        "    ('svm', SVC(random_state = 42, probability = True)), \n",
        "    ('lr', LogisticRegression(random_state = 42)), \n",
        "    ('xgb', XGBClassifier(objective = 'binary:logistic')), \n",
        "    ('rfc', RandomForestClassifier())\n",
        "    ], \n",
        "                         voting = 'soft')\n",
        "\n",
        "params = {\n",
        "    'lr__C':[.00915 ], \n",
        "         'lr__penalty':['l2'], \n",
        "         'svm__C':[.0085], \n",
        "         'svm__kernel':['poly'],\n",
        "         'rfc__n_estimators':[3], \n",
        "         'xgb__n_estimators':[8], \n",
        "         'xgb__learning_rate':[1], \n",
        "         'xgb__gamma':[.001]\n",
        "         }\n",
        "\n",
        "\n",
        "gs = GridSearchCV(voters, \n",
        "                 param_grid = params, \n",
        "                 cv = 10, \n",
        "                 verbose = 3, \n",
        "                 n_jobs = -1)\n",
        "\n",
        "gs.fit(x, y)"
      ],
      "execution_count": 0,
      "outputs": []
    },
    {
      "cell_type": "code",
      "metadata": {
        "id": "KmSMBxTSMD8r",
        "colab_type": "code",
        "colab": {}
      },
      "source": [
        "clf_opt = gs.best_estimator_"
      ],
      "execution_count": 0,
      "outputs": []
    },
    {
      "cell_type": "code",
      "metadata": {
        "id": "UVjVF7EQPXii",
        "colab_type": "code",
        "colab": {}
      },
      "source": [
        "submis_np = submis_df_clean.drop(labels = 'patient_id', axis = 1).values"
      ],
      "execution_count": 0,
      "outputs": []
    },
    {
      "cell_type": "code",
      "metadata": {
        "id": "zcrOc9KRPh1p",
        "colab_type": "code",
        "colab": {}
      },
      "source": [
        "submission_df = pd.concat([submis_df_clean['patient_id'], pd.DataFrame(clf_opt.predict_proba(submis_np), columns = [0,'heart_disease_present']).drop(labels = 0, axis = 1)], axis = 1).set_index('patient_id')\n",
        "\n",
        "submission_df.to_csv('submis2.csv')"
      ],
      "execution_count": 0,
      "outputs": []
    },
    {
      "cell_type": "code",
      "metadata": {
        "id": "ZfJBrGOvQIIh",
        "colab_type": "code",
        "colab": {}
      },
      "source": [
        "from keras.optimizers import SGD"
      ],
      "execution_count": 0,
      "outputs": []
    },
    {
      "cell_type": "code",
      "metadata": {
        "id": "DPTLBXfL2qfR",
        "colab_type": "code",
        "outputId": "9257c584-ed9f-4150-bd3b-8abac59c5d94",
        "colab": {
          "base_uri": "https://localhost:8080/",
          "height": 51
        }
      },
      "source": [
        "x_train, x_test, y_train, y_test = tts(x, y, random_state = 42, test_size = .22)\n",
        "\n",
        "print(x_train.shape, y_train.shape, '\\n', \n",
        "     x_test.shape, y_test.shape)"
      ],
      "execution_count": 0,
      "outputs": [
        {
          "output_type": "stream",
          "text": [
            "(140, 26) (140,) \n",
            " (40, 26) (40,)\n"
          ],
          "name": "stdout"
        }
      ]
    },
    {
      "cell_type": "code",
      "metadata": {
        "id": "wMK53FcpJcxP",
        "colab_type": "code",
        "outputId": "5e0d61de-aaf3-42f9-fdfd-d78bc46a09d3",
        "colab": {
          "base_uri": "https://localhost:8080/",
          "height": 1000
        }
      },
      "source": [
        "model = Sequential()\n",
        "\n",
        "model.add(Dense(output_dim = 20 , input_dim = 26, activation = 'relu', init = 'uniform'))\n",
        "model.add(Dense(output_dim = 8, activation = 'relu', init = 'uniform'))\n",
        "model.add(Dense(output_dim = 16, activation = 'relu', init = 'uniform'))\n",
        "# model.add(Dense(output_dim = 14, activation = 'relu'))\n",
        "model.add(Dense(output_dim = 8, activation = 'relu', init = 'uniform'))\n",
        "model.add(Dense(output_dim = 1, activation = 'sigmoid'))\n",
        "\n",
        "\n",
        "# sgd = SGD(lr=0.001, decay=1e-6, momentum=0.9, nesterov=True)\n",
        "model.compile(optimizer = 'adam', metrics = ['accuracy'], loss = 'binary_crossentropy')\n",
        "\n",
        "model.fit(x_train, y_train, epochs = 100, batch_size = 28)\n",
        "\n",
        "print(log_loss(y_test, model.predict_proba(x_test)))"
      ],
      "execution_count": 0,
      "outputs": [
        {
          "output_type": "stream",
          "text": [
            "/usr/local/lib/python3.6/dist-packages/ipykernel_launcher.py:3: UserWarning: Update your `Dense` call to the Keras 2 API: `Dense(input_dim=26, activation=\"relu\", units=20, kernel_initializer=\"uniform\")`\n",
            "  This is separate from the ipykernel package so we can avoid doing imports until\n",
            "/usr/local/lib/python3.6/dist-packages/ipykernel_launcher.py:4: UserWarning: Update your `Dense` call to the Keras 2 API: `Dense(activation=\"relu\", units=8, kernel_initializer=\"uniform\")`\n",
            "  after removing the cwd from sys.path.\n",
            "/usr/local/lib/python3.6/dist-packages/ipykernel_launcher.py:5: UserWarning: Update your `Dense` call to the Keras 2 API: `Dense(activation=\"relu\", units=16, kernel_initializer=\"uniform\")`\n",
            "  \"\"\"\n",
            "/usr/local/lib/python3.6/dist-packages/ipykernel_launcher.py:7: UserWarning: Update your `Dense` call to the Keras 2 API: `Dense(activation=\"relu\", units=8, kernel_initializer=\"uniform\")`\n",
            "  import sys\n",
            "/usr/local/lib/python3.6/dist-packages/ipykernel_launcher.py:8: UserWarning: Update your `Dense` call to the Keras 2 API: `Dense(activation=\"sigmoid\", units=1)`\n",
            "  \n"
          ],
          "name": "stderr"
        },
        {
          "output_type": "stream",
          "text": [
            "Epoch 1/100\n",
            "140/140 [==============================] - 3s 22ms/step - loss: 0.6929 - acc: 0.5286\n",
            "Epoch 2/100\n",
            "140/140 [==============================] - 0s 229us/step - loss: 0.6919 - acc: 0.5929\n",
            "Epoch 3/100\n",
            "140/140 [==============================] - 0s 224us/step - loss: 0.6911 - acc: 0.5929\n",
            "Epoch 4/100\n",
            "140/140 [==============================] - 0s 221us/step - loss: 0.6901 - acc: 0.5929\n",
            "Epoch 5/100\n",
            "140/140 [==============================] - 0s 230us/step - loss: 0.6894 - acc: 0.5929\n",
            "Epoch 6/100\n",
            "140/140 [==============================] - 0s 232us/step - loss: 0.6887 - acc: 0.5929\n",
            "Epoch 7/100\n",
            "140/140 [==============================] - 0s 271us/step - loss: 0.6878 - acc: 0.5929\n",
            "Epoch 8/100\n",
            "140/140 [==============================] - 0s 257us/step - loss: 0.6868 - acc: 0.5929\n",
            "Epoch 9/100\n",
            "140/140 [==============================] - 0s 213us/step - loss: 0.6856 - acc: 0.5929\n",
            "Epoch 10/100\n",
            "140/140 [==============================] - 0s 250us/step - loss: 0.6843 - acc: 0.5929\n",
            "Epoch 11/100\n",
            "140/140 [==============================] - 0s 236us/step - loss: 0.6824 - acc: 0.5929\n",
            "Epoch 12/100\n",
            "140/140 [==============================] - 0s 227us/step - loss: 0.6804 - acc: 0.5929\n",
            "Epoch 13/100\n",
            "140/140 [==============================] - 0s 228us/step - loss: 0.6778 - acc: 0.5929\n",
            "Epoch 14/100\n",
            "140/140 [==============================] - 0s 248us/step - loss: 0.6728 - acc: 0.5929\n",
            "Epoch 15/100\n",
            "140/140 [==============================] - 0s 229us/step - loss: 0.6667 - acc: 0.5929\n",
            "Epoch 16/100\n",
            "140/140 [==============================] - 0s 240us/step - loss: 0.6584 - acc: 0.5929\n",
            "Epoch 17/100\n",
            "140/140 [==============================] - 0s 236us/step - loss: 0.6464 - acc: 0.5929\n",
            "Epoch 18/100\n",
            "140/140 [==============================] - 0s 245us/step - loss: 0.6337 - acc: 0.5929\n",
            "Epoch 19/100\n",
            "140/140 [==============================] - 0s 254us/step - loss: 0.6175 - acc: 0.5929\n",
            "Epoch 20/100\n",
            "140/140 [==============================] - 0s 242us/step - loss: 0.5987 - acc: 0.5929\n",
            "Epoch 21/100\n",
            "140/140 [==============================] - 0s 246us/step - loss: 0.5793 - acc: 0.5929\n",
            "Epoch 22/100\n",
            "140/140 [==============================] - 0s 235us/step - loss: 0.5609 - acc: 0.6071\n",
            "Epoch 23/100\n",
            "140/140 [==============================] - 0s 244us/step - loss: 0.5429 - acc: 0.6929\n",
            "Epoch 24/100\n",
            "140/140 [==============================] - 0s 291us/step - loss: 0.5249 - acc: 0.8214\n",
            "Epoch 25/100\n",
            "140/140 [==============================] - 0s 261us/step - loss: 0.5093 - acc: 0.8286\n",
            "Epoch 26/100\n",
            "140/140 [==============================] - 0s 243us/step - loss: 0.4961 - acc: 0.8357\n",
            "Epoch 27/100\n",
            "140/140 [==============================] - 0s 248us/step - loss: 0.4868 - acc: 0.8429\n",
            "Epoch 28/100\n",
            "140/140 [==============================] - 0s 227us/step - loss: 0.4781 - acc: 0.8429\n",
            "Epoch 29/100\n",
            "140/140 [==============================] - 0s 220us/step - loss: 0.4678 - acc: 0.8429\n",
            "Epoch 30/100\n",
            "140/140 [==============================] - 0s 227us/step - loss: 0.4604 - acc: 0.8571\n",
            "Epoch 31/100\n",
            "140/140 [==============================] - 0s 220us/step - loss: 0.4536 - acc: 0.8643\n",
            "Epoch 32/100\n",
            "140/140 [==============================] - 0s 211us/step - loss: 0.4462 - acc: 0.8643\n",
            "Epoch 33/100\n",
            "140/140 [==============================] - 0s 231us/step - loss: 0.4396 - acc: 0.8714\n",
            "Epoch 34/100\n",
            "140/140 [==============================] - 0s 285us/step - loss: 0.4331 - acc: 0.8714\n",
            "Epoch 35/100\n",
            "140/140 [==============================] - 0s 253us/step - loss: 0.4265 - acc: 0.8714\n",
            "Epoch 36/100\n",
            "140/140 [==============================] - 0s 250us/step - loss: 0.4210 - acc: 0.8643\n",
            "Epoch 37/100\n",
            "140/140 [==============================] - 0s 251us/step - loss: 0.4131 - acc: 0.8643\n",
            "Epoch 38/100\n",
            "140/140 [==============================] - 0s 259us/step - loss: 0.4062 - acc: 0.8714\n",
            "Epoch 39/100\n",
            "140/140 [==============================] - 0s 244us/step - loss: 0.4007 - acc: 0.8714\n",
            "Epoch 40/100\n",
            "140/140 [==============================] - 0s 242us/step - loss: 0.3924 - acc: 0.8714\n",
            "Epoch 41/100\n",
            "140/140 [==============================] - 0s 234us/step - loss: 0.3845 - acc: 0.8714\n",
            "Epoch 42/100\n",
            "140/140 [==============================] - 0s 254us/step - loss: 0.3764 - acc: 0.8714\n",
            "Epoch 43/100\n",
            "140/140 [==============================] - 0s 241us/step - loss: 0.3664 - acc: 0.8714\n",
            "Epoch 44/100\n",
            "140/140 [==============================] - 0s 246us/step - loss: 0.3604 - acc: 0.8786\n",
            "Epoch 45/100\n",
            "140/140 [==============================] - 0s 249us/step - loss: 0.3529 - acc: 0.8714\n",
            "Epoch 46/100\n",
            "140/140 [==============================] - 0s 235us/step - loss: 0.3451 - acc: 0.8714\n",
            "Epoch 47/100\n",
            "140/140 [==============================] - 0s 236us/step - loss: 0.3415 - acc: 0.8643\n",
            "Epoch 48/100\n",
            "140/140 [==============================] - 0s 223us/step - loss: 0.3365 - acc: 0.8714\n",
            "Epoch 49/100\n",
            "140/140 [==============================] - 0s 244us/step - loss: 0.3326 - acc: 0.8714\n",
            "Epoch 50/100\n",
            "140/140 [==============================] - 0s 231us/step - loss: 0.3295 - acc: 0.8714\n",
            "Epoch 51/100\n",
            "140/140 [==============================] - 0s 246us/step - loss: 0.3265 - acc: 0.8714\n",
            "Epoch 52/100\n",
            "140/140 [==============================] - 0s 279us/step - loss: 0.3255 - acc: 0.8714\n",
            "Epoch 53/100\n",
            "140/140 [==============================] - 0s 278us/step - loss: 0.3213 - acc: 0.8643\n",
            "Epoch 54/100\n",
            "140/140 [==============================] - 0s 297us/step - loss: 0.3202 - acc: 0.8571\n",
            "Epoch 55/100\n",
            "140/140 [==============================] - 0s 257us/step - loss: 0.3176 - acc: 0.8500\n",
            "Epoch 56/100\n",
            "140/140 [==============================] - 0s 286us/step - loss: 0.3169 - acc: 0.8643\n",
            "Epoch 57/100\n",
            "140/140 [==============================] - 0s 208us/step - loss: 0.3143 - acc: 0.8643\n",
            "Epoch 58/100\n",
            "140/140 [==============================] - 0s 252us/step - loss: 0.3123 - acc: 0.8786\n",
            "Epoch 59/100\n",
            "140/140 [==============================] - 0s 226us/step - loss: 0.3123 - acc: 0.8500\n",
            "Epoch 60/100\n",
            "140/140 [==============================] - 0s 231us/step - loss: 0.3116 - acc: 0.8571\n",
            "Epoch 61/100\n",
            "140/140 [==============================] - 0s 248us/step - loss: 0.3086 - acc: 0.8643\n",
            "Epoch 62/100\n",
            "140/140 [==============================] - 0s 216us/step - loss: 0.3057 - acc: 0.8643\n",
            "Epoch 63/100\n",
            "140/140 [==============================] - 0s 226us/step - loss: 0.3041 - acc: 0.8643\n",
            "Epoch 64/100\n",
            "140/140 [==============================] - 0s 264us/step - loss: 0.3030 - acc: 0.8786\n",
            "Epoch 65/100\n",
            "140/140 [==============================] - 0s 230us/step - loss: 0.3006 - acc: 0.8643\n",
            "Epoch 66/100\n",
            "140/140 [==============================] - 0s 235us/step - loss: 0.2983 - acc: 0.8643\n",
            "Epoch 67/100\n",
            "140/140 [==============================] - 0s 226us/step - loss: 0.2991 - acc: 0.8643\n",
            "Epoch 68/100\n",
            "140/140 [==============================] - 0s 233us/step - loss: 0.2960 - acc: 0.8714\n",
            "Epoch 69/100\n",
            "140/140 [==============================] - 0s 245us/step - loss: 0.2932 - acc: 0.8714\n",
            "Epoch 70/100\n",
            "140/140 [==============================] - 0s 226us/step - loss: 0.2919 - acc: 0.8786\n",
            "Epoch 71/100\n",
            "140/140 [==============================] - 0s 231us/step - loss: 0.2905 - acc: 0.8714\n",
            "Epoch 72/100\n",
            "140/140 [==============================] - 0s 226us/step - loss: 0.2906 - acc: 0.8643\n",
            "Epoch 73/100\n",
            "140/140 [==============================] - 0s 239us/step - loss: 0.2872 - acc: 0.8643\n",
            "Epoch 74/100\n",
            "140/140 [==============================] - 0s 241us/step - loss: 0.2861 - acc: 0.8786\n",
            "Epoch 75/100\n",
            "140/140 [==============================] - 0s 222us/step - loss: 0.2833 - acc: 0.8857\n",
            "Epoch 76/100\n",
            "140/140 [==============================] - 0s 254us/step - loss: 0.2832 - acc: 0.8786\n",
            "Epoch 77/100\n",
            "140/140 [==============================] - 0s 277us/step - loss: 0.2802 - acc: 0.8714\n",
            "Epoch 78/100\n",
            "140/140 [==============================] - 0s 238us/step - loss: 0.2781 - acc: 0.8786\n",
            "Epoch 79/100\n",
            "140/140 [==============================] - 0s 227us/step - loss: 0.2764 - acc: 0.8714\n",
            "Epoch 80/100\n",
            "140/140 [==============================] - 0s 235us/step - loss: 0.2748 - acc: 0.8714\n",
            "Epoch 81/100\n",
            "140/140 [==============================] - 0s 245us/step - loss: 0.2770 - acc: 0.8714\n",
            "Epoch 82/100\n",
            "140/140 [==============================] - 0s 290us/step - loss: 0.2713 - acc: 0.8714\n",
            "Epoch 83/100\n",
            "140/140 [==============================] - 0s 255us/step - loss: 0.2704 - acc: 0.8929\n",
            "Epoch 84/100\n",
            "140/140 [==============================] - 0s 262us/step - loss: 0.2692 - acc: 0.8929\n",
            "Epoch 85/100\n",
            "140/140 [==============================] - 0s 254us/step - loss: 0.2672 - acc: 0.8714\n",
            "Epoch 86/100\n",
            "140/140 [==============================] - 0s 241us/step - loss: 0.2653 - acc: 0.8714\n",
            "Epoch 87/100\n",
            "140/140 [==============================] - 0s 223us/step - loss: 0.2640 - acc: 0.8786\n",
            "Epoch 88/100\n",
            "140/140 [==============================] - 0s 270us/step - loss: 0.2607 - acc: 0.8929\n",
            "Epoch 89/100\n",
            "140/140 [==============================] - 0s 210us/step - loss: 0.2594 - acc: 0.8786\n",
            "Epoch 90/100\n",
            "140/140 [==============================] - 0s 239us/step - loss: 0.2582 - acc: 0.8714\n",
            "Epoch 91/100\n",
            "140/140 [==============================] - 0s 257us/step - loss: 0.2548 - acc: 0.8857\n",
            "Epoch 92/100\n",
            "140/140 [==============================] - 0s 229us/step - loss: 0.2540 - acc: 0.8929\n",
            "Epoch 93/100\n",
            "140/140 [==============================] - 0s 239us/step - loss: 0.2516 - acc: 0.9000\n",
            "Epoch 94/100\n",
            "140/140 [==============================] - 0s 238us/step - loss: 0.2489 - acc: 0.9000\n",
            "Epoch 95/100\n",
            "140/140 [==============================] - 0s 253us/step - loss: 0.2475 - acc: 0.9071\n",
            "Epoch 96/100\n",
            "140/140 [==============================] - 0s 241us/step - loss: 0.2446 - acc: 0.9143\n",
            "Epoch 97/100\n",
            "140/140 [==============================] - 0s 268us/step - loss: 0.2446 - acc: 0.9000\n",
            "Epoch 98/100\n",
            "140/140 [==============================] - 0s 249us/step - loss: 0.2448 - acc: 0.9000\n",
            "Epoch 99/100\n",
            "140/140 [==============================] - 0s 237us/step - loss: 0.2390 - acc: 0.9071\n",
            "Epoch 100/100\n",
            "140/140 [==============================] - 0s 243us/step - loss: 0.2374 - acc: 0.9071\n",
            "0.6925020989838231\n"
          ],
          "name": "stdout"
        }
      ]
    },
    {
      "cell_type": "code",
      "metadata": {
        "id": "_wUmHbFZ0Wyh",
        "colab_type": "code",
        "outputId": "2c0006bd-535e-46ce-d528-9672da55ebed",
        "colab": {
          "base_uri": "https://localhost:8080/",
          "height": 34
        }
      },
      "source": [
        "print(log_loss(y_test, model.predict_proba(x_test)))\n"
      ],
      "execution_count": 0,
      "outputs": [
        {
          "output_type": "stream",
          "text": [
            "0.46377561772605985\n"
          ],
          "name": "stdout"
        }
      ]
    },
    {
      "cell_type": "code",
      "metadata": {
        "id": "BCBbQtPfRILZ",
        "colab_type": "code",
        "colab": {}
      },
      "source": [
        "submis3 = pd.concat([submis_df_clean['patient_id'] , pd.DataFrame(model.predict_proba(submis_np))], axis = 1).set_index('patient_id')"
      ],
      "execution_count": 0,
      "outputs": []
    },
    {
      "cell_type": "code",
      "metadata": {
        "id": "gSzoiCtASOpI",
        "colab_type": "code",
        "colab": {}
      },
      "source": [
        "submis3.rename({0:'heart_disease_present'}, axis = 1, inplace = True)\n",
        "\n",
        "submis3.to_csv('submis_dnn2.csv')"
      ],
      "execution_count": 0,
      "outputs": []
    }
  ]
}